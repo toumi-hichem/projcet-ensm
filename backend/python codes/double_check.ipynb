{
 "cells": [
  {
   "cell_type": "code",
   "execution_count": 1,
   "id": "071e0fe0",
   "metadata": {},
   "outputs": [],
   "source": [
    "import pandas as pd\n",
    "import numpy as np\n",
    "import matplotlib.pyplot as plt\n",
    "import seaborn as sns\n",
    "%matplotlib inline"
   ]
  },
  {
   "cell_type": "code",
   "execution_count": 1,
   "id": "5dcfd7e1",
   "metadata": {},
   "outputs": [
    {
     "name": "stdout",
     "output_type": "stream",
     "text": [
      "(42748735, 7)\n"
     ]
    },
    {
     "data": {
      "application/vnd.microsoft.datawrangler.viewer.v0+json": {
       "columns": [
        {
         "name": "index",
         "rawType": "int64",
         "type": "integer"
        },
        {
         "name": "RECPTCL_FID",
         "rawType": "object",
         "type": "unknown"
        },
        {
         "name": "MAILITM_FID",
         "rawType": "object",
         "type": "string"
        },
        {
         "name": "EVENT_TYPE_NM",
         "rawType": "object",
         "type": "string"
        },
        {
         "name": "date",
         "rawType": "object",
         "type": "string"
        },
        {
         "name": "établissement_postal",
         "rawType": "object",
         "type": "string"
        },
        {
         "name": "EVENT_TYPE_CD",
         "rawType": "object",
         "type": "string"
        },
        {
         "name": "next_établissement_postal",
         "rawType": "object",
         "type": "unknown"
        }
       ],
       "ref": "dde57d2b-43b7-4682-a8ec-5cbee9226ed6",
       "rows": [
        [
         "0",
         null,
         "CC021659473ES",
         "Insérer envoi dans sac (Srt)",
         "2024-01-31 20:11:00.000",
         "ESPAGNE",
         "8",
         null
        ],
        [
         "1",
         null,
         "CC021662747ES",
         "Réception d'envoi du client (Srt)",
         "2024-01-31 12:31:00.000",
         "ESPAGNE",
         "1",
         null
        ],
        [
         "2",
         null,
         "CC021662747ES",
         "Insérer envoi dans sac (Srt)",
         "2024-02-05 12:46:00.000",
         "ESPAGNE",
         "8",
         null
        ],
        [
         "3",
         null,
         "CC021663328ES",
         "Réception d'envoi du client (Srt)",
         "2024-01-31 13:51:00.000",
         "ESPAGNE",
         "1",
         null
        ],
        [
         "4",
         null,
         "CC021663328ES",
         "Insérer envoi dans sac (Srt)",
         "2024-02-01 12:32:00.000",
         "ESPAGNE",
         "8",
         null
        ]
       ],
       "shape": {
        "columns": 7,
        "rows": 5
       }
      },
      "text/html": [
       "<div>\n",
       "<style scoped>\n",
       "    .dataframe tbody tr th:only-of-type {\n",
       "        vertical-align: middle;\n",
       "    }\n",
       "\n",
       "    .dataframe tbody tr th {\n",
       "        vertical-align: top;\n",
       "    }\n",
       "\n",
       "    .dataframe thead th {\n",
       "        text-align: right;\n",
       "    }\n",
       "</style>\n",
       "<table border=\"1\" class=\"dataframe\">\n",
       "  <thead>\n",
       "    <tr style=\"text-align: right;\">\n",
       "      <th></th>\n",
       "      <th>RECPTCL_FID</th>\n",
       "      <th>MAILITM_FID</th>\n",
       "      <th>EVENT_TYPE_NM</th>\n",
       "      <th>date</th>\n",
       "      <th>établissement_postal</th>\n",
       "      <th>EVENT_TYPE_CD</th>\n",
       "      <th>next_établissement_postal</th>\n",
       "    </tr>\n",
       "  </thead>\n",
       "  <tbody>\n",
       "    <tr>\n",
       "      <th>0</th>\n",
       "      <td>NaN</td>\n",
       "      <td>CC021659473ES</td>\n",
       "      <td>Insérer envoi dans sac (Srt)</td>\n",
       "      <td>2024-01-31 20:11:00.000</td>\n",
       "      <td>ESPAGNE</td>\n",
       "      <td>8</td>\n",
       "      <td>NaN</td>\n",
       "    </tr>\n",
       "    <tr>\n",
       "      <th>1</th>\n",
       "      <td>NaN</td>\n",
       "      <td>CC021662747ES</td>\n",
       "      <td>Réception d'envoi du client (Srt)</td>\n",
       "      <td>2024-01-31 12:31:00.000</td>\n",
       "      <td>ESPAGNE</td>\n",
       "      <td>1</td>\n",
       "      <td>NaN</td>\n",
       "    </tr>\n",
       "    <tr>\n",
       "      <th>2</th>\n",
       "      <td>NaN</td>\n",
       "      <td>CC021662747ES</td>\n",
       "      <td>Insérer envoi dans sac (Srt)</td>\n",
       "      <td>2024-02-05 12:46:00.000</td>\n",
       "      <td>ESPAGNE</td>\n",
       "      <td>8</td>\n",
       "      <td>NaN</td>\n",
       "    </tr>\n",
       "    <tr>\n",
       "      <th>3</th>\n",
       "      <td>NaN</td>\n",
       "      <td>CC021663328ES</td>\n",
       "      <td>Réception d'envoi du client (Srt)</td>\n",
       "      <td>2024-01-31 13:51:00.000</td>\n",
       "      <td>ESPAGNE</td>\n",
       "      <td>1</td>\n",
       "      <td>NaN</td>\n",
       "    </tr>\n",
       "    <tr>\n",
       "      <th>4</th>\n",
       "      <td>NaN</td>\n",
       "      <td>CC021663328ES</td>\n",
       "      <td>Insérer envoi dans sac (Srt)</td>\n",
       "      <td>2024-02-01 12:32:00.000</td>\n",
       "      <td>ESPAGNE</td>\n",
       "      <td>8</td>\n",
       "      <td>NaN</td>\n",
       "    </tr>\n",
       "  </tbody>\n",
       "</table>\n",
       "</div>"
      ],
      "text/plain": [
       "  RECPTCL_FID    MAILITM_FID                      EVENT_TYPE_NM  \\\n",
       "0         NaN  CC021659473ES       Insérer envoi dans sac (Srt)   \n",
       "1         NaN  CC021662747ES  Réception d'envoi du client (Srt)   \n",
       "2         NaN  CC021662747ES       Insérer envoi dans sac (Srt)   \n",
       "3         NaN  CC021663328ES  Réception d'envoi du client (Srt)   \n",
       "4         NaN  CC021663328ES       Insérer envoi dans sac (Srt)   \n",
       "\n",
       "                      date établissement_postal EVENT_TYPE_CD  \\\n",
       "0  2024-01-31 20:11:00.000              ESPAGNE             8   \n",
       "1  2024-01-31 12:31:00.000              ESPAGNE             1   \n",
       "2  2024-02-05 12:46:00.000              ESPAGNE             8   \n",
       "3  2024-01-31 13:51:00.000              ESPAGNE             1   \n",
       "4  2024-02-01 12:32:00.000              ESPAGNE             8   \n",
       "\n",
       "  next_établissement_postal  \n",
       "0                       NaN  \n",
       "1                       NaN  \n",
       "2                       NaN  \n",
       "3                       NaN  \n",
       "4                       NaN  "
      ]
     },
     "execution_count": 1,
     "metadata": {},
     "output_type": "execute_result"
    }
   ],
   "source": [
    "import pandas as pd\n",
    "import io\n",
    "\n",
    "FILE_PATH = \"EXPORT_DATA_envoi_01_01_2022_30_04_2025.csv\"\n",
    "TARGET_BYTES = 5 * 1024**3          # 1 GB\n",
    "ENCODING = \"utf-8-sig\"              # <- handles UTF-8 + BOM correctly\n",
    "\n",
    "def load_first_gb(path, target_bytes=TARGET_BYTES, **read_kwargs):\n",
    "    \"\"\"Return a DataFrame containing (a little under) `target_bytes` worth of data.\"\"\"\n",
    "    buffers = []\n",
    "    bytes_so_far = 0\n",
    "\n",
    "    with open(path, \"rb\") as f:             # binary mode so we can count raw bytes\n",
    "        header = f.readline()               # keep header line\n",
    "        bytes_so_far += len(header)\n",
    "        buffers.append(header)\n",
    "\n",
    "        # stream line by line until we cross the target\n",
    "        for line in f:\n",
    "            bytes_so_far += len(line)\n",
    "            if bytes_so_far > target_bytes:\n",
    "                break\n",
    "            buffers.append(line)\n",
    "\n",
    "    # glue the captured bytes into an in-memory file-like object\n",
    "    pseudo_file = io.BytesIO(b\"\".join(buffers))\n",
    "\n",
    "    df = pd.read_csv(\n",
    "        pseudo_file,\n",
    "        sep=\";\",\n",
    "        encoding=ENCODING,\n",
    "        on_bad_lines=\"skip\",\n",
    "        dtype=str,\n",
    "        low_memory=False,\n",
    "        **read_kwargs,\n",
    "    )\n",
    "\n",
    "    # nuke any BOM that sneaked into the first column name\n",
    "    df.columns = df.columns.str.lstrip(\"\\ufeff\")\n",
    "\n",
    "    return df\n",
    "\n",
    "# --------- grab the first ≈1 GB ---------\n",
    "df = load_first_gb(FILE_PATH)\n",
    "print(df.shape)\n",
    "df.head()\n"
   ]
  },
  {
   "cell_type": "code",
   "execution_count": 21,
   "id": "66a23a16",
   "metadata": {},
   "outputs": [
    {
     "name": "stderr",
     "output_type": "stream",
     "text": [
      "C:\\Users\\oussa\\AppData\\Local\\Temp\\ipykernel_24320\\3985784990.py:1: DtypeWarning: Columns (0,4,6) have mixed types. Specify dtype option on import or set low_memory=False.\n",
      "  df = pd.read_csv(\"df_with_durations_01.csv\", parse_dates=[\"date\"])\n"
     ]
    }
   ],
   "source": [
    "df = pd.read_csv(\"df_with_durations_01.csv\", parse_dates=[\"date\"])"
   ]
  },
  {
   "cell_type": "code",
   "execution_count": 22,
   "id": "9168f349",
   "metadata": {},
   "outputs": [
    {
     "data": {
      "application/vnd.microsoft.datawrangler.viewer.v0+json": {
       "columns": [
        {
         "name": "index",
         "rawType": "int64",
         "type": "integer"
        },
        {
         "name": "RECPTCL_FID",
         "rawType": "object",
         "type": "unknown"
        },
        {
         "name": "MAILITM_FID",
         "rawType": "object",
         "type": "string"
        },
        {
         "name": "EVENT_TYPE_NM",
         "rawType": "object",
         "type": "string"
        },
        {
         "name": "date",
         "rawType": "object",
         "type": "string"
        },
        {
         "name": "établissement_postal",
         "rawType": "object",
         "type": "unknown"
        },
        {
         "name": "EVENT_TYPE_CD",
         "rawType": "int64",
         "type": "integer"
        },
        {
         "name": "next_établissement_postal",
         "rawType": "object",
         "type": "unknown"
        },
        {
         "name": "id",
         "rawType": "object",
         "type": "string"
        },
        {
         "name": "duration_to_next_step",
         "rawType": "object",
         "type": "unknown"
        },
        {
         "name": "total_duration",
         "rawType": "object",
         "type": "string"
        }
       ],
       "ref": "3f2eecff-9bee-4bd8-a30a-100a25efec28",
       "rows": [
        [
         "0",
         null,
         "CA000020800LY",
         "Insérer envoi dans sac (Srt)",
         "2022-02-03 10:19:00.000",
         null,
         "8",
         null,
         "LY",
         "6 days 22:15:00",
         "6 days 22:15:00"
        ],
        [
         "1",
         null,
         "CA000020800LY",
         "Insérer envoi dans sac (Srt)",
         "2022-02-10 08:34:00.000",
         "LIBYENNE, JAMAHIRIYA ARABE",
         "8",
         null,
         "LY",
         null,
         "6 days 22:15:00"
        ],
        [
         "2",
         null,
         "CA000020844RU",
         "Réception d'envoi du client (Srt)",
         "2024-12-10 16:40:00.000",
         "RUSSIE, FÉDÉRATION DE",
         "1",
         null,
         "RU",
         null,
         "0 days 00:00:00"
        ],
        [
         "3",
         null,
         "CA000086085US",
         "Réception d'envoi du client (Srt)",
         "2024-11-16 00:31:00.000",
         "ÉTATS-UNIS",
         "1",
         null,
         "US",
         "8 days 08:07:00",
         "8 days 08:07:00"
        ],
        [
         "4",
         null,
         "CA000086085US",
         "Insérer envoi dans sac (Srt)",
         "2024-11-24 08:38:00.000",
         "ÉTATS-UNIS",
         "8",
         null,
         "US",
         null,
         "8 days 08:07:00"
        ]
       ],
       "shape": {
        "columns": 10,
        "rows": 5
       }
      },
      "text/html": [
       "<div>\n",
       "<style scoped>\n",
       "    .dataframe tbody tr th:only-of-type {\n",
       "        vertical-align: middle;\n",
       "    }\n",
       "\n",
       "    .dataframe tbody tr th {\n",
       "        vertical-align: top;\n",
       "    }\n",
       "\n",
       "    .dataframe thead th {\n",
       "        text-align: right;\n",
       "    }\n",
       "</style>\n",
       "<table border=\"1\" class=\"dataframe\">\n",
       "  <thead>\n",
       "    <tr style=\"text-align: right;\">\n",
       "      <th></th>\n",
       "      <th>RECPTCL_FID</th>\n",
       "      <th>MAILITM_FID</th>\n",
       "      <th>EVENT_TYPE_NM</th>\n",
       "      <th>date</th>\n",
       "      <th>établissement_postal</th>\n",
       "      <th>EVENT_TYPE_CD</th>\n",
       "      <th>next_établissement_postal</th>\n",
       "      <th>id</th>\n",
       "      <th>duration_to_next_step</th>\n",
       "      <th>total_duration</th>\n",
       "    </tr>\n",
       "  </thead>\n",
       "  <tbody>\n",
       "    <tr>\n",
       "      <th>0</th>\n",
       "      <td>NaN</td>\n",
       "      <td>CA000020800LY</td>\n",
       "      <td>Insérer envoi dans sac (Srt)</td>\n",
       "      <td>2022-02-03 10:19:00.000</td>\n",
       "      <td>NaN</td>\n",
       "      <td>8</td>\n",
       "      <td>NaN</td>\n",
       "      <td>LY</td>\n",
       "      <td>6 days 22:15:00</td>\n",
       "      <td>6 days 22:15:00</td>\n",
       "    </tr>\n",
       "    <tr>\n",
       "      <th>1</th>\n",
       "      <td>NaN</td>\n",
       "      <td>CA000020800LY</td>\n",
       "      <td>Insérer envoi dans sac (Srt)</td>\n",
       "      <td>2022-02-10 08:34:00.000</td>\n",
       "      <td>LIBYENNE, JAMAHIRIYA ARABE</td>\n",
       "      <td>8</td>\n",
       "      <td>NaN</td>\n",
       "      <td>LY</td>\n",
       "      <td>NaN</td>\n",
       "      <td>6 days 22:15:00</td>\n",
       "    </tr>\n",
       "    <tr>\n",
       "      <th>2</th>\n",
       "      <td>NaN</td>\n",
       "      <td>CA000020844RU</td>\n",
       "      <td>Réception d'envoi du client (Srt)</td>\n",
       "      <td>2024-12-10 16:40:00.000</td>\n",
       "      <td>RUSSIE, FÉDÉRATION DE</td>\n",
       "      <td>1</td>\n",
       "      <td>NaN</td>\n",
       "      <td>RU</td>\n",
       "      <td>NaN</td>\n",
       "      <td>0 days 00:00:00</td>\n",
       "    </tr>\n",
       "    <tr>\n",
       "      <th>3</th>\n",
       "      <td>NaN</td>\n",
       "      <td>CA000086085US</td>\n",
       "      <td>Réception d'envoi du client (Srt)</td>\n",
       "      <td>2024-11-16 00:31:00.000</td>\n",
       "      <td>ÉTATS-UNIS</td>\n",
       "      <td>1</td>\n",
       "      <td>NaN</td>\n",
       "      <td>US</td>\n",
       "      <td>8 days 08:07:00</td>\n",
       "      <td>8 days 08:07:00</td>\n",
       "    </tr>\n",
       "    <tr>\n",
       "      <th>4</th>\n",
       "      <td>NaN</td>\n",
       "      <td>CA000086085US</td>\n",
       "      <td>Insérer envoi dans sac (Srt)</td>\n",
       "      <td>2024-11-24 08:38:00.000</td>\n",
       "      <td>ÉTATS-UNIS</td>\n",
       "      <td>8</td>\n",
       "      <td>NaN</td>\n",
       "      <td>US</td>\n",
       "      <td>NaN</td>\n",
       "      <td>8 days 08:07:00</td>\n",
       "    </tr>\n",
       "  </tbody>\n",
       "</table>\n",
       "</div>"
      ],
      "text/plain": [
       "  RECPTCL_FID    MAILITM_FID                      EVENT_TYPE_NM  \\\n",
       "0         NaN  CA000020800LY       Insérer envoi dans sac (Srt)   \n",
       "1         NaN  CA000020800LY       Insérer envoi dans sac (Srt)   \n",
       "2         NaN  CA000020844RU  Réception d'envoi du client (Srt)   \n",
       "3         NaN  CA000086085US  Réception d'envoi du client (Srt)   \n",
       "4         NaN  CA000086085US       Insérer envoi dans sac (Srt)   \n",
       "\n",
       "                      date        établissement_postal  EVENT_TYPE_CD  \\\n",
       "0  2022-02-03 10:19:00.000                         NaN              8   \n",
       "1  2022-02-10 08:34:00.000  LIBYENNE, JAMAHIRIYA ARABE              8   \n",
       "2  2024-12-10 16:40:00.000       RUSSIE, FÉDÉRATION DE              1   \n",
       "3  2024-11-16 00:31:00.000                  ÉTATS-UNIS              1   \n",
       "4  2024-11-24 08:38:00.000                  ÉTATS-UNIS              8   \n",
       "\n",
       "  next_établissement_postal  id duration_to_next_step   total_duration  \n",
       "0                       NaN  LY       6 days 22:15:00  6 days 22:15:00  \n",
       "1                       NaN  LY                   NaN  6 days 22:15:00  \n",
       "2                       NaN  RU                   NaN  0 days 00:00:00  \n",
       "3                       NaN  US       8 days 08:07:00  8 days 08:07:00  \n",
       "4                       NaN  US                   NaN  8 days 08:07:00  "
      ]
     },
     "execution_count": 22,
     "metadata": {},
     "output_type": "execute_result"
    }
   ],
   "source": [
    "df.head()"
   ]
  },
  {
   "cell_type": "code",
   "execution_count": 2,
   "id": "b210ad53",
   "metadata": {},
   "outputs": [
    {
     "name": "stdout",
     "output_type": "stream",
     "text": [
      "Number of duplicate rows (ignoring specified columns): 25235\n"
     ]
    }
   ],
   "source": [
    "# Define columns to ignore when checking duplicates\n",
    "cols_ignore = [\"RECPTCL_FID\", \"duration_to_next_step\", \"total_duration\", \"id\"]\n",
    "cols_check  = [c for c in df.columns if c not in cols_ignore]\n",
    "\n",
    "# 1. Identify all duplicate rows based on cols_check\n",
    "dup_mask = df.duplicated(subset=cols_check, keep=False)\n",
    "\n",
    "# 2. Number of such duplicate rows\n",
    "num_duplicates = dup_mask.sum()\n",
    "print(f\"Number of duplicate rows (ignoring specified columns): {num_duplicates}\")\n",
    "\n",
    "\n"
   ]
  },
  {
   "cell_type": "code",
   "execution_count": null,
   "id": "881ce9a7",
   "metadata": {},
   "outputs": [],
   "source": []
  }
 ],
 "metadata": {
  "kernelspec": {
   "display_name": "base",
   "language": "python",
   "name": "python3"
  },
  "language_info": {
   "codemirror_mode": {
    "name": "ipython",
    "version": 3
   },
   "file_extension": ".py",
   "mimetype": "text/x-python",
   "name": "python",
   "nbconvert_exporter": "python",
   "pygments_lexer": "ipython3",
   "version": "3.10.9"
  }
 },
 "nbformat": 4,
 "nbformat_minor": 5
}
