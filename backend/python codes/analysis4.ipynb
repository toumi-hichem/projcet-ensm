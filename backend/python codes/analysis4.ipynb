{
 "cells": [
  {
   "cell_type": "code",
   "execution_count": 1,
   "id": "7dc48e25",
   "metadata": {},
   "outputs": [],
   "source": [
    "import pandas as pd\n",
    "import numpy as np\n",
    "import matplotlib.pyplot as plt\n",
    "import seaborn as sns\n",
    "%matplotlib inline"
   ]
  },
  {
   "cell_type": "code",
   "execution_count": 2,
   "id": "2ed4022b",
   "metadata": {},
   "outputs": [],
   "source": [
    "file_name = \"df_count_3_part1.csv\"   "
   ]
  },
  {
   "cell_type": "code",
   "execution_count": 3,
   "id": "b46b746c",
   "metadata": {},
   "outputs": [
    {
     "name": "stderr",
     "output_type": "stream",
     "text": [
      "C:\\Users\\oussa\\AppData\\Local\\Temp\\ipykernel_4912\\1571972478.py:1: DtypeWarning: Columns (4) have mixed types. Specify dtype option on import or set low_memory=False.\n",
      "  df = pd.read_csv(file_name , parse_dates=[\"date\"])\n"
     ]
    }
   ],
   "source": [
    " \n",
    "df = pd.read_csv(file_name , parse_dates=[\"date\"])\n"
   ]
  },
  {
   "cell_type": "code",
   "execution_count": 4,
   "id": "bec3e2eb",
   "metadata": {},
   "outputs": [
    {
     "data": {
      "text/plain": [
       "(11785664, 10)"
      ]
     },
     "execution_count": 4,
     "metadata": {},
     "output_type": "execute_result"
    }
   ],
   "source": [
    "df.shape"
   ]
  },
  {
   "cell_type": "code",
   "execution_count": 5,
   "id": "ed9bfdeb",
   "metadata": {},
   "outputs": [],
   "source": [
    "# Read the country reference file\n",
    "df_countries = pd.read_csv(\"CT_COUNTRIES.csv\", sep=\";\", header=None, names=[\"code\", \"lang\", \"name\"])\n",
    "\n",
    "country_dict = df_countries.set_index(\"code\")[\"name\"].to_dict()"
   ]
  },
  {
   "cell_type": "code",
   "execution_count": 6,
   "id": "789237c0",
   "metadata": {},
   "outputs": [
    {
     "name": "stdout",
     "output_type": "stream",
     "text": [
      "Number of duplicate rows (ignoring specified columns): 14890\n"
     ]
    }
   ],
   "source": [
    "# Define columns to ignore when checking duplicates\n",
    "cols_ignore = [\"RECPTCL_FID\", \"duration_to_next_step\", \"total_duration\", \"id\"]\n",
    "cols_check  = [c for c in df.columns if c not in cols_ignore]\n",
    "\n",
    "# 1. Identify all duplicate rows based on cols_check\n",
    "dup_mask = df.duplicated(subset=cols_check, keep=False)\n",
    "\n",
    "# 2. Number of such duplicate rows\n",
    "num_duplicates = dup_mask.sum()\n",
    "print(f\"Number of duplicate rows (ignoring specified columns): {num_duplicates}\")\n",
    "\n",
    "\n"
   ]
  },
  {
   "cell_type": "code",
   "execution_count": 7,
   "id": "eee67ebd",
   "metadata": {},
   "outputs": [],
   "source": [
    "df = df.drop_duplicates(subset=cols_check, keep=\"first\").reset_index(drop=True)"
   ]
  },
  {
   "cell_type": "code",
   "execution_count": 8,
   "id": "8d148084",
   "metadata": {},
   "outputs": [
    {
     "name": "stdout",
     "output_type": "stream",
     "text": [
      "First-event frequencies:\n",
      "Insérer envoi dans sac (Srt)             833,948\n",
      "Réception d'envoi du client (Srt)        223,534\n",
      "Expédition d'envoi à l'étranger (EDI-reçu) 1,007\n"
     ]
    }
   ],
   "source": [
    "import pandas as pd\n",
    "\n",
    "ID_COL    = \"MAILITM_FID\"\n",
    "EVENT_COL = \"EVENT_TYPE_NM\"\n",
    "\n",
    "# 1) pick the first row per parcel (rows are already in correct order)\n",
    "first_events = (\n",
    "    df.groupby(ID_COL, sort=False)[EVENT_COL]\n",
    "      .first()                 # a Series: index = parcel ID, value = first event\n",
    ")\n",
    "\n",
    "# 2) count how many parcels have each first event\n",
    "event_counts = (\n",
    "    first_events.value_counts()   # Series: index = event, value = count\n",
    "               .sort_values(ascending=False)\n",
    ")\n",
    "\n",
    "# 3) print the result\n",
    "print(\"First-event frequencies:\")\n",
    "for event, count in event_counts.items():\n",
    "    print(f\"{event:40} {count:,}\")\n"
   ]
  },
  {
   "cell_type": "code",
   "execution_count": 9,
   "id": "a59e7f14",
   "metadata": {},
   "outputs": [
    {
     "name": "stdout",
     "output_type": "stream",
     "text": [
      "RECPTCL_FID                  1408923\n",
      "établissement_postal         1471842\n",
      "next_établissement_postal    7281355\n",
      "duration_to_next_step        3171616\n",
      "dtype: int64\n"
     ]
    }
   ],
   "source": [
    "missing_values = df.isnull().sum()\n",
    "missing_columns = missing_values[missing_values > 0]\n",
    "print(missing_columns)"
   ]
  },
  {
   "cell_type": "code",
   "execution_count": 10,
   "id": "e6e8e14c",
   "metadata": {},
   "outputs": [],
   "source": [
    "df = df.drop(columns=[\"RECPTCL_FID\", \"duration_to_next_step\", \"total_duration\"])"
   ]
  },
  {
   "cell_type": "code",
   "execution_count": 11,
   "id": "32d936e7",
   "metadata": {},
   "outputs": [
    {
     "name": "stdout",
     "output_type": "stream",
     "text": [
      "établissement_postal         1471842\n",
      "next_établissement_postal    7281355\n",
      "dtype: int64\n"
     ]
    }
   ],
   "source": [
    "missing_values = df.isnull().sum()\n",
    "missing_columns = missing_values[missing_values > 0]\n",
    "print(missing_columns)"
   ]
  },
  {
   "cell_type": "code",
   "execution_count": 12,
   "id": "38f06752",
   "metadata": {},
   "outputs": [
    {
     "name": "stdout",
     "output_type": "stream",
     "text": [
      "Total rows with missing values: 7943805\n"
     ]
    }
   ],
   "source": [
    "\n",
    "# Assuming 'df' is your DataFrame!\n",
    "\n",
    "# Identify the rows with missing values\n",
    "missing_rows = df[df.isnull().any(axis=1)]\n",
    "\n",
    "# Print the total number of rows that have missing values\n",
    "print(\"Total rows with missing values:\", missing_rows.shape[0])\n",
    "\n",
    "\n"
   ]
  },
  {
   "cell_type": "code",
   "execution_count": 13,
   "id": "47bc4e02",
   "metadata": {},
   "outputs": [
    {
     "name": "stdout",
     "output_type": "stream",
     "text": [
      "\n",
      "Summary of missing patterns (tuple of 0's and 1's corresponding to missing values in each column):\n",
      "(0, 0, 0, 0, 0, 1, 0)    6471963\n",
      "(0, 0, 0, 1, 0, 1, 0)     809392\n",
      "(0, 0, 0, 1, 0, 0, 0)     662450\n",
      "dtype: int64\n"
     ]
    }
   ],
   "source": [
    "# Analyze the missing patterns across rows:\n",
    "# Create a binary pattern for each row where 1 indicates a missing value and 0 indicates non-missing.\n",
    "missing_pattern = missing_rows.isnull().astype(int)\n",
    "# Convert each pattern to a tuple to use as a key for groupby\n",
    "missing_pattern_tuples = missing_pattern.apply(tuple, axis=1)\n",
    "# Group by the missing pattern and count the number of rows for each pattern\n",
    "pattern_summary = missing_rows.groupby(missing_pattern_tuples).size().sort_values(ascending=False)\n",
    "\n",
    "print(\"\\nSummary of missing patterns (tuple of 0's and 1's corresponding to missing values in each column):\")\n",
    "print(pattern_summary)\n",
    "\n"
   ]
  },
  {
   "cell_type": "code",
   "execution_count": 14,
   "id": "9c54464c",
   "metadata": {},
   "outputs": [
    {
     "name": "stdout",
     "output_type": "stream",
     "text": [
      "EVENT_TYPE_NM                     24\n",
      "EVENT_TYPE_CD                     24\n",
      "id                                57\n",
      "next_établissement_postal       3433\n",
      "établissement_postal            3566\n",
      "MAILITM_FID                  1058489\n",
      "date                         9260169\n",
      "dtype: int64\n"
     ]
    }
   ],
   "source": [
    "distinct_values_count = df.nunique()\n",
    "\n",
    "distinct_values_count = distinct_values_count.sort_values(ascending=True)\n",
    "\n",
    "print(distinct_values_count)"
   ]
  },
  {
   "cell_type": "code",
   "execution_count": 15,
   "id": "6f3c108a",
   "metadata": {},
   "outputs": [
    {
     "name": "stdout",
     "output_type": "stream",
     "text": [
      "EVENT_TYPE_NM\n",
      "Recevoir envoi au bureau de livraison (Ent)                    2248484\n",
      "Expédier envoi à adresse nationale (Ent)                       1970159\n",
      "Expédier envoi à adresse nationale (Srt)                       1433458\n",
      "Insérer envoi dans sac (Srt)                                   1089055\n",
      "Recevoir envoi au bureau d'échange (Ent)                       1080070\n",
      "Expédition d'envoi à l'étranger (EDI-reçu)                     1061650\n",
      "Livraison d'envoi (Ent)                                         967145\n",
      "Vaine tentative de livraison d'envoi (Ent)                      808366\n",
      "Transmettre envoi à l'agent de livraison (Ent)                  584783\n",
      "Réception d'envoi du client (Srt)                               333783\n",
      "Enregistrer détails d'envoi au bureau d'échange (Srt)           153380\n",
      "Expédier envoi à la douane (Ent)                                 20919\n",
      "Recevoir envoi au bureau d'échange (Srt)                         12145\n",
      "Renvoyer envoi de la douane (Ent)                                10038\n",
      "Recevoir envoi au lieu (Ent)                                      1686\n",
      "Renvoyer envoi de la douane (Srt)                                 1142\n",
      "Mettre à jour envoi (Ent)                                          895\n",
      "Enregistrer raison de rétention d'envoi par la douane (Srt)        517\n",
      "Enregistrer informations douanières d'envoi (Ent)                  490\n",
      "Recevoir envoi au lieu (Srt)                                        20\n",
      "Garder envoi au point de livraison (Ent)                             7\n",
      "Expédier envoi à la douane (Srt)                                     6\n",
      "Mettre à jour envoi (Srt)                                            1\n",
      "Supprimer envoi du sac (Srt)                                         1\n",
      "Name: count, dtype: int64\n"
     ]
    }
   ],
   "source": [
    "\n",
    "# Count the occurrences of each protocol\n",
    "event_type = df['EVENT_TYPE_NM'].value_counts()\n",
    "\n",
    "print(event_type)\n"
   ]
  },
  {
   "cell_type": "code",
   "execution_count": 16,
   "id": "ab434c1f",
   "metadata": {},
   "outputs": [
    {
     "name": "stdout",
     "output_type": "stream",
     "text": [
      "établissement_postal\n",
      "ALGER GARE                   1757197\n",
      "ALGER COLIS POSTAUX          1258347\n",
      "SINGAPOUR                     624269\n",
      "CONSTANTINE COLIS POSTAUX     479672\n",
      "ANNABA EL MARSA               310988\n",
      "                              ...   \n",
      "ÉGYPTE                             1\n",
      "THILIDJENE                         1\n",
      "BAB-EL-ASSA                        1\n",
      "METIRCHOU                          1\n",
      "SAIDA-UNIVERSITE                   1\n",
      "Name: count, Length: 3566, dtype: int64\n"
     ]
    }
   ],
   "source": [
    "\n",
    "# Count the occurrences of each protocol\n",
    "proto_counts = df['établissement_postal'].value_counts()\n",
    "\n",
    "print(proto_counts)\n"
   ]
  },
  {
   "cell_type": "code",
   "execution_count": 17,
   "id": "8e84c609",
   "metadata": {},
   "outputs": [
    {
     "name": "stdout",
     "output_type": "stream",
     "text": [
      "next_établissement_postal\n",
      "ALGÉRIE                      1061650\n",
      "SECTION PAQUETS CPX ALGER     463752\n",
      "ALGER GARE                    367359\n",
      "CONSTANTINE COLIS POSTAUX     169816\n",
      "ORAN COLIS POSTAUX            164591\n",
      "                              ...   \n",
      "SERIANA-ERIS                       1\n",
      "AOKAS-20-AOUT-1956                 1\n",
      "AKBOU-GUELDAMENE                   1\n",
      "OULED HELLAL                       1\n",
      "EL BAYADH FRERES FERADJI           1\n",
      "Name: count, Length: 3433, dtype: int64\n"
     ]
    }
   ],
   "source": [
    "# Count the occurrences of each protocol\n",
    "proto_counts = df['next_établissement_postal'].value_counts()\n",
    "\n",
    "print(proto_counts)\n",
    "\n"
   ]
  },
  {
   "cell_type": "code",
   "execution_count": 18,
   "id": "a8ff1ba4",
   "metadata": {},
   "outputs": [
    {
     "name": "stdout",
     "output_type": "stream",
     "text": [
      "id\n",
      "SG    8811627\n",
      "NL    2496080\n",
      "DE     275049\n",
      "MY     106151\n",
      "PL      18646\n",
      "SE      14101\n",
      "SA      11054\n",
      "AE      11036\n",
      "AU       5740\n",
      "NO       5320\n",
      "LU       3317\n",
      "PT       2435\n",
      "PK       2279\n",
      "IN       1957\n",
      "QA       1903\n",
      "EE       1184\n",
      "CZ       1153\n",
      "BR        970\n",
      "US        912\n",
      "SI        836\n",
      "RU        835\n",
      "OM        664\n",
      "PS        601\n",
      "TR        583\n",
      "NZ        552\n",
      "HK        476\n",
      "KZ        463\n",
      "FR        445\n",
      "HR        349\n",
      "LV        220\n",
      "ES        219\n",
      "CL        182\n",
      "FI        141\n",
      "IQ         98\n",
      "IT         69\n",
      "PE         69\n",
      "TN         62\n",
      "BA         58\n",
      "BY         44\n",
      "XZ         43\n",
      "BE         39\n",
      "ID         26\n",
      "CA         26\n",
      "CN         23\n",
      "IE         23\n",
      "RS         20\n",
      "BQ         16\n",
      "JP         16\n",
      "VU         16\n",
      "UA         13\n",
      "MA         12\n",
      "BF          9\n",
      "ZA          9\n",
      "UY          8\n",
      "CV          8\n",
      "VN          7\n",
      "AT          6\n",
      "Name: count, dtype: int64\n"
     ]
    }
   ],
   "source": [
    "\n",
    "# Count the occurrences of each protocol\n",
    "proto_counts = df['id'].value_counts()\n",
    "\n",
    "print(proto_counts)\n",
    "\n",
    "s = proto_counts\n"
   ]
  },
  {
   "cell_type": "code",
   "execution_count": 19,
   "id": "bc7a80e2",
   "metadata": {},
   "outputs": [
    {
     "name": "stdout",
     "output_type": "stream",
     "text": [
      "id\n",
      "SINGAPOUR                         8811627\n",
      "PAYS-BAS                          2496080\n",
      "ALLEMAGNE                          275049\n",
      "MALAISIE                           106151\n",
      "POLOGNE                             18646\n",
      "SUÈDE                               14101\n",
      "ARABIE SAOUDITE                     11054\n",
      "ÉMIRATS ARABES UNIS                 11036\n",
      "AUSTRALIE                            5740\n",
      "NORVÈGE                              5320\n",
      "LUXEMBOURG                           3317\n",
      "PORTUGAL                             2435\n",
      "PAKISTAN                             2279\n",
      "INDE                                 1957\n",
      "QATAR                                1903\n",
      "ESTONIE                              1184\n",
      "TCHÈQUE, RÉPUBLIQUE                  1153\n",
      "BRÉSIL                                970\n",
      "ÉTATS-UNIS                            912\n",
      "SLOVÉNIE                              836\n",
      "RUSSIE, FÉDÉRATION DE                 835\n",
      "OMAN                                  664\n",
      "PALESTINIEN OCCUPÉ, TERRITOIRE        601\n",
      "TURQUIE                               583\n",
      "NOUVELLE-ZÉLANDE                      552\n",
      "HONG-KONG                             476\n",
      "KAZAKHSTAN                            463\n",
      "FRANCE                                445\n",
      "CROATIE                               349\n",
      "LETTONIE                              220\n",
      "ESPAGNE                               219\n",
      "CHILI                                 182\n",
      "FINLANDE                              141\n",
      "IRAQ                                   98\n",
      "ITALIE                                 69\n",
      "PÉROU                                  69\n",
      "TUNISIE                                62\n",
      "BOSNIE-HERZÉGOVINE                     58\n",
      "BÉLARUS                                44\n",
      "XZ                                     43\n",
      "BELGIQUE                               39\n",
      "INDONÉSIE                              26\n",
      "CANADA                                 26\n",
      "CHINE                                  23\n",
      "IRLANDE                                23\n",
      "SERBIE                                 20\n",
      "BQ                                     16\n",
      "JAPON                                  16\n",
      "VANUATU                                16\n",
      "UKRAINE                                13\n",
      "MAROC                                  12\n",
      "BURKINA FASO                            9\n",
      "AFRIQUE DU SUD                          9\n",
      "URUGUAY                                 8\n",
      "CAP-VERT                                8\n",
      "VIET NAM                                7\n",
      "AUTRICHE                                6\n",
      "Name: count, dtype: int64\n"
     ]
    }
   ],
   "source": [
    "# Map the Series index using the country_dict\n",
    "s.index = s.index.map(lambda code: country_dict.get(code, code))  # Keep unmapped codes as-is\n",
    "print(s)"
   ]
  },
  {
   "cell_type": "code",
   "execution_count": 20,
   "id": "ccd08de2",
   "metadata": {},
   "outputs": [
    {
     "name": "stdout",
     "output_type": "stream",
     "text": [
      "Min date: 2020-01-05 08:54:58.627\n",
      "Max date: 2025-05-21 15:26:16.373\n"
     ]
    }
   ],
   "source": [
    "print(\"Min date:\", df[\"date\"].min())\n",
    "print(\"Max date:\", df[\"date\"].max())"
   ]
  },
  {
   "cell_type": "code",
   "execution_count": 21,
   "id": "6acf2a8f",
   "metadata": {},
   "outputs": [
    {
     "name": "stderr",
     "output_type": "stream",
     "text": [
      "C:\\Users\\oussa\\AppData\\Local\\Temp\\ipykernel_4912\\579475394.py:2: UserWarning: The argument 'infer_datetime_format' is deprecated and will be removed in a future version. A strict version of it is now the default, see https://pandas.pydata.org/pdeps/0004-consistent-to-datetime-parsing.html. You can safely remove this argument.\n",
      "  df[\"date\"] = pd.to_datetime(df[\"date\"], infer_datetime_format=True)\n"
     ]
    }
   ],
   "source": [
    "df[\"date\"] = df[\"date\"].str.replace(r'\\.\\d+$', '', regex=True)\n",
    "df[\"date\"] = pd.to_datetime(df[\"date\"], infer_datetime_format=True)"
   ]
  },
  {
   "cell_type": "code",
   "execution_count": 22,
   "id": "9a6d3a40",
   "metadata": {},
   "outputs": [],
   "source": [
    "df = df.sort_values(by=[\"MAILITM_FID\", \"date\"])\n",
    "\n",
    "# Calculate time to next step\n",
    "df[\"duration_to_next_step\"] = df.groupby(\"MAILITM_FID\")[\"date\"].shift(-1) - df[\"date\"]\n",
    "\n",
    "# Calculate total duration per ID\n",
    "first_date = df.groupby(\"MAILITM_FID\")[\"date\"].transform(\"first\")\n",
    "last_date = df.groupby(\"MAILITM_FID\")[\"date\"].transform(\"last\")\n",
    "df[\"total_duration\"] = last_date - first_date\n",
    "\n",
    "\n"
   ]
  },
  {
   "cell_type": "code",
   "execution_count": 23,
   "id": "0d6f26da",
   "metadata": {},
   "outputs": [
    {
     "data": {
      "application/vnd.microsoft.datawrangler.viewer.v0+json": {
       "columns": [
        {
         "name": "index",
         "rawType": "int64",
         "type": "integer"
        },
        {
         "name": "MAILITM_FID",
         "rawType": "object",
         "type": "string"
        },
        {
         "name": "date",
         "rawType": "datetime64[ns]",
         "type": "datetime"
        },
        {
         "name": "EVENT_TYPE_NM",
         "rawType": "object",
         "type": "string"
        },
        {
         "name": "duration_to_next_step",
         "rawType": "timedelta64[ns]",
         "type": "unknown"
        },
        {
         "name": "total_duration",
         "rawType": "timedelta64[ns]",
         "type": "unknown"
        }
       ],
       "ref": "4e13d5e0-ce49-494b-966a-2f54f6b50589",
       "rows": [
        [
         "0",
         "CA000340856PK",
         "2023-01-20 11:33:00",
         "Insérer envoi dans sac (Srt)",
         "0 days 16:57:00",
         "9 days 01:19:00"
        ],
        [
         "1",
         "CA000340856PK",
         "2023-01-21 04:30:00",
         "Expédition d'envoi à l'étranger (EDI-reçu)",
         "3 days 03:52:48",
         "9 days 01:19:00"
        ],
        [
         "4768770",
         "CA000340856PK",
         "2023-01-24 08:22:48",
         "Recevoir envoi au bureau d'échange (Ent)",
         "0 days 00:08:52",
         "9 days 01:19:00"
        ],
        [
         "2582371",
         "CA000340856PK",
         "2023-01-24 08:31:40",
         "Expédier envoi à adresse nationale (Ent)",
         "0 days 00:09:08",
         "9 days 01:19:00"
        ],
        [
         "2582372",
         "CA000340856PK",
         "2023-01-24 08:40:48",
         "Expédier envoi à adresse nationale (Ent)",
         "0 days 00:20:26",
         "9 days 01:19:00"
        ],
        [
         "2582373",
         "CA000340856PK",
         "2023-01-24 09:01:14",
         "Recevoir envoi au bureau de livraison (Ent)",
         "0 days 00:02:37",
         "9 days 01:19:00"
        ],
        [
         "2582374",
         "CA000340856PK",
         "2023-01-24 09:03:51",
         "Expédier envoi à adresse nationale (Srt)",
         "0 days 00:21:14",
         "9 days 01:19:00"
        ],
        [
         "4768771",
         "CA000340856PK",
         "2023-01-24 09:25:05",
         "Expédier envoi à adresse nationale (Srt)",
         "0 days 09:18:00",
         "9 days 01:19:00"
        ],
        [
         "4768772",
         "CA000340856PK",
         "2023-01-24 18:43:05",
         "Expédier envoi à adresse nationale (Ent)",
         "0 days 04:34:05",
         "9 days 01:19:00"
        ],
        [
         "2582375",
         "CA000340856PK",
         "2023-01-24 23:17:10",
         "Expédier envoi à adresse nationale (Ent)",
         "0 days 08:20:06",
         "9 days 01:19:00"
        ]
       ],
       "shape": {
        "columns": 5,
        "rows": 10
       }
      },
      "text/html": [
       "<div>\n",
       "<style scoped>\n",
       "    .dataframe tbody tr th:only-of-type {\n",
       "        vertical-align: middle;\n",
       "    }\n",
       "\n",
       "    .dataframe tbody tr th {\n",
       "        vertical-align: top;\n",
       "    }\n",
       "\n",
       "    .dataframe thead th {\n",
       "        text-align: right;\n",
       "    }\n",
       "</style>\n",
       "<table border=\"1\" class=\"dataframe\">\n",
       "  <thead>\n",
       "    <tr style=\"text-align: right;\">\n",
       "      <th></th>\n",
       "      <th>MAILITM_FID</th>\n",
       "      <th>date</th>\n",
       "      <th>EVENT_TYPE_NM</th>\n",
       "      <th>duration_to_next_step</th>\n",
       "      <th>total_duration</th>\n",
       "    </tr>\n",
       "  </thead>\n",
       "  <tbody>\n",
       "    <tr>\n",
       "      <th>0</th>\n",
       "      <td>CA000340856PK</td>\n",
       "      <td>2023-01-20 11:33:00</td>\n",
       "      <td>Insérer envoi dans sac (Srt)</td>\n",
       "      <td>0 days 16:57:00</td>\n",
       "      <td>9 days 01:19:00</td>\n",
       "    </tr>\n",
       "    <tr>\n",
       "      <th>1</th>\n",
       "      <td>CA000340856PK</td>\n",
       "      <td>2023-01-21 04:30:00</td>\n",
       "      <td>Expédition d'envoi à l'étranger (EDI-reçu)</td>\n",
       "      <td>3 days 03:52:48</td>\n",
       "      <td>9 days 01:19:00</td>\n",
       "    </tr>\n",
       "    <tr>\n",
       "      <th>4768770</th>\n",
       "      <td>CA000340856PK</td>\n",
       "      <td>2023-01-24 08:22:48</td>\n",
       "      <td>Recevoir envoi au bureau d'échange (Ent)</td>\n",
       "      <td>0 days 00:08:52</td>\n",
       "      <td>9 days 01:19:00</td>\n",
       "    </tr>\n",
       "    <tr>\n",
       "      <th>2582371</th>\n",
       "      <td>CA000340856PK</td>\n",
       "      <td>2023-01-24 08:31:40</td>\n",
       "      <td>Expédier envoi à adresse nationale (Ent)</td>\n",
       "      <td>0 days 00:09:08</td>\n",
       "      <td>9 days 01:19:00</td>\n",
       "    </tr>\n",
       "    <tr>\n",
       "      <th>2582372</th>\n",
       "      <td>CA000340856PK</td>\n",
       "      <td>2023-01-24 08:40:48</td>\n",
       "      <td>Expédier envoi à adresse nationale (Ent)</td>\n",
       "      <td>0 days 00:20:26</td>\n",
       "      <td>9 days 01:19:00</td>\n",
       "    </tr>\n",
       "    <tr>\n",
       "      <th>2582373</th>\n",
       "      <td>CA000340856PK</td>\n",
       "      <td>2023-01-24 09:01:14</td>\n",
       "      <td>Recevoir envoi au bureau de livraison (Ent)</td>\n",
       "      <td>0 days 00:02:37</td>\n",
       "      <td>9 days 01:19:00</td>\n",
       "    </tr>\n",
       "    <tr>\n",
       "      <th>2582374</th>\n",
       "      <td>CA000340856PK</td>\n",
       "      <td>2023-01-24 09:03:51</td>\n",
       "      <td>Expédier envoi à adresse nationale (Srt)</td>\n",
       "      <td>0 days 00:21:14</td>\n",
       "      <td>9 days 01:19:00</td>\n",
       "    </tr>\n",
       "    <tr>\n",
       "      <th>4768771</th>\n",
       "      <td>CA000340856PK</td>\n",
       "      <td>2023-01-24 09:25:05</td>\n",
       "      <td>Expédier envoi à adresse nationale (Srt)</td>\n",
       "      <td>0 days 09:18:00</td>\n",
       "      <td>9 days 01:19:00</td>\n",
       "    </tr>\n",
       "    <tr>\n",
       "      <th>4768772</th>\n",
       "      <td>CA000340856PK</td>\n",
       "      <td>2023-01-24 18:43:05</td>\n",
       "      <td>Expédier envoi à adresse nationale (Ent)</td>\n",
       "      <td>0 days 04:34:05</td>\n",
       "      <td>9 days 01:19:00</td>\n",
       "    </tr>\n",
       "    <tr>\n",
       "      <th>2582375</th>\n",
       "      <td>CA000340856PK</td>\n",
       "      <td>2023-01-24 23:17:10</td>\n",
       "      <td>Expédier envoi à adresse nationale (Ent)</td>\n",
       "      <td>0 days 08:20:06</td>\n",
       "      <td>9 days 01:19:00</td>\n",
       "    </tr>\n",
       "  </tbody>\n",
       "</table>\n",
       "</div>"
      ],
      "text/plain": [
       "           MAILITM_FID                date  \\\n",
       "0        CA000340856PK 2023-01-20 11:33:00   \n",
       "1        CA000340856PK 2023-01-21 04:30:00   \n",
       "4768770  CA000340856PK 2023-01-24 08:22:48   \n",
       "2582371  CA000340856PK 2023-01-24 08:31:40   \n",
       "2582372  CA000340856PK 2023-01-24 08:40:48   \n",
       "2582373  CA000340856PK 2023-01-24 09:01:14   \n",
       "2582374  CA000340856PK 2023-01-24 09:03:51   \n",
       "4768771  CA000340856PK 2023-01-24 09:25:05   \n",
       "4768772  CA000340856PK 2023-01-24 18:43:05   \n",
       "2582375  CA000340856PK 2023-01-24 23:17:10   \n",
       "\n",
       "                                       EVENT_TYPE_NM duration_to_next_step  \\\n",
       "0                       Insérer envoi dans sac (Srt)       0 days 16:57:00   \n",
       "1         Expédition d'envoi à l'étranger (EDI-reçu)       3 days 03:52:48   \n",
       "4768770     Recevoir envoi au bureau d'échange (Ent)       0 days 00:08:52   \n",
       "2582371     Expédier envoi à adresse nationale (Ent)       0 days 00:09:08   \n",
       "2582372     Expédier envoi à adresse nationale (Ent)       0 days 00:20:26   \n",
       "2582373  Recevoir envoi au bureau de livraison (Ent)       0 days 00:02:37   \n",
       "2582374     Expédier envoi à adresse nationale (Srt)       0 days 00:21:14   \n",
       "4768771     Expédier envoi à adresse nationale (Srt)       0 days 09:18:00   \n",
       "4768772     Expédier envoi à adresse nationale (Ent)       0 days 04:34:05   \n",
       "2582375     Expédier envoi à adresse nationale (Ent)       0 days 08:20:06   \n",
       "\n",
       "         total_duration  \n",
       "0       9 days 01:19:00  \n",
       "1       9 days 01:19:00  \n",
       "4768770 9 days 01:19:00  \n",
       "2582371 9 days 01:19:00  \n",
       "2582372 9 days 01:19:00  \n",
       "2582373 9 days 01:19:00  \n",
       "2582374 9 days 01:19:00  \n",
       "4768771 9 days 01:19:00  \n",
       "4768772 9 days 01:19:00  \n",
       "2582375 9 days 01:19:00  "
      ]
     },
     "execution_count": 23,
     "metadata": {},
     "output_type": "execute_result"
    }
   ],
   "source": [
    "# Preview the updated dataset\n",
    "df[[\"MAILITM_FID\", \"date\", \"EVENT_TYPE_NM\", \"duration_to_next_step\", \"total_duration\"]].head(10)"
   ]
  },
  {
   "cell_type": "code",
   "execution_count": 26,
   "id": "8c2892dc",
   "metadata": {},
   "outputs": [
    {
     "data": {
      "text/plain": [
       "(0, 9)"
      ]
     },
     "execution_count": 26,
     "metadata": {},
     "output_type": "execute_result"
    }
   ],
   "source": [
    "# Filter rows where total_duration is NOT zero\n",
    "zero_duration_df = df[df[\"total_duration\"] <= pd.Timedelta(days = 1)]\n",
    "\n",
    "# Display the first few rows as a check\n",
    "zero_duration_df.shape\n"
   ]
  },
  {
   "cell_type": "code",
   "execution_count": 38,
   "id": "df1b35b9",
   "metadata": {},
   "outputs": [
    {
     "name": "stdout",
     "output_type": "stream",
     "text": [
      "Series([], Name: count, dtype: int64)\n"
     ]
    }
   ],
   "source": [
    "\n",
    "# Count the occurrences of each protocol\n",
    "countries = zero_duration_df['id'].value_counts()\n",
    "\n",
    "print(countries)\n"
   ]
  },
  {
   "cell_type": "code",
   "execution_count": 39,
   "id": "e851fa13",
   "metadata": {},
   "outputs": [
    {
     "name": "stdout",
     "output_type": "stream",
     "text": [
      "Series([], Name: count, dtype: int64)\n"
     ]
    }
   ],
   "source": [
    "# Map the Series index using the country_dict\n",
    "countries.index = countries.index.map(lambda code: country_dict.get(code, code))  \n",
    "print(countries)"
   ]
  },
  {
   "cell_type": "code",
   "execution_count": 40,
   "id": "8a647bfb",
   "metadata": {},
   "outputs": [
    {
     "name": "stdout",
     "output_type": "stream",
     "text": [
      "Series([], Name: count, dtype: int64)\n"
     ]
    }
   ],
   "source": [
    "# Step 1: Count how many times each ID appears\n",
    "id_counts = zero_duration_df[\"MAILITM_FID\"].value_counts()\n",
    "\n",
    "# Step 2: Count how many IDs have a specific count\n",
    "count_of_counts = id_counts.value_counts().sort_index()\n",
    "\n",
    "print(count_of_counts)\n"
   ]
  },
  {
   "cell_type": "code",
   "execution_count": 41,
   "id": "b2afa544",
   "metadata": {},
   "outputs": [
    {
     "data": {
      "application/vnd.microsoft.datawrangler.viewer.v0+json": {
       "columns": [
        {
         "name": "index",
         "rawType": "int64",
         "type": "integer"
        },
        {
         "name": "MAILITM_FID",
         "rawType": "object",
         "type": "string"
        },
        {
         "name": "EVENT_TYPE_NM",
         "rawType": "object",
         "type": "string"
        },
        {
         "name": "date",
         "rawType": "datetime64[ns]",
         "type": "datetime"
        },
        {
         "name": "établissement_postal",
         "rawType": "object",
         "type": "string"
        },
        {
         "name": "EVENT_TYPE_CD",
         "rawType": "int64",
         "type": "integer"
        },
        {
         "name": "next_établissement_postal",
         "rawType": "object",
         "type": "string"
        },
        {
         "name": "id",
         "rawType": "object",
         "type": "string"
        },
        {
         "name": "duration_to_next_step",
         "rawType": "timedelta64[ns]",
         "type": "unknown"
        },
        {
         "name": "total_duration",
         "rawType": "timedelta64[ns]",
         "type": "unknown"
        }
       ],
       "ref": "0ed1c4ca-97d5-46fc-8df9-781c8e011d60",
       "rows": [],
       "shape": {
        "columns": 9,
        "rows": 0
       }
      },
      "text/html": [
       "<div>\n",
       "<style scoped>\n",
       "    .dataframe tbody tr th:only-of-type {\n",
       "        vertical-align: middle;\n",
       "    }\n",
       "\n",
       "    .dataframe tbody tr th {\n",
       "        vertical-align: top;\n",
       "    }\n",
       "\n",
       "    .dataframe thead th {\n",
       "        text-align: right;\n",
       "    }\n",
       "</style>\n",
       "<table border=\"1\" class=\"dataframe\">\n",
       "  <thead>\n",
       "    <tr style=\"text-align: right;\">\n",
       "      <th></th>\n",
       "      <th>MAILITM_FID</th>\n",
       "      <th>EVENT_TYPE_NM</th>\n",
       "      <th>date</th>\n",
       "      <th>établissement_postal</th>\n",
       "      <th>EVENT_TYPE_CD</th>\n",
       "      <th>next_établissement_postal</th>\n",
       "      <th>id</th>\n",
       "      <th>duration_to_next_step</th>\n",
       "      <th>total_duration</th>\n",
       "    </tr>\n",
       "  </thead>\n",
       "  <tbody>\n",
       "  </tbody>\n",
       "</table>\n",
       "</div>"
      ],
      "text/plain": [
       "Empty DataFrame\n",
       "Columns: [MAILITM_FID, EVENT_TYPE_NM, date, établissement_postal, EVENT_TYPE_CD, next_établissement_postal, id, duration_to_next_step, total_duration]\n",
       "Index: []"
      ]
     },
     "execution_count": 41,
     "metadata": {},
     "output_type": "execute_result"
    }
   ],
   "source": [
    "ids_with_0 = id_counts[id_counts == 2].index\n",
    "df_with_0 = df[df[\"MAILITM_FID\"].isin(ids_with_0)]\n",
    "df_with_0.head()"
   ]
  },
  {
   "cell_type": "code",
   "execution_count": 42,
   "id": "3de28be6",
   "metadata": {},
   "outputs": [
    {
     "name": "stdout",
     "output_type": "stream",
     "text": [
      "Series([], Name: count, dtype: int64)\n"
     ]
    }
   ],
   "source": [
    "\n",
    "# Count the occurrences of each protocol\n",
    "event_type = df_with_0['EVENT_TYPE_NM'].value_counts()\n",
    "\n",
    "print(event_type)\n",
    "\n"
   ]
  },
  {
   "cell_type": "code",
   "execution_count": 25,
   "id": "c0b7faf2",
   "metadata": {},
   "outputs": [
    {
     "name": "stdout",
     "output_type": "stream",
     "text": [
      "(8803577, 9)\n"
     ]
    }
   ],
   "source": [
    "# Drop rows where total_duration is zero\n",
    "df = df[df[\"total_duration\"] != pd.Timedelta(0)]\n",
    "\n",
    "# Check the shape after dropping\n",
    "print(df.shape)\n"
   ]
  },
  {
   "cell_type": "code",
   "execution_count": 27,
   "id": "e5215d31",
   "metadata": {},
   "outputs": [],
   "source": [
    "df.to_csv(file_name, index=False, encoding='utf-8-sig')"
   ]
  },
  {
   "cell_type": "code",
   "execution_count": null,
   "id": "93ae86aa",
   "metadata": {},
   "outputs": [],
   "source": []
  }
 ],
 "metadata": {
  "kernelspec": {
   "display_name": "Python 3",
   "language": "python",
   "name": "python3"
  },
  "language_info": {
   "codemirror_mode": {
    "name": "ipython",
    "version": 3
   },
   "file_extension": ".py",
   "mimetype": "text/x-python",
   "name": "python",
   "nbconvert_exporter": "python",
   "pygments_lexer": "ipython3",
   "version": "3.10.9"
  }
 },
 "nbformat": 4,
 "nbformat_minor": 5
}
