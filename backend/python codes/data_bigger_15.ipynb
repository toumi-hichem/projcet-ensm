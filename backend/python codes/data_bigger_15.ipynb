{
 "cells": [
  {
   "cell_type": "code",
   "execution_count": 1,
   "id": "62b5f2c1",
   "metadata": {},
   "outputs": [],
   "source": [
    "import pandas as pd\n",
    "import numpy as np\n",
    "import matplotlib.pyplot as plt\n",
    "import seaborn as sns\n",
    "%matplotlib inline"
   ]
  },
  {
   "cell_type": "code",
   "execution_count": null,
   "id": "76e9fd2e",
   "metadata": {},
   "outputs": [
    {
     "name": "stdout",
     "output_type": "stream",
     "text": [
      "→ reading df_with_durations_01.csv\n"
     ]
    },
    {
     "name": "stderr",
     "output_type": "stream",
     "text": [
      "C:\\Users\\oussa\\AppData\\Local\\Temp\\ipykernel_11244\\1194675190.py:21: DtypeWarning: Columns (0,4,6) have mixed types. Specify dtype option on import or set low_memory=False.\n",
      "  df = pd.read_csv(src)\n"
     ]
    },
    {
     "name": "stdout",
     "output_type": "stream",
     "text": [
      "→ reading df_with_durations_02.csv\n"
     ]
    },
    {
     "name": "stderr",
     "output_type": "stream",
     "text": [
      "C:\\Users\\oussa\\AppData\\Local\\Temp\\ipykernel_11244\\1194675190.py:21: DtypeWarning: Columns (0,8) have mixed types. Specify dtype option on import or set low_memory=False.\n",
      "  df = pd.read_csv(src)\n"
     ]
    },
    {
     "name": "stdout",
     "output_type": "stream",
     "text": [
      "→ reading df_with_durations_03.csv\n",
      "→ reading df_with_durations_04.csv\n",
      "→ reading df_with_durations_05.csv\n",
      "→ reading df_with_durations_06.csv\n",
      "→ reading df_with_durations_07.csv\n",
      "✓ all files processed\n",
      "result saved to: C:\\Users\\oussa\\Desktop\\alg_poste_stage\\combined_ge15days.csv\n"
     ]
    }
   ],
   "source": [
    "import pandas as pd\n",
    "from pathlib import Path\n",
    "import gc            # optional: force garbage-collection between files\n",
    "\n",
    "# ── CONFIGURE THESE ──────────────────────────────────────────────\n",
    "TEMPLATE     = \"df_with_durations_0{}.csv\"   # e.g. df_with_durations_01.csv\n",
    "FILE_NUMBERS = range(1, 8)                   # 1 … 7   (adjust if yours are 0 … 6)\n",
    "OUT_FILE     = Path(\"combined_ge15days.csv\") # final result\n",
    "DUR_COL      = \"total_duration\"              # column to filter\n",
    "THRESHOLD    = pd.Timedelta(days=15)         # keep rows ≥ 15 days\n",
    "# ─────────────────────────────────────────────────────────────────\n",
    "\n",
    "# start fresh (delete old result if it exists)\n",
    "OUT_FILE.unlink(missing_ok=True)\n",
    "\n",
    "for i in FILE_NUMBERS:\n",
    "    src = TEMPLATE.format(i)\n",
    "    print(f\"→ reading {src}\")\n",
    "\n",
    "    # 1) read the whole file (or stream in chunks if the CSVs are huge)\n",
    "    df = pd.read_csv(src)\n",
    "\n",
    "    # 2) convert duration column to Timedelta\n",
    "    df[DUR_COL] = pd.to_timedelta(df[DUR_COL], errors=\"coerce\")\n",
    "\n",
    "    # 3) filter\n",
    "    df = df[df[DUR_COL] >= THRESHOLD]\n",
    "\n",
    "    # 4) append to the output CSV, write header only the first time\n",
    "    df.to_csv(\n",
    "        OUT_FILE,\n",
    "        mode=\"a\",\n",
    "        header=not OUT_FILE.exists(),  # write header if file was just created\n",
    "        index=False\n",
    "    )\n",
    "\n",
    "    # 5) drop references to free memory before next loop\n",
    "    del df\n",
    "    gc.collect()\n",
    "\n",
    "print(\"✓ all files processed\")\n",
    "print(f\"result saved to: {OUT_FILE.resolve()}\")\n"
   ]
  },
  {
   "cell_type": "code",
   "execution_count": 2,
   "id": "3d88edd1",
   "metadata": {},
   "outputs": [
    {
     "ename": "FileNotFoundError",
     "evalue": "[Errno 2] No such file or directory: 'combined_ge15days.csv'",
     "output_type": "error",
     "traceback": [
      "\u001b[1;31m---------------------------------------------------------------------------\u001b[0m",
      "\u001b[1;31mFileNotFoundError\u001b[0m                         Traceback (most recent call last)",
      "Cell \u001b[1;32mIn[2], line 1\u001b[0m\n\u001b[1;32m----> 1\u001b[0m df \u001b[38;5;241m=\u001b[39m \u001b[43mpd\u001b[49m\u001b[38;5;241;43m.\u001b[39;49m\u001b[43mread_csv\u001b[49m\u001b[43m(\u001b[49m\u001b[38;5;124;43m\"\u001b[39;49m\u001b[38;5;124;43mcombined_ge15days.csv\u001b[39;49m\u001b[38;5;124;43m\"\u001b[39;49m\u001b[43m,\u001b[49m\u001b[43m \u001b[49m\u001b[43mparse_dates\u001b[49m\u001b[38;5;241;43m=\u001b[39;49m\u001b[43m[\u001b[49m\u001b[38;5;124;43m\"\u001b[39;49m\u001b[38;5;124;43mdate\u001b[39;49m\u001b[38;5;124;43m\"\u001b[39;49m\u001b[43m]\u001b[49m\u001b[43m)\u001b[49m\n",
      "File \u001b[1;32md:\\program inst\\anaconda3\\lib\\site-packages\\pandas\\io\\parsers\\readers.py:1026\u001b[0m, in \u001b[0;36mread_csv\u001b[1;34m(filepath_or_buffer, sep, delimiter, header, names, index_col, usecols, dtype, engine, converters, true_values, false_values, skipinitialspace, skiprows, skipfooter, nrows, na_values, keep_default_na, na_filter, verbose, skip_blank_lines, parse_dates, infer_datetime_format, keep_date_col, date_parser, date_format, dayfirst, cache_dates, iterator, chunksize, compression, thousands, decimal, lineterminator, quotechar, quoting, doublequote, escapechar, comment, encoding, encoding_errors, dialect, on_bad_lines, delim_whitespace, low_memory, memory_map, float_precision, storage_options, dtype_backend)\u001b[0m\n\u001b[0;32m   1013\u001b[0m kwds_defaults \u001b[38;5;241m=\u001b[39m _refine_defaults_read(\n\u001b[0;32m   1014\u001b[0m     dialect,\n\u001b[0;32m   1015\u001b[0m     delimiter,\n\u001b[1;32m   (...)\u001b[0m\n\u001b[0;32m   1022\u001b[0m     dtype_backend\u001b[38;5;241m=\u001b[39mdtype_backend,\n\u001b[0;32m   1023\u001b[0m )\n\u001b[0;32m   1024\u001b[0m kwds\u001b[38;5;241m.\u001b[39mupdate(kwds_defaults)\n\u001b[1;32m-> 1026\u001b[0m \u001b[38;5;28;01mreturn\u001b[39;00m \u001b[43m_read\u001b[49m\u001b[43m(\u001b[49m\u001b[43mfilepath_or_buffer\u001b[49m\u001b[43m,\u001b[49m\u001b[43m \u001b[49m\u001b[43mkwds\u001b[49m\u001b[43m)\u001b[49m\n",
      "File \u001b[1;32md:\\program inst\\anaconda3\\lib\\site-packages\\pandas\\io\\parsers\\readers.py:620\u001b[0m, in \u001b[0;36m_read\u001b[1;34m(filepath_or_buffer, kwds)\u001b[0m\n\u001b[0;32m    617\u001b[0m _validate_names(kwds\u001b[38;5;241m.\u001b[39mget(\u001b[38;5;124m\"\u001b[39m\u001b[38;5;124mnames\u001b[39m\u001b[38;5;124m\"\u001b[39m, \u001b[38;5;28;01mNone\u001b[39;00m))\n\u001b[0;32m    619\u001b[0m \u001b[38;5;66;03m# Create the parser.\u001b[39;00m\n\u001b[1;32m--> 620\u001b[0m parser \u001b[38;5;241m=\u001b[39m TextFileReader(filepath_or_buffer, \u001b[38;5;241m*\u001b[39m\u001b[38;5;241m*\u001b[39mkwds)\n\u001b[0;32m    622\u001b[0m \u001b[38;5;28;01mif\u001b[39;00m chunksize \u001b[38;5;129;01mor\u001b[39;00m iterator:\n\u001b[0;32m    623\u001b[0m     \u001b[38;5;28;01mreturn\u001b[39;00m parser\n",
      "File \u001b[1;32md:\\program inst\\anaconda3\\lib\\site-packages\\pandas\\io\\parsers\\readers.py:1620\u001b[0m, in \u001b[0;36mTextFileReader.__init__\u001b[1;34m(self, f, engine, **kwds)\u001b[0m\n\u001b[0;32m   1617\u001b[0m     \u001b[38;5;28mself\u001b[39m\u001b[38;5;241m.\u001b[39moptions[\u001b[38;5;124m\"\u001b[39m\u001b[38;5;124mhas_index_names\u001b[39m\u001b[38;5;124m\"\u001b[39m] \u001b[38;5;241m=\u001b[39m kwds[\u001b[38;5;124m\"\u001b[39m\u001b[38;5;124mhas_index_names\u001b[39m\u001b[38;5;124m\"\u001b[39m]\n\u001b[0;32m   1619\u001b[0m \u001b[38;5;28mself\u001b[39m\u001b[38;5;241m.\u001b[39mhandles: IOHandles \u001b[38;5;241m|\u001b[39m \u001b[38;5;28;01mNone\u001b[39;00m \u001b[38;5;241m=\u001b[39m \u001b[38;5;28;01mNone\u001b[39;00m\n\u001b[1;32m-> 1620\u001b[0m \u001b[38;5;28mself\u001b[39m\u001b[38;5;241m.\u001b[39m_engine \u001b[38;5;241m=\u001b[39m \u001b[38;5;28;43mself\u001b[39;49m\u001b[38;5;241;43m.\u001b[39;49m\u001b[43m_make_engine\u001b[49m\u001b[43m(\u001b[49m\u001b[43mf\u001b[49m\u001b[43m,\u001b[49m\u001b[43m \u001b[49m\u001b[38;5;28;43mself\u001b[39;49m\u001b[38;5;241;43m.\u001b[39;49m\u001b[43mengine\u001b[49m\u001b[43m)\u001b[49m\n",
      "File \u001b[1;32md:\\program inst\\anaconda3\\lib\\site-packages\\pandas\\io\\parsers\\readers.py:1880\u001b[0m, in \u001b[0;36mTextFileReader._make_engine\u001b[1;34m(self, f, engine)\u001b[0m\n\u001b[0;32m   1878\u001b[0m     \u001b[38;5;28;01mif\u001b[39;00m \u001b[38;5;124m\"\u001b[39m\u001b[38;5;124mb\u001b[39m\u001b[38;5;124m\"\u001b[39m \u001b[38;5;129;01mnot\u001b[39;00m \u001b[38;5;129;01min\u001b[39;00m mode:\n\u001b[0;32m   1879\u001b[0m         mode \u001b[38;5;241m+\u001b[39m\u001b[38;5;241m=\u001b[39m \u001b[38;5;124m\"\u001b[39m\u001b[38;5;124mb\u001b[39m\u001b[38;5;124m\"\u001b[39m\n\u001b[1;32m-> 1880\u001b[0m \u001b[38;5;28mself\u001b[39m\u001b[38;5;241m.\u001b[39mhandles \u001b[38;5;241m=\u001b[39m \u001b[43mget_handle\u001b[49m\u001b[43m(\u001b[49m\n\u001b[0;32m   1881\u001b[0m \u001b[43m    \u001b[49m\u001b[43mf\u001b[49m\u001b[43m,\u001b[49m\n\u001b[0;32m   1882\u001b[0m \u001b[43m    \u001b[49m\u001b[43mmode\u001b[49m\u001b[43m,\u001b[49m\n\u001b[0;32m   1883\u001b[0m \u001b[43m    \u001b[49m\u001b[43mencoding\u001b[49m\u001b[38;5;241;43m=\u001b[39;49m\u001b[38;5;28;43mself\u001b[39;49m\u001b[38;5;241;43m.\u001b[39;49m\u001b[43moptions\u001b[49m\u001b[38;5;241;43m.\u001b[39;49m\u001b[43mget\u001b[49m\u001b[43m(\u001b[49m\u001b[38;5;124;43m\"\u001b[39;49m\u001b[38;5;124;43mencoding\u001b[39;49m\u001b[38;5;124;43m\"\u001b[39;49m\u001b[43m,\u001b[49m\u001b[43m \u001b[49m\u001b[38;5;28;43;01mNone\u001b[39;49;00m\u001b[43m)\u001b[49m\u001b[43m,\u001b[49m\n\u001b[0;32m   1884\u001b[0m \u001b[43m    \u001b[49m\u001b[43mcompression\u001b[49m\u001b[38;5;241;43m=\u001b[39;49m\u001b[38;5;28;43mself\u001b[39;49m\u001b[38;5;241;43m.\u001b[39;49m\u001b[43moptions\u001b[49m\u001b[38;5;241;43m.\u001b[39;49m\u001b[43mget\u001b[49m\u001b[43m(\u001b[49m\u001b[38;5;124;43m\"\u001b[39;49m\u001b[38;5;124;43mcompression\u001b[39;49m\u001b[38;5;124;43m\"\u001b[39;49m\u001b[43m,\u001b[49m\u001b[43m \u001b[49m\u001b[38;5;28;43;01mNone\u001b[39;49;00m\u001b[43m)\u001b[49m\u001b[43m,\u001b[49m\n\u001b[0;32m   1885\u001b[0m \u001b[43m    \u001b[49m\u001b[43mmemory_map\u001b[49m\u001b[38;5;241;43m=\u001b[39;49m\u001b[38;5;28;43mself\u001b[39;49m\u001b[38;5;241;43m.\u001b[39;49m\u001b[43moptions\u001b[49m\u001b[38;5;241;43m.\u001b[39;49m\u001b[43mget\u001b[49m\u001b[43m(\u001b[49m\u001b[38;5;124;43m\"\u001b[39;49m\u001b[38;5;124;43mmemory_map\u001b[39;49m\u001b[38;5;124;43m\"\u001b[39;49m\u001b[43m,\u001b[49m\u001b[43m \u001b[49m\u001b[38;5;28;43;01mFalse\u001b[39;49;00m\u001b[43m)\u001b[49m\u001b[43m,\u001b[49m\n\u001b[0;32m   1886\u001b[0m \u001b[43m    \u001b[49m\u001b[43mis_text\u001b[49m\u001b[38;5;241;43m=\u001b[39;49m\u001b[43mis_text\u001b[49m\u001b[43m,\u001b[49m\n\u001b[0;32m   1887\u001b[0m \u001b[43m    \u001b[49m\u001b[43merrors\u001b[49m\u001b[38;5;241;43m=\u001b[39;49m\u001b[38;5;28;43mself\u001b[39;49m\u001b[38;5;241;43m.\u001b[39;49m\u001b[43moptions\u001b[49m\u001b[38;5;241;43m.\u001b[39;49m\u001b[43mget\u001b[49m\u001b[43m(\u001b[49m\u001b[38;5;124;43m\"\u001b[39;49m\u001b[38;5;124;43mencoding_errors\u001b[39;49m\u001b[38;5;124;43m\"\u001b[39;49m\u001b[43m,\u001b[49m\u001b[43m \u001b[49m\u001b[38;5;124;43m\"\u001b[39;49m\u001b[38;5;124;43mstrict\u001b[39;49m\u001b[38;5;124;43m\"\u001b[39;49m\u001b[43m)\u001b[49m\u001b[43m,\u001b[49m\n\u001b[0;32m   1888\u001b[0m \u001b[43m    \u001b[49m\u001b[43mstorage_options\u001b[49m\u001b[38;5;241;43m=\u001b[39;49m\u001b[38;5;28;43mself\u001b[39;49m\u001b[38;5;241;43m.\u001b[39;49m\u001b[43moptions\u001b[49m\u001b[38;5;241;43m.\u001b[39;49m\u001b[43mget\u001b[49m\u001b[43m(\u001b[49m\u001b[38;5;124;43m\"\u001b[39;49m\u001b[38;5;124;43mstorage_options\u001b[39;49m\u001b[38;5;124;43m\"\u001b[39;49m\u001b[43m,\u001b[49m\u001b[43m \u001b[49m\u001b[38;5;28;43;01mNone\u001b[39;49;00m\u001b[43m)\u001b[49m\u001b[43m,\u001b[49m\n\u001b[0;32m   1889\u001b[0m \u001b[43m\u001b[49m\u001b[43m)\u001b[49m\n\u001b[0;32m   1890\u001b[0m \u001b[38;5;28;01massert\u001b[39;00m \u001b[38;5;28mself\u001b[39m\u001b[38;5;241m.\u001b[39mhandles \u001b[38;5;129;01mis\u001b[39;00m \u001b[38;5;129;01mnot\u001b[39;00m \u001b[38;5;28;01mNone\u001b[39;00m\n\u001b[0;32m   1891\u001b[0m f \u001b[38;5;241m=\u001b[39m \u001b[38;5;28mself\u001b[39m\u001b[38;5;241m.\u001b[39mhandles\u001b[38;5;241m.\u001b[39mhandle\n",
      "File \u001b[1;32md:\\program inst\\anaconda3\\lib\\site-packages\\pandas\\io\\common.py:873\u001b[0m, in \u001b[0;36mget_handle\u001b[1;34m(path_or_buf, mode, encoding, compression, memory_map, is_text, errors, storage_options)\u001b[0m\n\u001b[0;32m    868\u001b[0m \u001b[38;5;28;01melif\u001b[39;00m \u001b[38;5;28misinstance\u001b[39m(handle, \u001b[38;5;28mstr\u001b[39m):\n\u001b[0;32m    869\u001b[0m     \u001b[38;5;66;03m# Check whether the filename is to be opened in binary mode.\u001b[39;00m\n\u001b[0;32m    870\u001b[0m     \u001b[38;5;66;03m# Binary mode does not support 'encoding' and 'newline'.\u001b[39;00m\n\u001b[0;32m    871\u001b[0m     \u001b[38;5;28;01mif\u001b[39;00m ioargs\u001b[38;5;241m.\u001b[39mencoding \u001b[38;5;129;01mand\u001b[39;00m \u001b[38;5;124m\"\u001b[39m\u001b[38;5;124mb\u001b[39m\u001b[38;5;124m\"\u001b[39m \u001b[38;5;129;01mnot\u001b[39;00m \u001b[38;5;129;01min\u001b[39;00m ioargs\u001b[38;5;241m.\u001b[39mmode:\n\u001b[0;32m    872\u001b[0m         \u001b[38;5;66;03m# Encoding\u001b[39;00m\n\u001b[1;32m--> 873\u001b[0m         handle \u001b[38;5;241m=\u001b[39m \u001b[38;5;28;43mopen\u001b[39;49m\u001b[43m(\u001b[49m\n\u001b[0;32m    874\u001b[0m \u001b[43m            \u001b[49m\u001b[43mhandle\u001b[49m\u001b[43m,\u001b[49m\n\u001b[0;32m    875\u001b[0m \u001b[43m            \u001b[49m\u001b[43mioargs\u001b[49m\u001b[38;5;241;43m.\u001b[39;49m\u001b[43mmode\u001b[49m\u001b[43m,\u001b[49m\n\u001b[0;32m    876\u001b[0m \u001b[43m            \u001b[49m\u001b[43mencoding\u001b[49m\u001b[38;5;241;43m=\u001b[39;49m\u001b[43mioargs\u001b[49m\u001b[38;5;241;43m.\u001b[39;49m\u001b[43mencoding\u001b[49m\u001b[43m,\u001b[49m\n\u001b[0;32m    877\u001b[0m \u001b[43m            \u001b[49m\u001b[43merrors\u001b[49m\u001b[38;5;241;43m=\u001b[39;49m\u001b[43merrors\u001b[49m\u001b[43m,\u001b[49m\n\u001b[0;32m    878\u001b[0m \u001b[43m            \u001b[49m\u001b[43mnewline\u001b[49m\u001b[38;5;241;43m=\u001b[39;49m\u001b[38;5;124;43m\"\u001b[39;49m\u001b[38;5;124;43m\"\u001b[39;49m\u001b[43m,\u001b[49m\n\u001b[0;32m    879\u001b[0m \u001b[43m        \u001b[49m\u001b[43m)\u001b[49m\n\u001b[0;32m    880\u001b[0m     \u001b[38;5;28;01melse\u001b[39;00m:\n\u001b[0;32m    881\u001b[0m         \u001b[38;5;66;03m# Binary mode\u001b[39;00m\n\u001b[0;32m    882\u001b[0m         handle \u001b[38;5;241m=\u001b[39m \u001b[38;5;28mopen\u001b[39m(handle, ioargs\u001b[38;5;241m.\u001b[39mmode)\n",
      "\u001b[1;31mFileNotFoundError\u001b[0m: [Errno 2] No such file or directory: 'combined_ge15days.csv'"
     ]
    }
   ],
   "source": [
    "df = pd.read_csv(\"combined_ge15days.csv\", parse_dates=[\"date\"])"
   ]
  },
  {
   "cell_type": "code",
   "execution_count": 3,
   "id": "bd3e2790",
   "metadata": {},
   "outputs": [
    {
     "data": {
      "application/vnd.microsoft.datawrangler.viewer.v0+json": {
       "columns": [
        {
         "name": "index",
         "rawType": "int64",
         "type": "integer"
        },
        {
         "name": "RECPTCL_FID",
         "rawType": "object",
         "type": "unknown"
        },
        {
         "name": "MAILITM_FID",
         "rawType": "object",
         "type": "string"
        },
        {
         "name": "EVENT_TYPE_NM",
         "rawType": "object",
         "type": "string"
        },
        {
         "name": "date",
         "rawType": "object",
         "type": "string"
        },
        {
         "name": "établissement_postal",
         "rawType": "object",
         "type": "string"
        },
        {
         "name": "EVENT_TYPE_CD",
         "rawType": "int64",
         "type": "integer"
        },
        {
         "name": "next_établissement_postal",
         "rawType": "object",
         "type": "unknown"
        },
        {
         "name": "id",
         "rawType": "object",
         "type": "string"
        },
        {
         "name": "duration_to_next_step",
         "rawType": "object",
         "type": "unknown"
        },
        {
         "name": "total_duration",
         "rawType": "object",
         "type": "string"
        }
       ],
       "ref": "197f31ea-d080-4dd2-85d6-59ed715f56c0",
       "rows": [
        [
         "0",
         null,
         "CA000387426TG",
         "Réception d'envoi du client (Srt)",
         "2023-12-11 14:33:00.000",
         "TOGO",
         "1",
         null,
         "TG",
         "2 days 01:36:00",
         "32 days 00:42:00"
        ],
        [
         "1",
         null,
         "CA000387426TG",
         "Insérer envoi dans sac (Srt)",
         "2023-12-13 16:09:00.000",
         "TOGO",
         "8",
         null,
         "TG",
         "7 days 16:41:00",
         "32 days 00:42:00"
        ],
        [
         "2",
         null,
         "CA000387426TG",
         "Insérer envoi dans sac (Srt)",
         "2023-12-21 08:50:00.000",
         "TOGO",
         "8",
         null,
         "TG",
         "22 days 06:25:00",
         "32 days 00:42:00"
        ],
        [
         "3",
         "FRCDGADZALGBACN40007002100022",
         "CA000387426TG",
         "Expédition d'envoi à l'étranger (EDI-reçu)",
         "2024-01-12 15:15:00.000",
         "TOGO",
         "12",
         "ALGÉRIE",
         "TG",
         null,
         "32 days 00:42:00"
        ],
        [
         "4",
         null,
         "CA000422162US",
         "Réception d'envoi du client (Srt)",
         "2025-02-03 15:10:00.000",
         "ÉTATS-UNIS",
         "1",
         null,
         "US",
         "12 days 17:45:47.023000",
         "28 days 18:51:38.630000"
        ]
       ],
       "shape": {
        "columns": 10,
        "rows": 5
       }
      },
      "text/html": [
       "<div>\n",
       "<style scoped>\n",
       "    .dataframe tbody tr th:only-of-type {\n",
       "        vertical-align: middle;\n",
       "    }\n",
       "\n",
       "    .dataframe tbody tr th {\n",
       "        vertical-align: top;\n",
       "    }\n",
       "\n",
       "    .dataframe thead th {\n",
       "        text-align: right;\n",
       "    }\n",
       "</style>\n",
       "<table border=\"1\" class=\"dataframe\">\n",
       "  <thead>\n",
       "    <tr style=\"text-align: right;\">\n",
       "      <th></th>\n",
       "      <th>RECPTCL_FID</th>\n",
       "      <th>MAILITM_FID</th>\n",
       "      <th>EVENT_TYPE_NM</th>\n",
       "      <th>date</th>\n",
       "      <th>établissement_postal</th>\n",
       "      <th>EVENT_TYPE_CD</th>\n",
       "      <th>next_établissement_postal</th>\n",
       "      <th>id</th>\n",
       "      <th>duration_to_next_step</th>\n",
       "      <th>total_duration</th>\n",
       "    </tr>\n",
       "  </thead>\n",
       "  <tbody>\n",
       "    <tr>\n",
       "      <th>0</th>\n",
       "      <td>NaN</td>\n",
       "      <td>CA000387426TG</td>\n",
       "      <td>Réception d'envoi du client (Srt)</td>\n",
       "      <td>2023-12-11 14:33:00.000</td>\n",
       "      <td>TOGO</td>\n",
       "      <td>1</td>\n",
       "      <td>NaN</td>\n",
       "      <td>TG</td>\n",
       "      <td>2 days 01:36:00</td>\n",
       "      <td>32 days 00:42:00</td>\n",
       "    </tr>\n",
       "    <tr>\n",
       "      <th>1</th>\n",
       "      <td>NaN</td>\n",
       "      <td>CA000387426TG</td>\n",
       "      <td>Insérer envoi dans sac (Srt)</td>\n",
       "      <td>2023-12-13 16:09:00.000</td>\n",
       "      <td>TOGO</td>\n",
       "      <td>8</td>\n",
       "      <td>NaN</td>\n",
       "      <td>TG</td>\n",
       "      <td>7 days 16:41:00</td>\n",
       "      <td>32 days 00:42:00</td>\n",
       "    </tr>\n",
       "    <tr>\n",
       "      <th>2</th>\n",
       "      <td>NaN</td>\n",
       "      <td>CA000387426TG</td>\n",
       "      <td>Insérer envoi dans sac (Srt)</td>\n",
       "      <td>2023-12-21 08:50:00.000</td>\n",
       "      <td>TOGO</td>\n",
       "      <td>8</td>\n",
       "      <td>NaN</td>\n",
       "      <td>TG</td>\n",
       "      <td>22 days 06:25:00</td>\n",
       "      <td>32 days 00:42:00</td>\n",
       "    </tr>\n",
       "    <tr>\n",
       "      <th>3</th>\n",
       "      <td>FRCDGADZALGBACN40007002100022</td>\n",
       "      <td>CA000387426TG</td>\n",
       "      <td>Expédition d'envoi à l'étranger (EDI-reçu)</td>\n",
       "      <td>2024-01-12 15:15:00.000</td>\n",
       "      <td>TOGO</td>\n",
       "      <td>12</td>\n",
       "      <td>ALGÉRIE</td>\n",
       "      <td>TG</td>\n",
       "      <td>NaN</td>\n",
       "      <td>32 days 00:42:00</td>\n",
       "    </tr>\n",
       "    <tr>\n",
       "      <th>4</th>\n",
       "      <td>NaN</td>\n",
       "      <td>CA000422162US</td>\n",
       "      <td>Réception d'envoi du client (Srt)</td>\n",
       "      <td>2025-02-03 15:10:00.000</td>\n",
       "      <td>ÉTATS-UNIS</td>\n",
       "      <td>1</td>\n",
       "      <td>NaN</td>\n",
       "      <td>US</td>\n",
       "      <td>12 days 17:45:47.023000</td>\n",
       "      <td>28 days 18:51:38.630000</td>\n",
       "    </tr>\n",
       "  </tbody>\n",
       "</table>\n",
       "</div>"
      ],
      "text/plain": [
       "                     RECPTCL_FID    MAILITM_FID  \\\n",
       "0                            NaN  CA000387426TG   \n",
       "1                            NaN  CA000387426TG   \n",
       "2                            NaN  CA000387426TG   \n",
       "3  FRCDGADZALGBACN40007002100022  CA000387426TG   \n",
       "4                            NaN  CA000422162US   \n",
       "\n",
       "                                EVENT_TYPE_NM                     date  \\\n",
       "0           Réception d'envoi du client (Srt)  2023-12-11 14:33:00.000   \n",
       "1                Insérer envoi dans sac (Srt)  2023-12-13 16:09:00.000   \n",
       "2                Insérer envoi dans sac (Srt)  2023-12-21 08:50:00.000   \n",
       "3  Expédition d'envoi à l'étranger (EDI-reçu)  2024-01-12 15:15:00.000   \n",
       "4           Réception d'envoi du client (Srt)  2025-02-03 15:10:00.000   \n",
       "\n",
       "  établissement_postal  EVENT_TYPE_CD next_établissement_postal  id  \\\n",
       "0                 TOGO              1                       NaN  TG   \n",
       "1                 TOGO              8                       NaN  TG   \n",
       "2                 TOGO              8                       NaN  TG   \n",
       "3                 TOGO             12                   ALGÉRIE  TG   \n",
       "4           ÉTATS-UNIS              1                       NaN  US   \n",
       "\n",
       "     duration_to_next_step           total_duration  \n",
       "0          2 days 01:36:00         32 days 00:42:00  \n",
       "1          7 days 16:41:00         32 days 00:42:00  \n",
       "2         22 days 06:25:00         32 days 00:42:00  \n",
       "3                      NaN         32 days 00:42:00  \n",
       "4  12 days 17:45:47.023000  28 days 18:51:38.630000  "
      ]
     },
     "execution_count": 3,
     "metadata": {},
     "output_type": "execute_result"
    }
   ],
   "source": [
    "df.head()"
   ]
  },
  {
   "cell_type": "code",
   "execution_count": 4,
   "id": "2670de8d",
   "metadata": {},
   "outputs": [
    {
     "data": {
      "text/plain": [
       "(8901904, 10)"
      ]
     },
     "execution_count": 4,
     "metadata": {},
     "output_type": "execute_result"
    }
   ],
   "source": [
    "df.shape"
   ]
  },
  {
   "cell_type": "code",
   "execution_count": 5,
   "id": "d8cc969b",
   "metadata": {},
   "outputs": [
    {
     "name": "stdout",
     "output_type": "stream",
     "text": [
      "EVENT_TYPE_NM                     24\n",
      "EVENT_TYPE_CD                     24\n",
      "id                               132\n",
      "next_établissement_postal       3630\n",
      "établissement_postal            3821\n",
      "RECPTCL_FID                    93357\n",
      "MAILITM_FID                  1082575\n",
      "total_duration               1217445\n",
      "duration_to_next_step        5997372\n",
      "date                         8228075\n",
      "dtype: int64\n"
     ]
    }
   ],
   "source": [
    "distinct_values_count = df.nunique()\n",
    "\n",
    "distinct_values_count = distinct_values_count.sort_values(ascending=True)\n",
    "\n",
    "print(distinct_values_count)"
   ]
  },
  {
   "cell_type": "code",
   "execution_count": 6,
   "id": "6d6439d1",
   "metadata": {},
   "outputs": [
    {
     "name": "stdout",
     "output_type": "stream",
     "text": [
      "EVENT_TYPE_NM\n",
      "Recevoir envoi au bureau de livraison (Ent)                    2003685\n",
      "Expédier envoi à adresse nationale (Srt)                       1540194\n",
      "Expédier envoi à adresse nationale (Ent)                       1500927\n",
      "Recevoir envoi au bureau d'échange (Ent)                        949610\n",
      "Vaine tentative de livraison d'envoi (Ent)                      876575\n",
      "Livraison d'envoi (Ent)                                         847021\n",
      "Transmettre envoi à l'agent de livraison (Ent)                  503378\n",
      "Expédition d'envoi à l'étranger (EDI-reçu)                      231978\n",
      "Insérer envoi dans sac (Srt)                                    212326\n",
      "Recevoir envoi au bureau d'échange (Srt)                         88054\n",
      "Enregistrer détails d'envoi au bureau d'échange (Srt)            71805\n",
      "Expédier envoi à la douane (Ent)                                 27210\n",
      "Réception d'envoi du client (Srt)                                25037\n",
      "Renvoyer envoi de la douane (Ent)                                18878\n",
      "Renvoyer envoi de la douane (Srt)                                 2519\n",
      "Enregistrer raison de rétention d'envoi par la douane (Srt)        858\n",
      "Enregistrer informations douanières d'envoi (Ent)                  765\n",
      "Supprimer envoi du sac (Srt)                                       446\n",
      "Mettre à jour envoi (Ent)                                          388\n",
      "Recevoir envoi au lieu (Ent)                                       166\n",
      "Expédier envoi à la douane (Srt)                                    70\n",
      "Recevoir envoi au lieu (Srt)                                        12\n",
      "Garder envoi au point de livraison (Ent)                             1\n",
      "Expédier envoi pour livraison physique (Ent)                         1\n",
      "Name: count, dtype: int64\n"
     ]
    }
   ],
   "source": [
    "\n",
    "# Count the occurrences of each protocol\n",
    "event_type = df['EVENT_TYPE_NM'].value_counts()\n",
    "\n",
    "print(event_type)\n"
   ]
  },
  {
   "cell_type": "code",
   "execution_count": 10,
   "id": "dd452b4b",
   "metadata": {},
   "outputs": [
    {
     "name": "stdout",
     "output_type": "stream",
     "text": [
      "Min date: 2005-11-08 23:29:54.370\n",
      "Max date: 2025-05-21 16:13:21.467\n"
     ]
    }
   ],
   "source": [
    "print(\"Min date:\", df[\"date\"].min())\n",
    "print(\"Max date:\", df[\"date\"].max())"
   ]
  },
  {
   "cell_type": "code",
   "execution_count": 7,
   "id": "8c5bea2a",
   "metadata": {},
   "outputs": [
    {
     "data": {
      "text/plain": [
       "(1082575,)"
      ]
     },
     "execution_count": 7,
     "metadata": {},
     "output_type": "execute_result"
    }
   ],
   "source": [
    "durations = df.groupby(\"MAILITM_FID\")[\"total_duration\"].first()\n",
    "durations = pd.to_timedelta(durations, errors=\"coerce\")\n",
    "durations.shape"
   ]
  },
  {
   "cell_type": "code",
   "execution_count": 8,
   "id": "20c12c7e",
   "metadata": {},
   "outputs": [
    {
     "name": "stdout",
     "output_type": "stream",
     "text": [
      "packages btw 15 and 30 =  728342\n"
     ]
    }
   ],
   "source": [
    "print(\"packages btw 15 and 30 = \" , (durations <= pd.Timedelta(days=30)).sum())"
   ]
  },
  {
   "cell_type": "code",
   "execution_count": 9,
   "id": "d10bc8b2",
   "metadata": {},
   "outputs": [
    {
     "name": "stdout",
     "output_type": "stream",
     "text": [
      "packages btw 30 and 45 =  175047\n"
     ]
    }
   ],
   "source": [
    "print(\"packages btw 30 and 45 = \" , -1*( (durations <= pd.Timedelta(days=30)).sum() - (durations <= pd.Timedelta(days=45)).sum()))"
   ]
  },
  {
   "cell_type": "code",
   "execution_count": 59,
   "id": "865d03e0",
   "metadata": {},
   "outputs": [
    {
     "name": "stdout",
     "output_type": "stream",
     "text": [
      "packages btw 45 and 60 =  66236\n"
     ]
    }
   ],
   "source": [
    "print(\"packages btw 45 and 60 = \" ,  -(durations <= pd.Timedelta(days=45)).sum() + (durations <= pd.Timedelta(days=60)).sum())"
   ]
  },
  {
   "cell_type": "code",
   "execution_count": 60,
   "id": "e8beb47d",
   "metadata": {},
   "outputs": [
    {
     "name": "stdout",
     "output_type": "stream",
     "text": [
      "packages btw 60 and 2000 =  112946\n"
     ]
    }
   ],
   "source": [
    "print(\"packages btw 60 and 2000 = \" ,  -(durations <= pd.Timedelta(days=60)).sum() + (durations <= pd.Timedelta(days=2000)).sum())"
   ]
  },
  {
   "cell_type": "code",
   "execution_count": 58,
   "id": "8896972c",
   "metadata": {},
   "outputs": [
    {
     "name": "stdout",
     "output_type": "stream",
     "text": [
      "packages biggar 100 =  47851\n"
     ]
    }
   ],
   "source": [
    "print(\"packages biggar 100 = \" ,  (durations >= pd.Timedelta(days=100)).sum())"
   ]
  },
  {
   "cell_type": "code",
   "execution_count": 10,
   "id": "1d76c41d",
   "metadata": {},
   "outputs": [
    {
     "name": "stdout",
     "output_type": "stream",
     "text": [
      "Number of duplicate rows (ignoring specified columns): 298612\n"
     ]
    }
   ],
   "source": [
    "# Define columns to ignore when checking duplicates\n",
    "cols_ignore = [\"RECPTCL_FID\", \"duration_to_next_step\", \"total_duration\", \"id\"]\n",
    "cols_check  = [c for c in df.columns if c not in cols_ignore]\n",
    "\n",
    "# 1. Identify all duplicate rows based on cols_check\n",
    "dup_mask = df.duplicated(subset=cols_check, keep=False)\n",
    "\n",
    "# 2. Number of such duplicate rows\n",
    "num_duplicates = dup_mask.sum()\n",
    "print(f\"Number of duplicate rows (ignoring specified columns): {num_duplicates}\")\n",
    "\n",
    "\n"
   ]
  },
  {
   "cell_type": "code",
   "execution_count": 11,
   "id": "cb96f04f",
   "metadata": {},
   "outputs": [],
   "source": [
    "df = df.drop_duplicates(subset=cols_check, keep=\"first\").reset_index(drop=True)"
   ]
  },
  {
   "cell_type": "code",
   "execution_count": 63,
   "id": "c86dcab5",
   "metadata": {},
   "outputs": [],
   "source": [
    "enter_algeria_event = \"Recevoir envoi au bureau d'échange (Ent)\"\n",
    "df_enter = df[df[\"EVENT_TYPE_NM\"] == enter_algeria_event]"
   ]
  },
  {
   "cell_type": "code",
   "execution_count": 64,
   "id": "c8c6180b",
   "metadata": {},
   "outputs": [],
   "source": [
    "# 2. Total rows vs unique MAILITM_FID in this subset\n",
    "total_rows = len(df_enter)\n",
    "unique_fids_enter = df_enter[\"MAILITM_FID\"].nunique()"
   ]
  },
  {
   "cell_type": "code",
   "execution_count": 65,
   "id": "b7f04c24",
   "metadata": {},
   "outputs": [
    {
     "name": "stdout",
     "output_type": "stream",
     "text": [
      "Total 'enter Algeria' rows: 933293\n",
      "Unique MAILITM_FID in subset: 886093\n",
      "Are all rows unique per FID? No\n"
     ]
    }
   ],
   "source": [
    "print(f\"Total 'enter Algeria' rows: {total_rows}\")\n",
    "print(f\"Unique MAILITM_FID in subset: {unique_fids_enter}\")\n",
    "print(f\"Are all rows unique per FID? {'Yes' if total_rows == unique_fids_enter else 'No'}\")"
   ]
  },
  {
   "cell_type": "code",
   "execution_count": 69,
   "id": "45eda5dc",
   "metadata": {},
   "outputs": [
    {
     "data": {
      "text/plain": [
       "(8752582,)"
      ]
     },
     "execution_count": 69,
     "metadata": {},
     "output_type": "execute_result"
    }
   ],
   "source": [
    "durations_btw_events = df[\"duration_to_next_step\"]\n",
    "durations_btw_events = pd.to_timedelta(durations_btw_events, errors=\"coerce\")\n",
    "durations_btw_events.shape"
   ]
  },
  {
   "cell_type": "code",
   "execution_count": 71,
   "id": "e96a0001",
   "metadata": {},
   "outputs": [
    {
     "name": "stdout",
     "output_type": "stream",
     "text": [
      "events smaller than 15 =  6727179\n"
     ]
    }
   ],
   "source": [
    "print(\"events smaller than 15 = \" , (durations_btw_events <= pd.Timedelta(days=15)).sum())"
   ]
  },
  {
   "cell_type": "code",
   "execution_count": 72,
   "id": "0cc5e14b",
   "metadata": {},
   "outputs": [
    {
     "name": "stdout",
     "output_type": "stream",
     "text": [
      "count\n",
      "2       24437\n",
      "3       67603\n",
      "4       99104\n",
      "5      113187\n",
      "6      112030\n",
      "        ...  \n",
      "143         1\n",
      "147         1\n",
      "152         1\n",
      "160         1\n",
      "251         1\n",
      "Name: count, Length: 126, dtype: int64\n"
     ]
    }
   ],
   "source": [
    "# Step 1: Count how many times each ID appears\n",
    "id_counts = df[\"MAILITM_FID\"].value_counts()\n",
    "\n",
    "# Step 2: Count how many IDs have a specific count\n",
    "count_of_counts = id_counts.value_counts().sort_index()\n",
    "\n",
    "print(count_of_counts)\n"
   ]
  },
  {
   "cell_type": "code",
   "execution_count": 76,
   "id": "67152016",
   "metadata": {},
   "outputs": [
    {
     "data": {
      "text/html": [
       "<div>\n",
       "<style scoped>\n",
       "    .dataframe tbody tr th:only-of-type {\n",
       "        vertical-align: middle;\n",
       "    }\n",
       "\n",
       "    .dataframe tbody tr th {\n",
       "        vertical-align: top;\n",
       "    }\n",
       "\n",
       "    .dataframe thead th {\n",
       "        text-align: right;\n",
       "    }\n",
       "</style>\n",
       "<table border=\"1\" class=\"dataframe\">\n",
       "  <thead>\n",
       "    <tr style=\"text-align: right;\">\n",
       "      <th></th>\n",
       "      <th>RECPTCL_FID</th>\n",
       "      <th>MAILITM_FID</th>\n",
       "      <th>EVENT_TYPE_NM</th>\n",
       "      <th>date</th>\n",
       "      <th>établissement_postal</th>\n",
       "      <th>EVENT_TYPE_CD</th>\n",
       "      <th>next_établissement_postal</th>\n",
       "      <th>id</th>\n",
       "      <th>duration_to_next_step</th>\n",
       "      <th>total_duration</th>\n",
       "    </tr>\n",
       "  </thead>\n",
       "  <tbody>\n",
       "    <tr>\n",
       "      <th>835189</th>\n",
       "      <td>NaN</td>\n",
       "      <td>RB198581530SG</td>\n",
       "      <td>Recevoir envoi au bureau d'échange (Ent)</td>\n",
       "      <td>2022-06-11 11:58:08.340</td>\n",
       "      <td>ALGER COLIS POSTAUX</td>\n",
       "      <td>30</td>\n",
       "      <td>NaN</td>\n",
       "      <td>SG</td>\n",
       "      <td>0 days 00:06:59.143000</td>\n",
       "      <td>15 days 03:26:48.533000</td>\n",
       "    </tr>\n",
       "    <tr>\n",
       "      <th>835190</th>\n",
       "      <td>NaN</td>\n",
       "      <td>RB198581530SG</td>\n",
       "      <td>Expédier envoi à adresse nationale (Ent)</td>\n",
       "      <td>2022-06-11 12:05:07.483</td>\n",
       "      <td>ALGER COLIS POSTAUX</td>\n",
       "      <td>35</td>\n",
       "      <td>CDD SETIF</td>\n",
       "      <td>SG</td>\n",
       "      <td>0 days 00:33:50.457000</td>\n",
       "      <td>15 days 03:26:48.533000</td>\n",
       "    </tr>\n",
       "    <tr>\n",
       "      <th>835191</th>\n",
       "      <td>NaN</td>\n",
       "      <td>RB198581530SG</td>\n",
       "      <td>Expédier envoi à adresse nationale (Ent)</td>\n",
       "      <td>2022-06-11 12:38:57.940</td>\n",
       "      <td>ALGER COLIS POSTAUX</td>\n",
       "      <td>35</td>\n",
       "      <td>SECTION PAQUETS CPX ALGER</td>\n",
       "      <td>SG</td>\n",
       "      <td>1 days 19:29:27.980000</td>\n",
       "      <td>15 days 03:26:48.533000</td>\n",
       "    </tr>\n",
       "    <tr>\n",
       "      <th>835192</th>\n",
       "      <td>NaN</td>\n",
       "      <td>RB198581530SG</td>\n",
       "      <td>Recevoir envoi au bureau de livraison (Ent)</td>\n",
       "      <td>2022-06-13 08:08:25.920</td>\n",
       "      <td>CDD SETIF</td>\n",
       "      <td>32</td>\n",
       "      <td>NaN</td>\n",
       "      <td>SG</td>\n",
       "      <td>0 days 04:39:41.930000</td>\n",
       "      <td>15 days 03:26:48.533000</td>\n",
       "    </tr>\n",
       "    <tr>\n",
       "      <th>835193</th>\n",
       "      <td>NaN</td>\n",
       "      <td>RB198581530SG</td>\n",
       "      <td>Expédier envoi à adresse nationale (Srt)</td>\n",
       "      <td>2022-06-13 12:48:07.850</td>\n",
       "      <td>CDD SETIF</td>\n",
       "      <td>2</td>\n",
       "      <td>BABOR</td>\n",
       "      <td>SG</td>\n",
       "      <td>4 days 22:23:10.027000</td>\n",
       "      <td>15 days 03:26:48.533000</td>\n",
       "    </tr>\n",
       "  </tbody>\n",
       "</table>\n",
       "</div>"
      ],
      "text/plain": [
       "       RECPTCL_FID    MAILITM_FID  \\\n",
       "835189         NaN  RB198581530SG   \n",
       "835190         NaN  RB198581530SG   \n",
       "835191         NaN  RB198581530SG   \n",
       "835192         NaN  RB198581530SG   \n",
       "835193         NaN  RB198581530SG   \n",
       "\n",
       "                                      EVENT_TYPE_NM                     date  \\\n",
       "835189     Recevoir envoi au bureau d'échange (Ent)  2022-06-11 11:58:08.340   \n",
       "835190     Expédier envoi à adresse nationale (Ent)  2022-06-11 12:05:07.483   \n",
       "835191     Expédier envoi à adresse nationale (Ent)  2022-06-11 12:38:57.940   \n",
       "835192  Recevoir envoi au bureau de livraison (Ent)  2022-06-13 08:08:25.920   \n",
       "835193     Expédier envoi à adresse nationale (Srt)  2022-06-13 12:48:07.850   \n",
       "\n",
       "       établissement_postal  EVENT_TYPE_CD  next_établissement_postal  id  \\\n",
       "835189  ALGER COLIS POSTAUX             30                        NaN  SG   \n",
       "835190  ALGER COLIS POSTAUX             35                  CDD SETIF  SG   \n",
       "835191  ALGER COLIS POSTAUX             35  SECTION PAQUETS CPX ALGER  SG   \n",
       "835192            CDD SETIF             32                        NaN  SG   \n",
       "835193            CDD SETIF              2                      BABOR  SG   \n",
       "\n",
       "         duration_to_next_step           total_duration  \n",
       "835189  0 days 00:06:59.143000  15 days 03:26:48.533000  \n",
       "835190  0 days 00:33:50.457000  15 days 03:26:48.533000  \n",
       "835191  1 days 19:29:27.980000  15 days 03:26:48.533000  \n",
       "835192  0 days 04:39:41.930000  15 days 03:26:48.533000  \n",
       "835193  4 days 22:23:10.027000  15 days 03:26:48.533000  "
      ]
     },
     "execution_count": 76,
     "metadata": {},
     "output_type": "execute_result"
    }
   ],
   "source": [
    "ids_with_0 = id_counts[id_counts == 251].index\n",
    "df_with_0 = df[df[\"MAILITM_FID\"].isin(ids_with_0)]\n",
    "df_with_0.head()\n"
   ]
  },
  {
   "cell_type": "code",
   "execution_count": 77,
   "id": "a223b39a",
   "metadata": {},
   "outputs": [],
   "source": [
    "dup_run = (\n",
    "    df.groupby(\"MAILITM_FID\")[\"EVENT_TYPE_NM\"]\n",
    "      .shift(-1)                    # look one row ahead\n",
    "      .eq(df[\"EVENT_TYPE_NM\"])      # True if same event repeats\n",
    ")\n",
    "\n",
    "# keep rows that are NOT duplicates-in-a-row (i.e., keep the last in each streak)\n",
    "df = df[~dup_run].copy()"
   ]
  },
  {
   "cell_type": "code",
   "execution_count": 78,
   "id": "fa1b3bd6",
   "metadata": {},
   "outputs": [
    {
     "data": {
      "text/plain": [
       "(7618347, 10)"
      ]
     },
     "execution_count": 78,
     "metadata": {},
     "output_type": "execute_result"
    }
   ],
   "source": [
    "df.shape"
   ]
  },
  {
   "cell_type": "code",
   "execution_count": 79,
   "id": "036620a7",
   "metadata": {},
   "outputs": [
    {
     "name": "stdout",
     "output_type": "stream",
     "text": [
      "count\n",
      "1       31494\n",
      "2       24561\n",
      "3       85251\n",
      "4      120168\n",
      "5      127738\n",
      "        ...  \n",
      "127         4\n",
      "128         2\n",
      "130         2\n",
      "133         1\n",
      "134         1\n",
      "Name: count, Length: 103, dtype: int64\n"
     ]
    }
   ],
   "source": [
    "# Step 1: Count how many times each ID appears\n",
    "id_counts = df[\"MAILITM_FID\"].value_counts()\n",
    "\n",
    "# Step 2: Count how many IDs have a specific count\n",
    "count_of_counts = id_counts.value_counts().sort_index()\n",
    "\n",
    "print(count_of_counts)\n"
   ]
  },
  {
   "cell_type": "code",
   "execution_count": 81,
   "id": "3cf8a434",
   "metadata": {},
   "outputs": [
    {
     "data": {
      "text/html": [
       "<div>\n",
       "<style scoped>\n",
       "    .dataframe tbody tr th:only-of-type {\n",
       "        vertical-align: middle;\n",
       "    }\n",
       "\n",
       "    .dataframe tbody tr th {\n",
       "        vertical-align: top;\n",
       "    }\n",
       "\n",
       "    .dataframe thead th {\n",
       "        text-align: right;\n",
       "    }\n",
       "</style>\n",
       "<table border=\"1\" class=\"dataframe\">\n",
       "  <thead>\n",
       "    <tr style=\"text-align: right;\">\n",
       "      <th></th>\n",
       "      <th>RECPTCL_FID</th>\n",
       "      <th>MAILITM_FID</th>\n",
       "      <th>EVENT_TYPE_NM</th>\n",
       "      <th>date</th>\n",
       "      <th>établissement_postal</th>\n",
       "      <th>EVENT_TYPE_CD</th>\n",
       "      <th>next_établissement_postal</th>\n",
       "      <th>id</th>\n",
       "      <th>duration_to_next_step</th>\n",
       "      <th>total_duration</th>\n",
       "    </tr>\n",
       "  </thead>\n",
       "  <tbody>\n",
       "    <tr>\n",
       "      <th>466391</th>\n",
       "      <td>NaN</td>\n",
       "      <td>RV586240137CN</td>\n",
       "      <td>Insérer envoi dans sac (Srt)</td>\n",
       "      <td>2022-01-01 09:31:00</td>\n",
       "      <td>CHINE</td>\n",
       "      <td>8</td>\n",
       "      <td>NaN</td>\n",
       "      <td>CN</td>\n",
       "      <td>0 days 18:34:00</td>\n",
       "      <td>206 days 18:34:00</td>\n",
       "    </tr>\n",
       "    <tr>\n",
       "      <th>466392</th>\n",
       "      <td>CNBJSADZALGBAUR20001006010052</td>\n",
       "      <td>RV586240137CN</td>\n",
       "      <td>Expédition d'envoi à l'étranger (EDI-reçu)</td>\n",
       "      <td>2022-01-02 04:05:00</td>\n",
       "      <td>NaN</td>\n",
       "      <td>12</td>\n",
       "      <td>ALGÉRIE</td>\n",
       "      <td>CN</td>\n",
       "      <td>2 days 06:08:00</td>\n",
       "      <td>206 days 18:34:00</td>\n",
       "    </tr>\n",
       "    <tr>\n",
       "      <th>466393</th>\n",
       "      <td>NaN</td>\n",
       "      <td>RV586240137CN</td>\n",
       "      <td>Insérer envoi dans sac (Srt)</td>\n",
       "      <td>2022-01-04 10:13:00</td>\n",
       "      <td>CHINE</td>\n",
       "      <td>8</td>\n",
       "      <td>NaN</td>\n",
       "      <td>CN</td>\n",
       "      <td>0 days 17:52:00</td>\n",
       "      <td>206 days 18:34:00</td>\n",
       "    </tr>\n",
       "    <tr>\n",
       "      <th>466394</th>\n",
       "      <td>CNBJSADZALGBAUR20007001010052</td>\n",
       "      <td>RV586240137CN</td>\n",
       "      <td>Expédition d'envoi à l'étranger (EDI-reçu)</td>\n",
       "      <td>2022-01-05 04:05:00</td>\n",
       "      <td>NaN</td>\n",
       "      <td>12</td>\n",
       "      <td>ALGÉRIE</td>\n",
       "      <td>CN</td>\n",
       "      <td>2 days 05:33:00</td>\n",
       "      <td>206 days 18:34:00</td>\n",
       "    </tr>\n",
       "    <tr>\n",
       "      <th>466395</th>\n",
       "      <td>NaN</td>\n",
       "      <td>RV586240137CN</td>\n",
       "      <td>Insérer envoi dans sac (Srt)</td>\n",
       "      <td>2022-01-07 09:38:00</td>\n",
       "      <td>CHINE</td>\n",
       "      <td>8</td>\n",
       "      <td>NaN</td>\n",
       "      <td>CN</td>\n",
       "      <td>1 days 18:27:00</td>\n",
       "      <td>206 days 18:34:00</td>\n",
       "    </tr>\n",
       "  </tbody>\n",
       "</table>\n",
       "</div>"
      ],
      "text/plain": [
       "                          RECPTCL_FID    MAILITM_FID  \\\n",
       "466391                            NaN  RV586240137CN   \n",
       "466392  CNBJSADZALGBAUR20001006010052  RV586240137CN   \n",
       "466393                            NaN  RV586240137CN   \n",
       "466394  CNBJSADZALGBAUR20007001010052  RV586240137CN   \n",
       "466395                            NaN  RV586240137CN   \n",
       "\n",
       "                                     EVENT_TYPE_NM                 date  \\\n",
       "466391                Insérer envoi dans sac (Srt)  2022-01-01 09:31:00   \n",
       "466392  Expédition d'envoi à l'étranger (EDI-reçu)  2022-01-02 04:05:00   \n",
       "466393                Insérer envoi dans sac (Srt)  2022-01-04 10:13:00   \n",
       "466394  Expédition d'envoi à l'étranger (EDI-reçu)  2022-01-05 04:05:00   \n",
       "466395                Insérer envoi dans sac (Srt)  2022-01-07 09:38:00   \n",
       "\n",
       "       établissement_postal  EVENT_TYPE_CD next_établissement_postal  id  \\\n",
       "466391                CHINE              8                       NaN  CN   \n",
       "466392                  NaN             12                   ALGÉRIE  CN   \n",
       "466393                CHINE              8                       NaN  CN   \n",
       "466394                  NaN             12                   ALGÉRIE  CN   \n",
       "466395                CHINE              8                       NaN  CN   \n",
       "\n",
       "       duration_to_next_step     total_duration  \n",
       "466391       0 days 18:34:00  206 days 18:34:00  \n",
       "466392       2 days 06:08:00  206 days 18:34:00  \n",
       "466393       0 days 17:52:00  206 days 18:34:00  \n",
       "466394       2 days 05:33:00  206 days 18:34:00  \n",
       "466395       1 days 18:27:00  206 days 18:34:00  "
      ]
     },
     "execution_count": 81,
     "metadata": {},
     "output_type": "execute_result"
    }
   ],
   "source": [
    "ids_with_0 = id_counts[id_counts == 133].index\n",
    "df_with_0 = df[df[\"MAILITM_FID\"].isin(ids_with_0)]\n",
    "df_with_0.head()\n"
   ]
  },
  {
   "cell_type": "code",
   "execution_count": null,
   "id": "aceebe1b",
   "metadata": {},
   "outputs": [],
   "source": []
  }
 ],
 "metadata": {
  "kernelspec": {
   "display_name": "base",
   "language": "python",
   "name": "python3"
  },
  "language_info": {
   "codemirror_mode": {
    "name": "ipython",
    "version": 3
   },
   "file_extension": ".py",
   "mimetype": "text/x-python",
   "name": "python",
   "nbconvert_exporter": "python",
   "pygments_lexer": "ipython3",
   "version": "3.10.9"
  }
 },
 "nbformat": 4,
 "nbformat_minor": 5
}
