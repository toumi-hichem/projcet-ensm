{
 "cells": [
  {
   "cell_type": "code",
   "execution_count": 2,
   "id": "7dc48e25",
   "metadata": {},
   "outputs": [],
   "source": [
    "import pandas as pd\n",
    "import numpy as np\n",
    "import matplotlib.pyplot as plt\n",
    "import seaborn as sns\n",
    "%matplotlib inline"
   ]
  },
  {
   "cell_type": "code",
   "execution_count": 1,
   "id": "2ed4022b",
   "metadata": {},
   "outputs": [],
   "source": [
    "file_name = \"df_count_2_part1.csv\"   "
   ]
  },
  {
   "cell_type": "code",
   "execution_count": 3,
   "id": "b46b746c",
   "metadata": {},
   "outputs": [],
   "source": [
    " \n",
    "df = pd.read_csv(file_name , parse_dates=[\"date\"])\n"
   ]
  },
  {
   "cell_type": "code",
   "execution_count": 4,
   "id": "bec3e2eb",
   "metadata": {},
   "outputs": [
    {
     "data": {
      "text/plain": [
       "(8700873, 9)"
      ]
     },
     "execution_count": 4,
     "metadata": {},
     "output_type": "execute_result"
    }
   ],
   "source": [
    "df.shape"
   ]
  },
  {
   "cell_type": "code",
   "execution_count": 5,
   "id": "ed9bfdeb",
   "metadata": {},
   "outputs": [],
   "source": [
    "# Read the country reference file\n",
    "df_countries = pd.read_csv(\"CT_COUNTRIES.csv\", sep=\";\", header=None, names=[\"code\", \"lang\", \"name\"])\n",
    "\n",
    "country_dict = df_countries.set_index(\"code\")[\"name\"].to_dict()"
   ]
  },
  {
   "cell_type": "code",
   "execution_count": 6,
   "id": "789237c0",
   "metadata": {},
   "outputs": [
    {
     "name": "stdout",
     "output_type": "stream",
     "text": [
      "Number of duplicate rows (ignoring specified columns): 136\n"
     ]
    }
   ],
   "source": [
    "# Define columns to ignore when checking duplicates\n",
    "cols_ignore = [\"RECPTCL_FID\", \"duration_to_next_step\", \"total_duration\", \"id\"]\n",
    "cols_check  = [c for c in df.columns if c not in cols_ignore]\n",
    "\n",
    "# 1. Identify all duplicate rows based on cols_check\n",
    "dup_mask = df.duplicated(subset=cols_check, keep=False)\n",
    "\n",
    "# 2. Number of such duplicate rows\n",
    "num_duplicates = dup_mask.sum()\n",
    "print(f\"Number of duplicate rows (ignoring specified columns): {num_duplicates}\")\n",
    "\n",
    "\n"
   ]
  },
  {
   "cell_type": "code",
   "execution_count": 7,
   "id": "eee67ebd",
   "metadata": {},
   "outputs": [],
   "source": [
    "df = df.drop_duplicates(subset=cols_check, keep=\"first\").reset_index(drop=True)"
   ]
  },
  {
   "cell_type": "code",
   "execution_count": 8,
   "id": "8d148084",
   "metadata": {},
   "outputs": [
    {
     "name": "stdout",
     "output_type": "stream",
     "text": [
      "First-event frequencies:\n",
      "Insérer envoi dans sac (Srt)             489,835\n",
      "Réception d'envoi du client (Srt)        294,069\n",
      "Expédition d'envoi à l'étranger (EDI-reçu) 44,331\n",
      "Recevoir envoi au bureau d'échange (Ent) 176\n",
      "Recevoir envoi au bureau de livraison (Ent) 8\n",
      "Expédier envoi à adresse nationale (Ent) 4\n",
      "Recevoir envoi au bureau d'échange (Srt) 3\n",
      "Recevoir envoi au lieu (Ent)             3\n"
     ]
    }
   ],
   "source": [
    "import pandas as pd\n",
    "\n",
    "ID_COL    = \"MAILITM_FID\"\n",
    "EVENT_COL = \"EVENT_TYPE_NM\"\n",
    "\n",
    "# 1) pick the first row per parcel (rows are already in correct order)\n",
    "first_events = (\n",
    "    df.groupby(ID_COL, sort=False)[EVENT_COL]\n",
    "      .first()                 # a Series: index = parcel ID, value = first event\n",
    ")\n",
    "\n",
    "# 2) count how many parcels have each first event\n",
    "event_counts = (\n",
    "    first_events.value_counts()   # Series: index = event, value = count\n",
    "               .sort_values(ascending=False)\n",
    ")\n",
    "\n",
    "# 3) print the result\n",
    "print(\"First-event frequencies:\")\n",
    "for event, count in event_counts.items():\n",
    "    print(f\"{event:40} {count:,}\")\n"
   ]
  },
  {
   "cell_type": "code",
   "execution_count": 9,
   "id": "a59e7f14",
   "metadata": {},
   "outputs": [
    {
     "name": "stdout",
     "output_type": "stream",
     "text": [
      "établissement_postal          639213\n",
      "next_établissement_postal    5678279\n",
      "duration_to_next_step         828428\n",
      "dtype: int64\n"
     ]
    }
   ],
   "source": [
    "missing_values = df.isnull().sum()\n",
    "missing_columns = missing_values[missing_values > 0]\n",
    "print(missing_columns)"
   ]
  },
  {
   "cell_type": "code",
   "execution_count": 11,
   "id": "0d0cf25a",
   "metadata": {},
   "outputs": [],
   "source": [
    "df = df.drop(columns=[ \"duration_to_next_step\", \"total_duration\"])"
   ]
  },
  {
   "cell_type": "code",
   "execution_count": 12,
   "id": "32d936e7",
   "metadata": {},
   "outputs": [
    {
     "name": "stdout",
     "output_type": "stream",
     "text": [
      "établissement_postal          639213\n",
      "next_établissement_postal    5678279\n",
      "dtype: int64\n"
     ]
    }
   ],
   "source": [
    "missing_values = df.isnull().sum()\n",
    "missing_columns = missing_values[missing_values > 0]\n",
    "print(missing_columns)"
   ]
  },
  {
   "cell_type": "code",
   "execution_count": 13,
   "id": "38f06752",
   "metadata": {},
   "outputs": [
    {
     "name": "stdout",
     "output_type": "stream",
     "text": [
      "Total rows with missing values: 5827547\n"
     ]
    }
   ],
   "source": [
    "\n",
    "# Assuming 'df' is your DataFrame!\n",
    "\n",
    "# Identify the rows with missing values\n",
    "missing_rows = df[df.isnull().any(axis=1)]\n",
    "\n",
    "# Print the total number of rows that have missing values\n",
    "print(\"Total rows with missing values:\", missing_rows.shape[0])\n",
    "\n",
    "\n"
   ]
  },
  {
   "cell_type": "code",
   "execution_count": 14,
   "id": "47bc4e02",
   "metadata": {},
   "outputs": [
    {
     "name": "stdout",
     "output_type": "stream",
     "text": [
      "\n",
      "Summary of missing patterns (tuple of 0's and 1's corresponding to missing values in each column):\n",
      "(0, 0, 0, 0, 0, 1, 0)    5188334\n",
      "(0, 0, 0, 1, 0, 1, 0)     489945\n",
      "(0, 0, 0, 1, 0, 0, 0)     149268\n",
      "dtype: int64\n"
     ]
    }
   ],
   "source": [
    "# Analyze the missing patterns across rows:\n",
    "# Create a binary pattern for each row where 1 indicates a missing value and 0 indicates non-missing.\n",
    "missing_pattern = missing_rows.isnull().astype(int)\n",
    "# Convert each pattern to a tuple to use as a key for groupby\n",
    "missing_pattern_tuples = missing_pattern.apply(tuple, axis=1)\n",
    "# Group by the missing pattern and count the number of rows for each pattern\n",
    "pattern_summary = missing_rows.groupby(missing_pattern_tuples).size().sort_values(ascending=False)\n",
    "\n",
    "print(\"\\nSummary of missing patterns (tuple of 0's and 1's corresponding to missing values in each column):\")\n",
    "print(pattern_summary)\n",
    "\n"
   ]
  },
  {
   "cell_type": "code",
   "execution_count": 16,
   "id": "9c54464c",
   "metadata": {},
   "outputs": [
    {
     "name": "stdout",
     "output_type": "stream",
     "text": [
      "EVENT_TYPE_NM                     23\n",
      "EVENT_TYPE_CD                     23\n",
      "id                               125\n",
      "next_établissement_postal       3547\n",
      "établissement_postal            3704\n",
      "MAILITM_FID                   828429\n",
      "date                         5532970\n",
      "dtype: int64\n"
     ]
    }
   ],
   "source": [
    "distinct_values_count = df.nunique()\n",
    "\n",
    "distinct_values_count = distinct_values_count.sort_values(ascending=True)\n",
    "\n",
    "print(distinct_values_count)"
   ]
  },
  {
   "cell_type": "code",
   "execution_count": 15,
   "id": "6f3c108a",
   "metadata": {},
   "outputs": [
    {
     "name": "stdout",
     "output_type": "stream",
     "text": [
      "EVENT_TYPE_NM\n",
      "Recevoir envoi au bureau de livraison (Ent)                    1643829\n",
      "Expédier envoi à adresse nationale (Ent)                       1511687\n",
      "Expédier envoi à adresse nationale (Srt)                       1078770\n",
      "Recevoir envoi au bureau d'échange (Ent)                        880417\n",
      "Insérer envoi dans sac (Srt)                                    832234\n",
      "Livraison d'envoi (Ent)                                         718600\n",
      "Vaine tentative de livraison d'envoi (Ent)                      641377\n",
      "Transmettre envoi à l'agent de livraison (Ent)                  526903\n",
      "Expédition d'envoi à l'étranger (EDI-reçu)                      394132\n",
      "Réception d'envoi du client (Srt)                               311941\n",
      "Enregistrer détails d'envoi au bureau d'échange (Srt)            93447\n",
      "Recevoir envoi au bureau d'échange (Srt)                         31734\n",
      "Expédier envoi à la douane (Ent)                                 23842\n",
      "Renvoyer envoi de la douane (Ent)                                 9122\n",
      "Renvoyer envoi de la douane (Srt)                                  689\n",
      "Recevoir envoi au lieu (Ent)                                       623\n",
      "Mettre à jour envoi (Ent)                                          599\n",
      "Supprimer envoi du sac (Srt)                                       316\n",
      "Enregistrer informations douanières d'envoi (Ent)                  277\n",
      "Enregistrer raison de rétention d'envoi par la douane (Srt)        199\n",
      "Expédier envoi à la douane (Srt)                                    51\n",
      "Recevoir envoi au lieu (Srt)                                        11\n",
      "Garder envoi au point de livraison (Ent)                             5\n",
      "Name: count, dtype: int64\n"
     ]
    }
   ],
   "source": [
    "\n",
    "# Count the occurrences of each protocol\n",
    "event_type = df['EVENT_TYPE_NM'].value_counts()\n",
    "\n",
    "print(event_type)\n"
   ]
  },
  {
   "cell_type": "code",
   "execution_count": 17,
   "id": "ab434c1f",
   "metadata": {},
   "outputs": [
    {
     "name": "stdout",
     "output_type": "stream",
     "text": [
      "établissement_postal\n",
      "ALGER COLIS POSTAUX    1200525\n",
      "ALGER GARE             1153144\n",
      "ÉMIRATS ARABES UNIS     362600\n",
      "FRANCE                  348397\n",
      "ANNABA EL MARSA         217177\n",
      "                        ...   \n",
      "TAMESNA                      1\n",
      "BOUYAMINE                    1\n",
      "BEL-BACHIR                   1\n",
      "BOU-SFER-PLAGE               1\n",
      "LAMMAMRA 20 AOUT 55          1\n",
      "Name: count, Length: 3704, dtype: int64\n"
     ]
    }
   ],
   "source": [
    "\n",
    "# Count the occurrences of each protocol\n",
    "proto_counts = df['établissement_postal'].value_counts()\n",
    "\n",
    "print(proto_counts)\n"
   ]
  },
  {
   "cell_type": "code",
   "execution_count": 18,
   "id": "8e84c609",
   "metadata": {},
   "outputs": [
    {
     "name": "stdout",
     "output_type": "stream",
     "text": [
      "next_établissement_postal\n",
      "SECTION PAQUETS CPX ALGER    423225\n",
      "ALGÉRIE                      394132\n",
      "ALGER GARE                   253072\n",
      "ORAN COLIS POSTAUX           112598\n",
      "CONSTANTINE COLIS POSTAUX    107367\n",
      "                              ...  \n",
      "VAGUEMESTRE                       1\n",
      "ZENATA-AEROPORT                   1\n",
      "ZEGHAIA-ANNASR                    1\n",
      "OUED EL SADER                     1\n",
      "ZERIBET-HAMED                     1\n",
      "Name: count, Length: 3547, dtype: int64\n"
     ]
    }
   ],
   "source": [
    "# Count the occurrences of each protocol\n",
    "proto_counts = df['next_établissement_postal'].value_counts()\n",
    "\n",
    "print(proto_counts)\n",
    "\n"
   ]
  },
  {
   "cell_type": "code",
   "execution_count": 19,
   "id": "a8ff1ba4",
   "metadata": {},
   "outputs": [
    {
     "name": "stdout",
     "output_type": "stream",
     "text": [
      "id\n",
      "SG    4672119\n",
      "FR    1730991\n",
      "AE    1390114\n",
      "DE     134447\n",
      "ES     114743\n",
      "       ...   \n",
      "PE          6\n",
      "TT          6\n",
      "GM          5\n",
      "AO          3\n",
      "SC          2\n",
      "Name: count, Length: 125, dtype: int64\n"
     ]
    }
   ],
   "source": [
    "\n",
    "# Count the occurrences of each protocol\n",
    "proto_counts = df['id'].value_counts()\n",
    "\n",
    "print(proto_counts)\n",
    "\n",
    "s = proto_counts\n"
   ]
  },
  {
   "cell_type": "code",
   "execution_count": 20,
   "id": "bc7a80e2",
   "metadata": {},
   "outputs": [
    {
     "name": "stdout",
     "output_type": "stream",
     "text": [
      "id\n",
      "SINGAPOUR              4672119\n",
      "FRANCE                 1730991\n",
      "ÉMIRATS ARABES UNIS    1390114\n",
      "ALLEMAGNE               134447\n",
      "ESPAGNE                 114743\n",
      "                        ...   \n",
      "PÉROU                        6\n",
      "TRINITÉ-ET-TOBAGO            6\n",
      "GAMBIE                       5\n",
      "ANGOLA                       3\n",
      "SEYCHELLES                   2\n",
      "Name: count, Length: 125, dtype: int64\n"
     ]
    }
   ],
   "source": [
    "# Map the Series index using the country_dict\n",
    "s.index = s.index.map(lambda code: country_dict.get(code, code))  # Keep unmapped codes as-is\n",
    "print(s)"
   ]
  },
  {
   "cell_type": "code",
   "execution_count": 21,
   "id": "ccd08de2",
   "metadata": {},
   "outputs": [
    {
     "name": "stdout",
     "output_type": "stream",
     "text": [
      "Min date: 2005-11-08 23:29:54\n",
      "Max date: 2025-05-21 15:50:19\n"
     ]
    }
   ],
   "source": [
    "print(\"Min date:\", df[\"date\"].min())\n",
    "print(\"Max date:\", df[\"date\"].max())"
   ]
  },
  {
   "cell_type": "code",
   "execution_count": 22,
   "id": "6acf2a8f",
   "metadata": {},
   "outputs": [
    {
     "ename": "AttributeError",
     "evalue": "Can only use .str accessor with string values!",
     "output_type": "error",
     "traceback": [
      "\u001b[1;31m---------------------------------------------------------------------------\u001b[0m",
      "\u001b[1;31mAttributeError\u001b[0m                            Traceback (most recent call last)",
      "Cell \u001b[1;32mIn[22], line 1\u001b[0m\n\u001b[1;32m----> 1\u001b[0m df[\u001b[38;5;124m\"\u001b[39m\u001b[38;5;124mdate\u001b[39m\u001b[38;5;124m\"\u001b[39m] \u001b[38;5;241m=\u001b[39m \u001b[43mdf\u001b[49m\u001b[43m[\u001b[49m\u001b[38;5;124;43m\"\u001b[39;49m\u001b[38;5;124;43mdate\u001b[39;49m\u001b[38;5;124;43m\"\u001b[39;49m\u001b[43m]\u001b[49m\u001b[38;5;241;43m.\u001b[39;49m\u001b[43mstr\u001b[49m\u001b[38;5;241m.\u001b[39mreplace(\u001b[38;5;124mr\u001b[39m\u001b[38;5;124m'\u001b[39m\u001b[38;5;124m\\\u001b[39m\u001b[38;5;124m.\u001b[39m\u001b[38;5;124m\\\u001b[39m\u001b[38;5;124md+$\u001b[39m\u001b[38;5;124m'\u001b[39m, \u001b[38;5;124m'\u001b[39m\u001b[38;5;124m'\u001b[39m, regex\u001b[38;5;241m=\u001b[39m\u001b[38;5;28;01mTrue\u001b[39;00m)\n\u001b[0;32m      2\u001b[0m df[\u001b[38;5;124m\"\u001b[39m\u001b[38;5;124mdate\u001b[39m\u001b[38;5;124m\"\u001b[39m] \u001b[38;5;241m=\u001b[39m pd\u001b[38;5;241m.\u001b[39mto_datetime(df[\u001b[38;5;124m\"\u001b[39m\u001b[38;5;124mdate\u001b[39m\u001b[38;5;124m\"\u001b[39m], infer_datetime_format\u001b[38;5;241m=\u001b[39m\u001b[38;5;28;01mTrue\u001b[39;00m)\n",
      "File \u001b[1;32md:\\program inst\\anaconda3\\lib\\site-packages\\pandas\\core\\generic.py:6299\u001b[0m, in \u001b[0;36mNDFrame.__getattr__\u001b[1;34m(self, name)\u001b[0m\n\u001b[0;32m   6292\u001b[0m \u001b[38;5;28;01mif\u001b[39;00m (\n\u001b[0;32m   6293\u001b[0m     name \u001b[38;5;129;01mnot\u001b[39;00m \u001b[38;5;129;01min\u001b[39;00m \u001b[38;5;28mself\u001b[39m\u001b[38;5;241m.\u001b[39m_internal_names_set\n\u001b[0;32m   6294\u001b[0m     \u001b[38;5;129;01mand\u001b[39;00m name \u001b[38;5;129;01mnot\u001b[39;00m \u001b[38;5;129;01min\u001b[39;00m \u001b[38;5;28mself\u001b[39m\u001b[38;5;241m.\u001b[39m_metadata\n\u001b[0;32m   6295\u001b[0m     \u001b[38;5;129;01mand\u001b[39;00m name \u001b[38;5;129;01mnot\u001b[39;00m \u001b[38;5;129;01min\u001b[39;00m \u001b[38;5;28mself\u001b[39m\u001b[38;5;241m.\u001b[39m_accessors\n\u001b[0;32m   6296\u001b[0m     \u001b[38;5;129;01mand\u001b[39;00m \u001b[38;5;28mself\u001b[39m\u001b[38;5;241m.\u001b[39m_info_axis\u001b[38;5;241m.\u001b[39m_can_hold_identifiers_and_holds_name(name)\n\u001b[0;32m   6297\u001b[0m ):\n\u001b[0;32m   6298\u001b[0m     \u001b[38;5;28;01mreturn\u001b[39;00m \u001b[38;5;28mself\u001b[39m[name]\n\u001b[1;32m-> 6299\u001b[0m \u001b[38;5;28;01mreturn\u001b[39;00m \u001b[38;5;28;43mobject\u001b[39;49m\u001b[38;5;241;43m.\u001b[39;49m\u001b[38;5;21;43m__getattribute__\u001b[39;49m\u001b[43m(\u001b[49m\u001b[38;5;28;43mself\u001b[39;49m\u001b[43m,\u001b[49m\u001b[43m \u001b[49m\u001b[43mname\u001b[49m\u001b[43m)\u001b[49m\n",
      "File \u001b[1;32md:\\program inst\\anaconda3\\lib\\site-packages\\pandas\\core\\accessor.py:224\u001b[0m, in \u001b[0;36mCachedAccessor.__get__\u001b[1;34m(self, obj, cls)\u001b[0m\n\u001b[0;32m    221\u001b[0m \u001b[38;5;28;01mif\u001b[39;00m obj \u001b[38;5;129;01mis\u001b[39;00m \u001b[38;5;28;01mNone\u001b[39;00m:\n\u001b[0;32m    222\u001b[0m     \u001b[38;5;66;03m# we're accessing the attribute of the class, i.e., Dataset.geo\u001b[39;00m\n\u001b[0;32m    223\u001b[0m     \u001b[38;5;28;01mreturn\u001b[39;00m \u001b[38;5;28mself\u001b[39m\u001b[38;5;241m.\u001b[39m_accessor\n\u001b[1;32m--> 224\u001b[0m accessor_obj \u001b[38;5;241m=\u001b[39m \u001b[38;5;28;43mself\u001b[39;49m\u001b[38;5;241;43m.\u001b[39;49m\u001b[43m_accessor\u001b[49m\u001b[43m(\u001b[49m\u001b[43mobj\u001b[49m\u001b[43m)\u001b[49m\n\u001b[0;32m    225\u001b[0m \u001b[38;5;66;03m# Replace the property with the accessor object. Inspired by:\u001b[39;00m\n\u001b[0;32m    226\u001b[0m \u001b[38;5;66;03m# https://www.pydanny.com/cached-property.html\u001b[39;00m\n\u001b[0;32m    227\u001b[0m \u001b[38;5;66;03m# We need to use object.__setattr__ because we overwrite __setattr__ on\u001b[39;00m\n\u001b[0;32m    228\u001b[0m \u001b[38;5;66;03m# NDFrame\u001b[39;00m\n\u001b[0;32m    229\u001b[0m \u001b[38;5;28mobject\u001b[39m\u001b[38;5;241m.\u001b[39m\u001b[38;5;21m__setattr__\u001b[39m(obj, \u001b[38;5;28mself\u001b[39m\u001b[38;5;241m.\u001b[39m_name, accessor_obj)\n",
      "File \u001b[1;32md:\\program inst\\anaconda3\\lib\\site-packages\\pandas\\core\\strings\\accessor.py:191\u001b[0m, in \u001b[0;36mStringMethods.__init__\u001b[1;34m(self, data)\u001b[0m\n\u001b[0;32m    188\u001b[0m \u001b[38;5;28;01mdef\u001b[39;00m\u001b[38;5;250m \u001b[39m\u001b[38;5;21m__init__\u001b[39m(\u001b[38;5;28mself\u001b[39m, data) \u001b[38;5;241m-\u001b[39m\u001b[38;5;241m>\u001b[39m \u001b[38;5;28;01mNone\u001b[39;00m:\n\u001b[0;32m    189\u001b[0m     \u001b[38;5;28;01mfrom\u001b[39;00m\u001b[38;5;250m \u001b[39m\u001b[38;5;21;01mpandas\u001b[39;00m\u001b[38;5;21;01m.\u001b[39;00m\u001b[38;5;21;01mcore\u001b[39;00m\u001b[38;5;21;01m.\u001b[39;00m\u001b[38;5;21;01marrays\u001b[39;00m\u001b[38;5;21;01m.\u001b[39;00m\u001b[38;5;21;01mstring_\u001b[39;00m\u001b[38;5;250m \u001b[39m\u001b[38;5;28;01mimport\u001b[39;00m StringDtype\n\u001b[1;32m--> 191\u001b[0m     \u001b[38;5;28mself\u001b[39m\u001b[38;5;241m.\u001b[39m_inferred_dtype \u001b[38;5;241m=\u001b[39m \u001b[38;5;28;43mself\u001b[39;49m\u001b[38;5;241;43m.\u001b[39;49m\u001b[43m_validate\u001b[49m\u001b[43m(\u001b[49m\u001b[43mdata\u001b[49m\u001b[43m)\u001b[49m\n\u001b[0;32m    192\u001b[0m     \u001b[38;5;28mself\u001b[39m\u001b[38;5;241m.\u001b[39m_is_categorical \u001b[38;5;241m=\u001b[39m \u001b[38;5;28misinstance\u001b[39m(data\u001b[38;5;241m.\u001b[39mdtype, CategoricalDtype)\n\u001b[0;32m    193\u001b[0m     \u001b[38;5;28mself\u001b[39m\u001b[38;5;241m.\u001b[39m_is_string \u001b[38;5;241m=\u001b[39m \u001b[38;5;28misinstance\u001b[39m(data\u001b[38;5;241m.\u001b[39mdtype, StringDtype)\n",
      "File \u001b[1;32md:\\program inst\\anaconda3\\lib\\site-packages\\pandas\\core\\strings\\accessor.py:245\u001b[0m, in \u001b[0;36mStringMethods._validate\u001b[1;34m(data)\u001b[0m\n\u001b[0;32m    242\u001b[0m inferred_dtype \u001b[38;5;241m=\u001b[39m lib\u001b[38;5;241m.\u001b[39minfer_dtype(values, skipna\u001b[38;5;241m=\u001b[39m\u001b[38;5;28;01mTrue\u001b[39;00m)\n\u001b[0;32m    244\u001b[0m \u001b[38;5;28;01mif\u001b[39;00m inferred_dtype \u001b[38;5;129;01mnot\u001b[39;00m \u001b[38;5;129;01min\u001b[39;00m allowed_types:\n\u001b[1;32m--> 245\u001b[0m     \u001b[38;5;28;01mraise\u001b[39;00m \u001b[38;5;167;01mAttributeError\u001b[39;00m(\u001b[38;5;124m\"\u001b[39m\u001b[38;5;124mCan only use .str accessor with string values!\u001b[39m\u001b[38;5;124m\"\u001b[39m)\n\u001b[0;32m    246\u001b[0m \u001b[38;5;28;01mreturn\u001b[39;00m inferred_dtype\n",
      "\u001b[1;31mAttributeError\u001b[0m: Can only use .str accessor with string values!"
     ]
    }
   ],
   "source": [
    "df[\"date\"] = df[\"date\"].str.replace(r'\\.\\d+$', '', regex=True)\n",
    "df[\"date\"] = pd.to_datetime(df[\"date\"], infer_datetime_format=True)"
   ]
  },
  {
   "cell_type": "code",
   "execution_count": 26,
   "id": "9a6d3a40",
   "metadata": {},
   "outputs": [],
   "source": [
    "df = df.sort_values(by=[\"MAILITM_FID\", \"date\"])\n",
    "\n",
    "# Calculate time to next step\n",
    "df[\"duration_to_next_step\"] = df.groupby(\"MAILITM_FID\")[\"date\"].shift(-1) - df[\"date\"]\n",
    "\n",
    "# Calculate total duration per ID\n",
    "first_date = df.groupby(\"MAILITM_FID\")[\"date\"].transform(\"first\")\n",
    "last_date = df.groupby(\"MAILITM_FID\")[\"date\"].transform(\"last\")\n",
    "df[\"total_duration\"] = last_date - first_date\n",
    "\n",
    "\n"
   ]
  },
  {
   "cell_type": "code",
   "execution_count": 27,
   "id": "0d6f26da",
   "metadata": {},
   "outputs": [
    {
     "data": {
      "application/vnd.microsoft.datawrangler.viewer.v0+json": {
       "columns": [
        {
         "name": "index",
         "rawType": "int64",
         "type": "integer"
        },
        {
         "name": "MAILITM_FID",
         "rawType": "object",
         "type": "string"
        },
        {
         "name": "date",
         "rawType": "datetime64[ns]",
         "type": "datetime"
        },
        {
         "name": "EVENT_TYPE_NM",
         "rawType": "object",
         "type": "string"
        },
        {
         "name": "duration_to_next_step",
         "rawType": "timedelta64[ns]",
         "type": "unknown"
        },
        {
         "name": "total_duration",
         "rawType": "timedelta64[ns]",
         "type": "unknown"
        }
       ],
       "ref": "41c69e0b-4b0c-44a8-ae32-d76bc23a730d",
       "rows": [
        [
         "0",
         "CA000679177CY",
         "2023-12-28 12:58:00",
         "Réception d'envoi du client (Srt)",
         "4 days 19:09:00",
         "30 days 02:16:34"
        ],
        [
         "1",
         "CA000679177CY",
         "2024-01-02 08:07:00",
         "Insérer envoi dans sac (Srt)",
         "2 days 03:06:00",
         "30 days 02:16:34"
        ],
        [
         "2",
         "CA000679177CY",
         "2024-01-04 11:13:00",
         "Insérer envoi dans sac (Srt)",
         "1 days 02:02:00",
         "30 days 02:16:34"
        ],
        [
         "3",
         "CA000679177CY",
         "2024-01-05 13:15:00",
         "Expédition d'envoi à l'étranger (EDI-reçu)",
         "16 days 18:57:38",
         "30 days 02:16:34"
        ],
        [
         "4",
         "CA000679177CY",
         "2024-01-22 08:12:38",
         "Recevoir envoi au bureau d'échange (Ent)",
         "0 days 03:55:05",
         "30 days 02:16:34"
        ],
        [
         "5",
         "CA000679177CY",
         "2024-01-22 12:07:43",
         "Expédier envoi à adresse nationale (Ent)",
         "0 days 01:57:15",
         "30 days 02:16:34"
        ],
        [
         "6",
         "CA000679177CY",
         "2024-01-22 14:04:58",
         "Expédier envoi à adresse nationale (Ent)",
         "1 days 19:39:18",
         "30 days 02:16:34"
        ],
        [
         "7",
         "CA000679177CY",
         "2024-01-24 09:44:16",
         "Recevoir envoi au bureau de livraison (Ent)",
         "0 days 00:59:12",
         "30 days 02:16:34"
        ],
        [
         "8",
         "CA000679177CY",
         "2024-01-24 10:43:28",
         "Expédier envoi à adresse nationale (Srt)",
         "3 days 04:20:30",
         "30 days 02:16:34"
        ],
        [
         "9",
         "CA000679177CY",
         "2024-01-27 15:03:58",
         "Vaine tentative de livraison d'envoi (Ent)",
         "0 days 00:10:36",
         "30 days 02:16:34"
        ]
       ],
       "shape": {
        "columns": 5,
        "rows": 10
       }
      },
      "text/html": [
       "<div>\n",
       "<style scoped>\n",
       "    .dataframe tbody tr th:only-of-type {\n",
       "        vertical-align: middle;\n",
       "    }\n",
       "\n",
       "    .dataframe tbody tr th {\n",
       "        vertical-align: top;\n",
       "    }\n",
       "\n",
       "    .dataframe thead th {\n",
       "        text-align: right;\n",
       "    }\n",
       "</style>\n",
       "<table border=\"1\" class=\"dataframe\">\n",
       "  <thead>\n",
       "    <tr style=\"text-align: right;\">\n",
       "      <th></th>\n",
       "      <th>MAILITM_FID</th>\n",
       "      <th>date</th>\n",
       "      <th>EVENT_TYPE_NM</th>\n",
       "      <th>duration_to_next_step</th>\n",
       "      <th>total_duration</th>\n",
       "    </tr>\n",
       "  </thead>\n",
       "  <tbody>\n",
       "    <tr>\n",
       "      <th>0</th>\n",
       "      <td>CA000679177CY</td>\n",
       "      <td>2023-12-28 12:58:00</td>\n",
       "      <td>Réception d'envoi du client (Srt)</td>\n",
       "      <td>4 days 19:09:00</td>\n",
       "      <td>30 days 02:16:34</td>\n",
       "    </tr>\n",
       "    <tr>\n",
       "      <th>1</th>\n",
       "      <td>CA000679177CY</td>\n",
       "      <td>2024-01-02 08:07:00</td>\n",
       "      <td>Insérer envoi dans sac (Srt)</td>\n",
       "      <td>2 days 03:06:00</td>\n",
       "      <td>30 days 02:16:34</td>\n",
       "    </tr>\n",
       "    <tr>\n",
       "      <th>2</th>\n",
       "      <td>CA000679177CY</td>\n",
       "      <td>2024-01-04 11:13:00</td>\n",
       "      <td>Insérer envoi dans sac (Srt)</td>\n",
       "      <td>1 days 02:02:00</td>\n",
       "      <td>30 days 02:16:34</td>\n",
       "    </tr>\n",
       "    <tr>\n",
       "      <th>3</th>\n",
       "      <td>CA000679177CY</td>\n",
       "      <td>2024-01-05 13:15:00</td>\n",
       "      <td>Expédition d'envoi à l'étranger (EDI-reçu)</td>\n",
       "      <td>16 days 18:57:38</td>\n",
       "      <td>30 days 02:16:34</td>\n",
       "    </tr>\n",
       "    <tr>\n",
       "      <th>4</th>\n",
       "      <td>CA000679177CY</td>\n",
       "      <td>2024-01-22 08:12:38</td>\n",
       "      <td>Recevoir envoi au bureau d'échange (Ent)</td>\n",
       "      <td>0 days 03:55:05</td>\n",
       "      <td>30 days 02:16:34</td>\n",
       "    </tr>\n",
       "    <tr>\n",
       "      <th>5</th>\n",
       "      <td>CA000679177CY</td>\n",
       "      <td>2024-01-22 12:07:43</td>\n",
       "      <td>Expédier envoi à adresse nationale (Ent)</td>\n",
       "      <td>0 days 01:57:15</td>\n",
       "      <td>30 days 02:16:34</td>\n",
       "    </tr>\n",
       "    <tr>\n",
       "      <th>6</th>\n",
       "      <td>CA000679177CY</td>\n",
       "      <td>2024-01-22 14:04:58</td>\n",
       "      <td>Expédier envoi à adresse nationale (Ent)</td>\n",
       "      <td>1 days 19:39:18</td>\n",
       "      <td>30 days 02:16:34</td>\n",
       "    </tr>\n",
       "    <tr>\n",
       "      <th>7</th>\n",
       "      <td>CA000679177CY</td>\n",
       "      <td>2024-01-24 09:44:16</td>\n",
       "      <td>Recevoir envoi au bureau de livraison (Ent)</td>\n",
       "      <td>0 days 00:59:12</td>\n",
       "      <td>30 days 02:16:34</td>\n",
       "    </tr>\n",
       "    <tr>\n",
       "      <th>8</th>\n",
       "      <td>CA000679177CY</td>\n",
       "      <td>2024-01-24 10:43:28</td>\n",
       "      <td>Expédier envoi à adresse nationale (Srt)</td>\n",
       "      <td>3 days 04:20:30</td>\n",
       "      <td>30 days 02:16:34</td>\n",
       "    </tr>\n",
       "    <tr>\n",
       "      <th>9</th>\n",
       "      <td>CA000679177CY</td>\n",
       "      <td>2024-01-27 15:03:58</td>\n",
       "      <td>Vaine tentative de livraison d'envoi (Ent)</td>\n",
       "      <td>0 days 00:10:36</td>\n",
       "      <td>30 days 02:16:34</td>\n",
       "    </tr>\n",
       "  </tbody>\n",
       "</table>\n",
       "</div>"
      ],
      "text/plain": [
       "     MAILITM_FID                date  \\\n",
       "0  CA000679177CY 2023-12-28 12:58:00   \n",
       "1  CA000679177CY 2024-01-02 08:07:00   \n",
       "2  CA000679177CY 2024-01-04 11:13:00   \n",
       "3  CA000679177CY 2024-01-05 13:15:00   \n",
       "4  CA000679177CY 2024-01-22 08:12:38   \n",
       "5  CA000679177CY 2024-01-22 12:07:43   \n",
       "6  CA000679177CY 2024-01-22 14:04:58   \n",
       "7  CA000679177CY 2024-01-24 09:44:16   \n",
       "8  CA000679177CY 2024-01-24 10:43:28   \n",
       "9  CA000679177CY 2024-01-27 15:03:58   \n",
       "\n",
       "                                 EVENT_TYPE_NM duration_to_next_step  \\\n",
       "0            Réception d'envoi du client (Srt)       4 days 19:09:00   \n",
       "1                 Insérer envoi dans sac (Srt)       2 days 03:06:00   \n",
       "2                 Insérer envoi dans sac (Srt)       1 days 02:02:00   \n",
       "3   Expédition d'envoi à l'étranger (EDI-reçu)      16 days 18:57:38   \n",
       "4     Recevoir envoi au bureau d'échange (Ent)       0 days 03:55:05   \n",
       "5     Expédier envoi à adresse nationale (Ent)       0 days 01:57:15   \n",
       "6     Expédier envoi à adresse nationale (Ent)       1 days 19:39:18   \n",
       "7  Recevoir envoi au bureau de livraison (Ent)       0 days 00:59:12   \n",
       "8     Expédier envoi à adresse nationale (Srt)       3 days 04:20:30   \n",
       "9   Vaine tentative de livraison d'envoi (Ent)       0 days 00:10:36   \n",
       "\n",
       "    total_duration  \n",
       "0 30 days 02:16:34  \n",
       "1 30 days 02:16:34  \n",
       "2 30 days 02:16:34  \n",
       "3 30 days 02:16:34  \n",
       "4 30 days 02:16:34  \n",
       "5 30 days 02:16:34  \n",
       "6 30 days 02:16:34  \n",
       "7 30 days 02:16:34  \n",
       "8 30 days 02:16:34  \n",
       "9 30 days 02:16:34  "
      ]
     },
     "execution_count": 27,
     "metadata": {},
     "output_type": "execute_result"
    }
   ],
   "source": [
    "# Preview the updated dataset\n",
    "df[[\"MAILITM_FID\", \"date\", \"EVENT_TYPE_NM\", \"duration_to_next_step\", \"total_duration\"]].head(10)"
   ]
  },
  {
   "cell_type": "code",
   "execution_count": 37,
   "id": "8c2892dc",
   "metadata": {},
   "outputs": [
    {
     "data": {
      "text/plain": [
       "(0, 9)"
      ]
     },
     "execution_count": 37,
     "metadata": {},
     "output_type": "execute_result"
    }
   ],
   "source": [
    "# Filter rows where total_duration is NOT zero\n",
    "zero_duration_df = df[df[\"total_duration\"] == pd.Timedelta(days = 0)]\n",
    "\n",
    "# Display the first few rows as a check\n",
    "zero_duration_df.shape\n"
   ]
  },
  {
   "cell_type": "code",
   "execution_count": 38,
   "id": "df1b35b9",
   "metadata": {},
   "outputs": [
    {
     "name": "stdout",
     "output_type": "stream",
     "text": [
      "Series([], Name: count, dtype: int64)\n"
     ]
    }
   ],
   "source": [
    "\n",
    "# Count the occurrences of each protocol\n",
    "countries = zero_duration_df['id'].value_counts()\n",
    "\n",
    "print(countries)\n"
   ]
  },
  {
   "cell_type": "code",
   "execution_count": 39,
   "id": "e851fa13",
   "metadata": {},
   "outputs": [
    {
     "name": "stdout",
     "output_type": "stream",
     "text": [
      "Series([], Name: count, dtype: int64)\n"
     ]
    }
   ],
   "source": [
    "# Map the Series index using the country_dict\n",
    "countries.index = countries.index.map(lambda code: country_dict.get(code, code))  \n",
    "print(countries)"
   ]
  },
  {
   "cell_type": "code",
   "execution_count": 40,
   "id": "8a647bfb",
   "metadata": {},
   "outputs": [
    {
     "name": "stdout",
     "output_type": "stream",
     "text": [
      "Series([], Name: count, dtype: int64)\n"
     ]
    }
   ],
   "source": [
    "# Step 1: Count how many times each ID appears\n",
    "id_counts = zero_duration_df[\"MAILITM_FID\"].value_counts()\n",
    "\n",
    "# Step 2: Count how many IDs have a specific count\n",
    "count_of_counts = id_counts.value_counts().sort_index()\n",
    "\n",
    "print(count_of_counts)\n"
   ]
  },
  {
   "cell_type": "code",
   "execution_count": 41,
   "id": "b2afa544",
   "metadata": {},
   "outputs": [
    {
     "data": {
      "application/vnd.microsoft.datawrangler.viewer.v0+json": {
       "columns": [
        {
         "name": "index",
         "rawType": "int64",
         "type": "integer"
        },
        {
         "name": "MAILITM_FID",
         "rawType": "object",
         "type": "string"
        },
        {
         "name": "EVENT_TYPE_NM",
         "rawType": "object",
         "type": "string"
        },
        {
         "name": "date",
         "rawType": "datetime64[ns]",
         "type": "datetime"
        },
        {
         "name": "établissement_postal",
         "rawType": "object",
         "type": "string"
        },
        {
         "name": "EVENT_TYPE_CD",
         "rawType": "int64",
         "type": "integer"
        },
        {
         "name": "next_établissement_postal",
         "rawType": "object",
         "type": "string"
        },
        {
         "name": "id",
         "rawType": "object",
         "type": "string"
        },
        {
         "name": "duration_to_next_step",
         "rawType": "timedelta64[ns]",
         "type": "unknown"
        },
        {
         "name": "total_duration",
         "rawType": "timedelta64[ns]",
         "type": "unknown"
        }
       ],
       "ref": "0ed1c4ca-97d5-46fc-8df9-781c8e011d60",
       "rows": [],
       "shape": {
        "columns": 9,
        "rows": 0
       }
      },
      "text/html": [
       "<div>\n",
       "<style scoped>\n",
       "    .dataframe tbody tr th:only-of-type {\n",
       "        vertical-align: middle;\n",
       "    }\n",
       "\n",
       "    .dataframe tbody tr th {\n",
       "        vertical-align: top;\n",
       "    }\n",
       "\n",
       "    .dataframe thead th {\n",
       "        text-align: right;\n",
       "    }\n",
       "</style>\n",
       "<table border=\"1\" class=\"dataframe\">\n",
       "  <thead>\n",
       "    <tr style=\"text-align: right;\">\n",
       "      <th></th>\n",
       "      <th>MAILITM_FID</th>\n",
       "      <th>EVENT_TYPE_NM</th>\n",
       "      <th>date</th>\n",
       "      <th>établissement_postal</th>\n",
       "      <th>EVENT_TYPE_CD</th>\n",
       "      <th>next_établissement_postal</th>\n",
       "      <th>id</th>\n",
       "      <th>duration_to_next_step</th>\n",
       "      <th>total_duration</th>\n",
       "    </tr>\n",
       "  </thead>\n",
       "  <tbody>\n",
       "  </tbody>\n",
       "</table>\n",
       "</div>"
      ],
      "text/plain": [
       "Empty DataFrame\n",
       "Columns: [MAILITM_FID, EVENT_TYPE_NM, date, établissement_postal, EVENT_TYPE_CD, next_établissement_postal, id, duration_to_next_step, total_duration]\n",
       "Index: []"
      ]
     },
     "execution_count": 41,
     "metadata": {},
     "output_type": "execute_result"
    }
   ],
   "source": [
    "ids_with_0 = id_counts[id_counts == 2].index\n",
    "df_with_0 = df[df[\"MAILITM_FID\"].isin(ids_with_0)]\n",
    "df_with_0.head()"
   ]
  },
  {
   "cell_type": "code",
   "execution_count": 42,
   "id": "3de28be6",
   "metadata": {},
   "outputs": [
    {
     "name": "stdout",
     "output_type": "stream",
     "text": [
      "Series([], Name: count, dtype: int64)\n"
     ]
    }
   ],
   "source": [
    "\n",
    "# Count the occurrences of each protocol\n",
    "event_type = df_with_0['EVENT_TYPE_NM'].value_counts()\n",
    "\n",
    "print(event_type)\n",
    "\n"
   ]
  },
  {
   "cell_type": "code",
   "execution_count": 43,
   "id": "c0b7faf2",
   "metadata": {},
   "outputs": [
    {
     "name": "stdout",
     "output_type": "stream",
     "text": [
      "(8700805, 9)\n"
     ]
    }
   ],
   "source": [
    "# Drop rows where total_duration is zero\n",
    "df = df[df[\"total_duration\"] != pd.Timedelta(0)]\n",
    "\n",
    "# Check the shape after dropping\n",
    "print(df.shape)\n"
   ]
  },
  {
   "cell_type": "code",
   "execution_count": 50,
   "id": "e5215d31",
   "metadata": {},
   "outputs": [],
   "source": [
    "df.to_csv(file_name, index=False, encoding='utf-8-sig')"
   ]
  },
  {
   "cell_type": "code",
   "execution_count": null,
   "id": "93ae86aa",
   "metadata": {},
   "outputs": [],
   "source": []
  }
 ],
 "metadata": {
  "kernelspec": {
   "display_name": "base",
   "language": "python",
   "name": "python3"
  },
  "language_info": {
   "codemirror_mode": {
    "name": "ipython",
    "version": 3
   },
   "file_extension": ".py",
   "mimetype": "text/x-python",
   "name": "python",
   "nbconvert_exporter": "python",
   "pygments_lexer": "ipython3",
   "version": "3.10.9"
  }
 },
 "nbformat": 4,
 "nbformat_minor": 5
}
