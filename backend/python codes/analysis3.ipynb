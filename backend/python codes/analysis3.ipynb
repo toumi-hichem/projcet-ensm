{
 "cells": [
  {
   "cell_type": "code",
   "execution_count": 1,
   "id": "7dc48e25",
   "metadata": {},
   "outputs": [],
   "source": [
    "import pandas as pd\n",
    "import numpy as np\n",
    "import matplotlib.pyplot as plt\n",
    "import seaborn as sns\n",
    "%matplotlib inline"
   ]
  },
  {
   "cell_type": "code",
   "execution_count": 2,
   "id": "2ed4022b",
   "metadata": {},
   "outputs": [],
   "source": [
    "file_name = \"df_count_2_part2.csv\"   "
   ]
  },
  {
   "cell_type": "code",
   "execution_count": 3,
   "id": "b46b746c",
   "metadata": {},
   "outputs": [
    {
     "name": "stderr",
     "output_type": "stream",
     "text": [
      "C:\\Users\\oussa\\AppData\\Local\\Temp\\ipykernel_22044\\1571972478.py:1: DtypeWarning: Columns (0,4,6) have mixed types. Specify dtype option on import or set low_memory=False.\n",
      "  df = pd.read_csv(file_name , parse_dates=[\"date\"])\n"
     ]
    }
   ],
   "source": [
    " \n",
    "df = pd.read_csv(file_name , parse_dates=[\"date\"])\n"
   ]
  },
  {
   "cell_type": "code",
   "execution_count": 4,
   "id": "bec3e2eb",
   "metadata": {},
   "outputs": [
    {
     "data": {
      "text/plain": [
       "(8809865, 10)"
      ]
     },
     "execution_count": 4,
     "metadata": {},
     "output_type": "execute_result"
    }
   ],
   "source": [
    "df.shape"
   ]
  },
  {
   "cell_type": "code",
   "execution_count": 5,
   "id": "ed9bfdeb",
   "metadata": {},
   "outputs": [],
   "source": [
    "# Read the country reference file\n",
    "df_countries = pd.read_csv(\"CT_COUNTRIES.csv\", sep=\";\", header=None, names=[\"code\", \"lang\", \"name\"])\n",
    "\n",
    "country_dict = df_countries.set_index(\"code\")[\"name\"].to_dict()"
   ]
  },
  {
   "cell_type": "code",
   "execution_count": 6,
   "id": "789237c0",
   "metadata": {},
   "outputs": [
    {
     "name": "stdout",
     "output_type": "stream",
     "text": [
      "Number of duplicate rows (ignoring specified columns): 12564\n"
     ]
    }
   ],
   "source": [
    "# Define columns to ignore when checking duplicates\n",
    "cols_ignore = [\"RECPTCL_FID\", \"duration_to_next_step\", \"total_duration\", \"id\"]\n",
    "cols_check  = [c for c in df.columns if c not in cols_ignore]\n",
    "\n",
    "# 1. Identify all duplicate rows based on cols_check\n",
    "dup_mask = df.duplicated(subset=cols_check, keep=False)\n",
    "\n",
    "# 2. Number of such duplicate rows\n",
    "num_duplicates = dup_mask.sum()\n",
    "print(f\"Number of duplicate rows (ignoring specified columns): {num_duplicates}\")\n",
    "\n",
    "\n"
   ]
  },
  {
   "cell_type": "code",
   "execution_count": 7,
   "id": "eee67ebd",
   "metadata": {},
   "outputs": [],
   "source": [
    "df = df.drop_duplicates(subset=cols_check, keep=\"first\").reset_index(drop=True)"
   ]
  },
  {
   "cell_type": "code",
   "execution_count": 8,
   "id": "8d148084",
   "metadata": {},
   "outputs": [
    {
     "name": "stdout",
     "output_type": "stream",
     "text": [
      "First-event frequencies:\n",
      "Réception d'envoi du client (Srt)        484,519\n",
      "Expédition d'envoi à l'étranger (EDI-reçu) 308,347\n",
      "Insérer envoi dans sac (Srt)             32,990\n",
      "Recevoir envoi au bureau d'échange (Ent) 1,251\n",
      "Expédier envoi à adresse nationale (Ent) 807\n",
      "Recevoir envoi au bureau de livraison (Ent) 298\n",
      "Expédier envoi à adresse nationale (Srt) 156\n",
      "Vaine tentative de livraison d'envoi (Ent) 40\n",
      "Transmettre envoi à l'agent de livraison (Ent) 11\n",
      "Livraison d'envoi (Ent)                  9\n",
      "Recevoir envoi au bureau d'échange (Srt) 1\n"
     ]
    }
   ],
   "source": [
    "import pandas as pd\n",
    "\n",
    "ID_COL    = \"MAILITM_FID\"\n",
    "EVENT_COL = \"EVENT_TYPE_NM\"\n",
    "\n",
    "# 1) pick the first row per parcel (rows are already in correct order)\n",
    "first_events = (\n",
    "    df.groupby(ID_COL, sort=False)[EVENT_COL]\n",
    "      .first()                 # a Series: index = parcel ID, value = first event\n",
    ")\n",
    "\n",
    "# 2) count how many parcels have each first event\n",
    "event_counts = (\n",
    "    first_events.value_counts()   # Series: index = event, value = count\n",
    "               .sort_values(ascending=False)\n",
    ")\n",
    "\n",
    "# 3) print the result\n",
    "print(\"First-event frequencies:\")\n",
    "for event, count in event_counts.items():\n",
    "    print(f\"{event:40} {count:,}\")\n"
   ]
  },
  {
   "cell_type": "code",
   "execution_count": 9,
   "id": "a59e7f14",
   "metadata": {},
   "outputs": [
    {
     "name": "stdout",
     "output_type": "stream",
     "text": [
      "RECPTCL_FID                  3317593\n",
      "établissement_postal          722332\n",
      "next_établissement_postal    5720787\n",
      "duration_to_next_step        1655106\n",
      "dtype: int64\n"
     ]
    }
   ],
   "source": [
    "missing_values = df.isnull().sum()\n",
    "missing_columns = missing_values[missing_values > 0]\n",
    "print(missing_columns)"
   ]
  },
  {
   "cell_type": "code",
   "execution_count": 10,
   "id": "e6e8e14c",
   "metadata": {},
   "outputs": [],
   "source": [
    "df = df.drop(columns=[\"RECPTCL_FID\", \"duration_to_next_step\", \"total_duration\"])"
   ]
  },
  {
   "cell_type": "code",
   "execution_count": 11,
   "id": "32d936e7",
   "metadata": {},
   "outputs": [
    {
     "name": "stdout",
     "output_type": "stream",
     "text": [
      "établissement_postal          722332\n",
      "next_établissement_postal    5720787\n",
      "dtype: int64\n"
     ]
    }
   ],
   "source": [
    "missing_values = df.isnull().sum()\n",
    "missing_columns = missing_values[missing_values > 0]\n",
    "print(missing_columns)"
   ]
  },
  {
   "cell_type": "code",
   "execution_count": 12,
   "id": "38f06752",
   "metadata": {},
   "outputs": [
    {
     "name": "stdout",
     "output_type": "stream",
     "text": [
      "Total rows with missing values: 5819132\n"
     ]
    }
   ],
   "source": [
    "\n",
    "# Assuming 'df' is your DataFrame!\n",
    "\n",
    "# Identify the rows with missing values\n",
    "missing_rows = df[df.isnull().any(axis=1)]\n",
    "\n",
    "# Print the total number of rows that have missing values\n",
    "print(\"Total rows with missing values:\", missing_rows.shape[0])\n",
    "\n",
    "\n"
   ]
  },
  {
   "cell_type": "code",
   "execution_count": 13,
   "id": "47bc4e02",
   "metadata": {},
   "outputs": [
    {
     "name": "stdout",
     "output_type": "stream",
     "text": [
      "\n",
      "Summary of missing patterns (tuple of 0's and 1's corresponding to missing values in each column):\n",
      "(0, 0, 0, 0, 0, 1, 0)    5096800\n",
      "(0, 0, 0, 1, 0, 1, 0)     623987\n",
      "(0, 0, 0, 1, 0, 0, 0)      98345\n",
      "dtype: int64\n"
     ]
    }
   ],
   "source": [
    "# Analyze the missing patterns across rows:\n",
    "# Create a binary pattern for each row where 1 indicates a missing value and 0 indicates non-missing.\n",
    "missing_pattern = missing_rows.isnull().astype(int)\n",
    "# Convert each pattern to a tuple to use as a key for groupby\n",
    "missing_pattern_tuples = missing_pattern.apply(tuple, axis=1)\n",
    "# Group by the missing pattern and count the number of rows for each pattern\n",
    "pattern_summary = missing_rows.groupby(missing_pattern_tuples).size().sort_values(ascending=False)\n",
    "\n",
    "print(\"\\nSummary of missing patterns (tuple of 0's and 1's corresponding to missing values in each column):\")\n",
    "print(pattern_summary)\n",
    "\n"
   ]
  },
  {
   "cell_type": "code",
   "execution_count": 14,
   "id": "9c54464c",
   "metadata": {},
   "outputs": [
    {
     "name": "stdout",
     "output_type": "stream",
     "text": [
      "EVENT_TYPE_NM                     23\n",
      "EVENT_TYPE_CD                     23\n",
      "id                               102\n",
      "next_établissement_postal       3546\n",
      "établissement_postal            3698\n",
      "MAILITM_FID                   828429\n",
      "date                         7002024\n",
      "dtype: int64\n"
     ]
    }
   ],
   "source": [
    "distinct_values_count = df.nunique()\n",
    "\n",
    "distinct_values_count = distinct_values_count.sort_values(ascending=True)\n",
    "\n",
    "print(distinct_values_count)"
   ]
  },
  {
   "cell_type": "code",
   "execution_count": 15,
   "id": "6f3c108a",
   "metadata": {},
   "outputs": [
    {
     "name": "stdout",
     "output_type": "stream",
     "text": [
      "EVENT_TYPE_NM\n",
      "Recevoir envoi au bureau de livraison (Ent)                    1742652\n",
      "Expédier envoi à adresse nationale (Srt)                       1219055\n",
      "Expédier envoi à adresse nationale (Ent)                       1190353\n",
      "Recevoir envoi au bureau d'échange (Ent)                        871789\n",
      "Vaine tentative de livraison d'envoi (Ent)                      811097\n",
      "Livraison d'envoi (Ent)                                         714376\n",
      "Expédition d'envoi à l'étranger (EDI-reçu)                      632476\n",
      "Insérer envoi dans sac (Srt)                                    567457\n",
      "Réception d'envoi du client (Srt)                               505053\n",
      "Transmettre envoi à l'agent de livraison (Ent)                  497818\n",
      "Recevoir envoi au bureau d'échange (Srt)                         38144\n",
      "Enregistrer détails d'envoi au bureau d'échange (Srt)             7486\n",
      "Expédier envoi à la douane (Ent)                                  3984\n",
      "Renvoyer envoi de la douane (Ent)                                 1204\n",
      "Supprimer envoi du sac (Srt)                                       203\n",
      "Renvoyer envoi de la douane (Srt)                                  140\n",
      "Enregistrer raison de rétention d'envoi par la douane (Srt)        100\n",
      "Enregistrer informations douanières d'envoi (Ent)                   78\n",
      "Expédier envoi à la douane (Srt)                                    43\n",
      "Mettre à jour envoi (Ent)                                           33\n",
      "Recevoir envoi au lieu (Ent)                                        31\n",
      "Recevoir envoi au lieu (Srt)                                         4\n",
      "Garder envoi au point de livraison (Ent)                             1\n",
      "Name: count, dtype: int64\n"
     ]
    }
   ],
   "source": [
    "\n",
    "# Count the occurrences of each protocol\n",
    "event_type = df['EVENT_TYPE_NM'].value_counts()\n",
    "\n",
    "print(event_type)\n"
   ]
  },
  {
   "cell_type": "code",
   "execution_count": 16,
   "id": "ab434c1f",
   "metadata": {},
   "outputs": [
    {
     "name": "stdout",
     "output_type": "stream",
     "text": [
      "établissement_postal\n",
      "ALGER COLIS POSTAUX        1074154\n",
      "ALGER GARE                  936123\n",
      "ÉMIRATS ARABES UNIS         639187\n",
      "ANNABA EL MARSA             211689\n",
      "CONSTANTINE GARE            175039\n",
      "                            ...   \n",
      "BENI-OUARSOUS                    1\n",
      "EL-MILIA                         1\n",
      "MEDEA YAHIA FARES                1\n",
      "GHARDAIA-COLONNEL-LOTFI          1\n",
      "NAAMA-RP                         1\n",
      "Name: count, Length: 3698, dtype: int64\n"
     ]
    }
   ],
   "source": [
    "\n",
    "# Count the occurrences of each protocol\n",
    "proto_counts = df['établissement_postal'].value_counts()\n",
    "\n",
    "print(proto_counts)\n"
   ]
  },
  {
   "cell_type": "code",
   "execution_count": 17,
   "id": "8e84c609",
   "metadata": {},
   "outputs": [
    {
     "name": "stdout",
     "output_type": "stream",
     "text": [
      "next_établissement_postal\n",
      "ALGÉRIE                      632476\n",
      "ALGER GARE                   325462\n",
      "CONSTANTINE COLIS POSTAUX    139537\n",
      "ORAN COLIS POSTAUX           124054\n",
      "ANNABA EL MARSA               87285\n",
      "                              ...  \n",
      "GRAREM-05-JUILLET                 1\n",
      "CHAHID-CHBANA-SAID                1\n",
      "OUM-EL-BOUAGHI-TERRE              1\n",
      "BALLOUL-GARE-ROUTIERE             1\n",
      "SIRAT                             1\n",
      "Name: count, Length: 3546, dtype: int64\n"
     ]
    }
   ],
   "source": [
    "# Count the occurrences of each protocol\n",
    "proto_counts = df['next_établissement_postal'].value_counts()\n",
    "\n",
    "print(proto_counts)\n",
    "\n"
   ]
  },
  {
   "cell_type": "code",
   "execution_count": 18,
   "id": "a8ff1ba4",
   "metadata": {},
   "outputs": [
    {
     "name": "stdout",
     "output_type": "stream",
     "text": [
      "id\n",
      "AE    3477076\n",
      "CZ    3258833\n",
      "CN     954381\n",
      "FR     471834\n",
      "DE     167010\n",
      "       ...   \n",
      "UY          7\n",
      "CR          6\n",
      "NZ          6\n",
      "KZ          5\n",
      "AZ          2\n",
      "Name: count, Length: 102, dtype: int64\n"
     ]
    }
   ],
   "source": [
    "\n",
    "# Count the occurrences of each protocol\n",
    "proto_counts = df['id'].value_counts()\n",
    "\n",
    "print(proto_counts)\n",
    "\n",
    "s = proto_counts\n"
   ]
  },
  {
   "cell_type": "code",
   "execution_count": 19,
   "id": "bc7a80e2",
   "metadata": {},
   "outputs": [
    {
     "name": "stdout",
     "output_type": "stream",
     "text": [
      "id\n",
      "ÉMIRATS ARABES UNIS    3477076\n",
      "TCHÈQUE, RÉPUBLIQUE    3258833\n",
      "CHINE                   954381\n",
      "FRANCE                  471834\n",
      "ALLEMAGNE               167010\n",
      "                        ...   \n",
      "URUGUAY                      7\n",
      "COSTA RICA                   6\n",
      "NOUVELLE-ZÉLANDE             6\n",
      "KAZAKHSTAN                   5\n",
      "AZERBAÏDJAN                  2\n",
      "Name: count, Length: 102, dtype: int64\n"
     ]
    }
   ],
   "source": [
    "# Map the Series index using the country_dict\n",
    "s.index = s.index.map(lambda code: country_dict.get(code, code))  # Keep unmapped codes as-is\n",
    "print(s)"
   ]
  },
  {
   "cell_type": "code",
   "execution_count": 20,
   "id": "ccd08de2",
   "metadata": {},
   "outputs": [
    {
     "name": "stdout",
     "output_type": "stream",
     "text": [
      "Min date: 2020-07-20 07:41:23.217\n",
      "Max date: 2025-05-21 16:00:58.757\n"
     ]
    }
   ],
   "source": [
    "print(\"Min date:\", df[\"date\"].min())\n",
    "print(\"Max date:\", df[\"date\"].max())"
   ]
  },
  {
   "cell_type": "code",
   "execution_count": 21,
   "id": "6acf2a8f",
   "metadata": {},
   "outputs": [
    {
     "name": "stderr",
     "output_type": "stream",
     "text": [
      "C:\\Users\\oussa\\AppData\\Local\\Temp\\ipykernel_22044\\579475394.py:2: UserWarning: The argument 'infer_datetime_format' is deprecated and will be removed in a future version. A strict version of it is now the default, see https://pandas.pydata.org/pdeps/0004-consistent-to-datetime-parsing.html. You can safely remove this argument.\n",
      "  df[\"date\"] = pd.to_datetime(df[\"date\"], infer_datetime_format=True)\n"
     ]
    }
   ],
   "source": [
    "df[\"date\"] = df[\"date\"].str.replace(r'\\.\\d+$', '', regex=True)\n",
    "df[\"date\"] = pd.to_datetime(df[\"date\"], infer_datetime_format=True)"
   ]
  },
  {
   "cell_type": "code",
   "execution_count": 22,
   "id": "9a6d3a40",
   "metadata": {},
   "outputs": [],
   "source": [
    "df = df.sort_values(by=[\"MAILITM_FID\", \"date\"])\n",
    "\n",
    "# Calculate time to next step\n",
    "df[\"duration_to_next_step\"] = df.groupby(\"MAILITM_FID\")[\"date\"].shift(-1) - df[\"date\"]\n",
    "\n",
    "# Calculate total duration per ID\n",
    "first_date = df.groupby(\"MAILITM_FID\")[\"date\"].transform(\"first\")\n",
    "last_date = df.groupby(\"MAILITM_FID\")[\"date\"].transform(\"last\")\n",
    "df[\"total_duration\"] = last_date - first_date\n",
    "\n",
    "\n"
   ]
  },
  {
   "cell_type": "code",
   "execution_count": 23,
   "id": "0d6f26da",
   "metadata": {},
   "outputs": [
    {
     "data": {
      "application/vnd.microsoft.datawrangler.viewer.v0+json": {
       "columns": [
        {
         "name": "index",
         "rawType": "int64",
         "type": "integer"
        },
        {
         "name": "MAILITM_FID",
         "rawType": "object",
         "type": "string"
        },
        {
         "name": "date",
         "rawType": "datetime64[ns]",
         "type": "datetime"
        },
        {
         "name": "EVENT_TYPE_NM",
         "rawType": "object",
         "type": "string"
        },
        {
         "name": "duration_to_next_step",
         "rawType": "timedelta64[ns]",
         "type": "unknown"
        },
        {
         "name": "total_duration",
         "rawType": "timedelta64[ns]",
         "type": "unknown"
        }
       ],
       "ref": "18225bcb-b17f-49af-ae78-79c2dfc489de",
       "rows": [
        [
         "1661229",
         "CB167774583US",
         "2024-09-20 05:15:00",
         "Expédition d'envoi à l'étranger (EDI-reçu)",
         "6 days 03:00:00",
         "12 days 05:09:46"
        ],
        [
         "1661230",
         "CB167774583US",
         "2024-09-26 08:15:00",
         "Expédition d'envoi à l'étranger (EDI-reçu)",
         "6 days 00:10:12",
         "12 days 05:09:46"
        ],
        [
         "8803225",
         "CB167774583US",
         "2024-10-02 08:25:12",
         "Recevoir envoi au bureau d'échange (Ent)",
         "0 days 01:59:34",
         "12 days 05:09:46"
        ],
        [
         "8803226",
         "CB167774583US",
         "2024-10-02 10:24:46",
         "Expédier envoi à la douane (Ent)",
         null,
         "12 days 05:09:46"
        ],
        [
         "1661231",
         "CP068462845TH",
         "2024-10-10 23:05:00",
         "Expédition d'envoi à l'étranger (EDI-reçu)",
         "3 days 09:46:44",
         "3 days 09:46:44"
        ],
        [
         "8803227",
         "CP068462845TH",
         "2024-10-14 08:51:44",
         "Recevoir envoi au bureau d'échange (Ent)",
         null,
         "3 days 09:46:44"
        ],
        [
         "1661232",
         "CP070826787TH",
         "2024-06-15 23:05:00",
         "Expédition d'envoi à l'étranger (EDI-reçu)",
         "3 days 10:03:26",
         "3 days 10:03:26"
        ],
        [
         "8803228",
         "CP070826787TH",
         "2024-06-19 09:08:26",
         "Recevoir envoi au bureau d'échange (Ent)",
         null,
         "3 days 10:03:26"
        ],
        [
         "8803229",
         "CP080036457Th",
         "2024-04-07 09:52:20",
         "Recevoir envoi au bureau d'échange (Ent)",
         "0 days 00:25:29",
         "6 days 00:57:59"
        ],
        [
         "8803230",
         "CP080036457Th",
         "2024-04-07 10:17:49",
         "Mettre à jour envoi (Ent)",
         "0 days 00:25:38",
         "6 days 00:57:59"
        ]
       ],
       "shape": {
        "columns": 5,
        "rows": 10
       }
      },
      "text/html": [
       "<div>\n",
       "<style scoped>\n",
       "    .dataframe tbody tr th:only-of-type {\n",
       "        vertical-align: middle;\n",
       "    }\n",
       "\n",
       "    .dataframe tbody tr th {\n",
       "        vertical-align: top;\n",
       "    }\n",
       "\n",
       "    .dataframe thead th {\n",
       "        text-align: right;\n",
       "    }\n",
       "</style>\n",
       "<table border=\"1\" class=\"dataframe\">\n",
       "  <thead>\n",
       "    <tr style=\"text-align: right;\">\n",
       "      <th></th>\n",
       "      <th>MAILITM_FID</th>\n",
       "      <th>date</th>\n",
       "      <th>EVENT_TYPE_NM</th>\n",
       "      <th>duration_to_next_step</th>\n",
       "      <th>total_duration</th>\n",
       "    </tr>\n",
       "  </thead>\n",
       "  <tbody>\n",
       "    <tr>\n",
       "      <th>1661229</th>\n",
       "      <td>CB167774583US</td>\n",
       "      <td>2024-09-20 05:15:00</td>\n",
       "      <td>Expédition d'envoi à l'étranger (EDI-reçu)</td>\n",
       "      <td>6 days 03:00:00</td>\n",
       "      <td>12 days 05:09:46</td>\n",
       "    </tr>\n",
       "    <tr>\n",
       "      <th>1661230</th>\n",
       "      <td>CB167774583US</td>\n",
       "      <td>2024-09-26 08:15:00</td>\n",
       "      <td>Expédition d'envoi à l'étranger (EDI-reçu)</td>\n",
       "      <td>6 days 00:10:12</td>\n",
       "      <td>12 days 05:09:46</td>\n",
       "    </tr>\n",
       "    <tr>\n",
       "      <th>8803225</th>\n",
       "      <td>CB167774583US</td>\n",
       "      <td>2024-10-02 08:25:12</td>\n",
       "      <td>Recevoir envoi au bureau d'échange (Ent)</td>\n",
       "      <td>0 days 01:59:34</td>\n",
       "      <td>12 days 05:09:46</td>\n",
       "    </tr>\n",
       "    <tr>\n",
       "      <th>8803226</th>\n",
       "      <td>CB167774583US</td>\n",
       "      <td>2024-10-02 10:24:46</td>\n",
       "      <td>Expédier envoi à la douane (Ent)</td>\n",
       "      <td>NaT</td>\n",
       "      <td>12 days 05:09:46</td>\n",
       "    </tr>\n",
       "    <tr>\n",
       "      <th>1661231</th>\n",
       "      <td>CP068462845TH</td>\n",
       "      <td>2024-10-10 23:05:00</td>\n",
       "      <td>Expédition d'envoi à l'étranger (EDI-reçu)</td>\n",
       "      <td>3 days 09:46:44</td>\n",
       "      <td>3 days 09:46:44</td>\n",
       "    </tr>\n",
       "    <tr>\n",
       "      <th>8803227</th>\n",
       "      <td>CP068462845TH</td>\n",
       "      <td>2024-10-14 08:51:44</td>\n",
       "      <td>Recevoir envoi au bureau d'échange (Ent)</td>\n",
       "      <td>NaT</td>\n",
       "      <td>3 days 09:46:44</td>\n",
       "    </tr>\n",
       "    <tr>\n",
       "      <th>1661232</th>\n",
       "      <td>CP070826787TH</td>\n",
       "      <td>2024-06-15 23:05:00</td>\n",
       "      <td>Expédition d'envoi à l'étranger (EDI-reçu)</td>\n",
       "      <td>3 days 10:03:26</td>\n",
       "      <td>3 days 10:03:26</td>\n",
       "    </tr>\n",
       "    <tr>\n",
       "      <th>8803228</th>\n",
       "      <td>CP070826787TH</td>\n",
       "      <td>2024-06-19 09:08:26</td>\n",
       "      <td>Recevoir envoi au bureau d'échange (Ent)</td>\n",
       "      <td>NaT</td>\n",
       "      <td>3 days 10:03:26</td>\n",
       "    </tr>\n",
       "    <tr>\n",
       "      <th>8803229</th>\n",
       "      <td>CP080036457Th</td>\n",
       "      <td>2024-04-07 09:52:20</td>\n",
       "      <td>Recevoir envoi au bureau d'échange (Ent)</td>\n",
       "      <td>0 days 00:25:29</td>\n",
       "      <td>6 days 00:57:59</td>\n",
       "    </tr>\n",
       "    <tr>\n",
       "      <th>8803230</th>\n",
       "      <td>CP080036457Th</td>\n",
       "      <td>2024-04-07 10:17:49</td>\n",
       "      <td>Mettre à jour envoi (Ent)</td>\n",
       "      <td>0 days 00:25:38</td>\n",
       "      <td>6 days 00:57:59</td>\n",
       "    </tr>\n",
       "  </tbody>\n",
       "</table>\n",
       "</div>"
      ],
      "text/plain": [
       "           MAILITM_FID                date  \\\n",
       "1661229  CB167774583US 2024-09-20 05:15:00   \n",
       "1661230  CB167774583US 2024-09-26 08:15:00   \n",
       "8803225  CB167774583US 2024-10-02 08:25:12   \n",
       "8803226  CB167774583US 2024-10-02 10:24:46   \n",
       "1661231  CP068462845TH 2024-10-10 23:05:00   \n",
       "8803227  CP068462845TH 2024-10-14 08:51:44   \n",
       "1661232  CP070826787TH 2024-06-15 23:05:00   \n",
       "8803228  CP070826787TH 2024-06-19 09:08:26   \n",
       "8803229  CP080036457Th 2024-04-07 09:52:20   \n",
       "8803230  CP080036457Th 2024-04-07 10:17:49   \n",
       "\n",
       "                                      EVENT_TYPE_NM duration_to_next_step  \\\n",
       "1661229  Expédition d'envoi à l'étranger (EDI-reçu)       6 days 03:00:00   \n",
       "1661230  Expédition d'envoi à l'étranger (EDI-reçu)       6 days 00:10:12   \n",
       "8803225    Recevoir envoi au bureau d'échange (Ent)       0 days 01:59:34   \n",
       "8803226            Expédier envoi à la douane (Ent)                   NaT   \n",
       "1661231  Expédition d'envoi à l'étranger (EDI-reçu)       3 days 09:46:44   \n",
       "8803227    Recevoir envoi au bureau d'échange (Ent)                   NaT   \n",
       "1661232  Expédition d'envoi à l'étranger (EDI-reçu)       3 days 10:03:26   \n",
       "8803228    Recevoir envoi au bureau d'échange (Ent)                   NaT   \n",
       "8803229    Recevoir envoi au bureau d'échange (Ent)       0 days 00:25:29   \n",
       "8803230                   Mettre à jour envoi (Ent)       0 days 00:25:38   \n",
       "\n",
       "          total_duration  \n",
       "1661229 12 days 05:09:46  \n",
       "1661230 12 days 05:09:46  \n",
       "8803225 12 days 05:09:46  \n",
       "8803226 12 days 05:09:46  \n",
       "1661231  3 days 09:46:44  \n",
       "8803227  3 days 09:46:44  \n",
       "1661232  3 days 10:03:26  \n",
       "8803228  3 days 10:03:26  \n",
       "8803229  6 days 00:57:59  \n",
       "8803230  6 days 00:57:59  "
      ]
     },
     "execution_count": 23,
     "metadata": {},
     "output_type": "execute_result"
    }
   ],
   "source": [
    "# Preview the updated dataset\n",
    "df[[\"MAILITM_FID\", \"date\", \"EVENT_TYPE_NM\", \"duration_to_next_step\", \"total_duration\"]].head(10)"
   ]
  },
  {
   "cell_type": "code",
   "execution_count": 24,
   "id": "8c2892dc",
   "metadata": {},
   "outputs": [
    {
     "data": {
      "text/plain": [
       "(0, 9)"
      ]
     },
     "execution_count": 24,
     "metadata": {},
     "output_type": "execute_result"
    }
   ],
   "source": [
    "# Filter rows where total_duration is NOT zero\n",
    "zero_duration_df = df[df[\"total_duration\"] == pd.Timedelta(days = 0)]\n",
    "\n",
    "# Display the first few rows as a check\n",
    "zero_duration_df.shape\n"
   ]
  },
  {
   "cell_type": "code",
   "execution_count": 38,
   "id": "df1b35b9",
   "metadata": {},
   "outputs": [
    {
     "name": "stdout",
     "output_type": "stream",
     "text": [
      "Series([], Name: count, dtype: int64)\n"
     ]
    }
   ],
   "source": [
    "\n",
    "# Count the occurrences of each protocol\n",
    "countries = zero_duration_df['id'].value_counts()\n",
    "\n",
    "print(countries)\n"
   ]
  },
  {
   "cell_type": "code",
   "execution_count": 39,
   "id": "e851fa13",
   "metadata": {},
   "outputs": [
    {
     "name": "stdout",
     "output_type": "stream",
     "text": [
      "Series([], Name: count, dtype: int64)\n"
     ]
    }
   ],
   "source": [
    "# Map the Series index using the country_dict\n",
    "countries.index = countries.index.map(lambda code: country_dict.get(code, code))  \n",
    "print(countries)"
   ]
  },
  {
   "cell_type": "code",
   "execution_count": 40,
   "id": "8a647bfb",
   "metadata": {},
   "outputs": [
    {
     "name": "stdout",
     "output_type": "stream",
     "text": [
      "Series([], Name: count, dtype: int64)\n"
     ]
    }
   ],
   "source": [
    "# Step 1: Count how many times each ID appears\n",
    "id_counts = zero_duration_df[\"MAILITM_FID\"].value_counts()\n",
    "\n",
    "# Step 2: Count how many IDs have a specific count\n",
    "count_of_counts = id_counts.value_counts().sort_index()\n",
    "\n",
    "print(count_of_counts)\n"
   ]
  },
  {
   "cell_type": "code",
   "execution_count": 41,
   "id": "b2afa544",
   "metadata": {},
   "outputs": [
    {
     "data": {
      "application/vnd.microsoft.datawrangler.viewer.v0+json": {
       "columns": [
        {
         "name": "index",
         "rawType": "int64",
         "type": "integer"
        },
        {
         "name": "MAILITM_FID",
         "rawType": "object",
         "type": "string"
        },
        {
         "name": "EVENT_TYPE_NM",
         "rawType": "object",
         "type": "string"
        },
        {
         "name": "date",
         "rawType": "datetime64[ns]",
         "type": "datetime"
        },
        {
         "name": "établissement_postal",
         "rawType": "object",
         "type": "string"
        },
        {
         "name": "EVENT_TYPE_CD",
         "rawType": "int64",
         "type": "integer"
        },
        {
         "name": "next_établissement_postal",
         "rawType": "object",
         "type": "string"
        },
        {
         "name": "id",
         "rawType": "object",
         "type": "string"
        },
        {
         "name": "duration_to_next_step",
         "rawType": "timedelta64[ns]",
         "type": "unknown"
        },
        {
         "name": "total_duration",
         "rawType": "timedelta64[ns]",
         "type": "unknown"
        }
       ],
       "ref": "0ed1c4ca-97d5-46fc-8df9-781c8e011d60",
       "rows": [],
       "shape": {
        "columns": 9,
        "rows": 0
       }
      },
      "text/html": [
       "<div>\n",
       "<style scoped>\n",
       "    .dataframe tbody tr th:only-of-type {\n",
       "        vertical-align: middle;\n",
       "    }\n",
       "\n",
       "    .dataframe tbody tr th {\n",
       "        vertical-align: top;\n",
       "    }\n",
       "\n",
       "    .dataframe thead th {\n",
       "        text-align: right;\n",
       "    }\n",
       "</style>\n",
       "<table border=\"1\" class=\"dataframe\">\n",
       "  <thead>\n",
       "    <tr style=\"text-align: right;\">\n",
       "      <th></th>\n",
       "      <th>MAILITM_FID</th>\n",
       "      <th>EVENT_TYPE_NM</th>\n",
       "      <th>date</th>\n",
       "      <th>établissement_postal</th>\n",
       "      <th>EVENT_TYPE_CD</th>\n",
       "      <th>next_établissement_postal</th>\n",
       "      <th>id</th>\n",
       "      <th>duration_to_next_step</th>\n",
       "      <th>total_duration</th>\n",
       "    </tr>\n",
       "  </thead>\n",
       "  <tbody>\n",
       "  </tbody>\n",
       "</table>\n",
       "</div>"
      ],
      "text/plain": [
       "Empty DataFrame\n",
       "Columns: [MAILITM_FID, EVENT_TYPE_NM, date, établissement_postal, EVENT_TYPE_CD, next_établissement_postal, id, duration_to_next_step, total_duration]\n",
       "Index: []"
      ]
     },
     "execution_count": 41,
     "metadata": {},
     "output_type": "execute_result"
    }
   ],
   "source": [
    "ids_with_0 = id_counts[id_counts == 2].index\n",
    "df_with_0 = df[df[\"MAILITM_FID\"].isin(ids_with_0)]\n",
    "df_with_0.head()"
   ]
  },
  {
   "cell_type": "code",
   "execution_count": 42,
   "id": "3de28be6",
   "metadata": {},
   "outputs": [
    {
     "name": "stdout",
     "output_type": "stream",
     "text": [
      "Series([], Name: count, dtype: int64)\n"
     ]
    }
   ],
   "source": [
    "\n",
    "# Count the occurrences of each protocol\n",
    "event_type = df_with_0['EVENT_TYPE_NM'].value_counts()\n",
    "\n",
    "print(event_type)\n",
    "\n"
   ]
  },
  {
   "cell_type": "code",
   "execution_count": 25,
   "id": "c0b7faf2",
   "metadata": {},
   "outputs": [
    {
     "name": "stdout",
     "output_type": "stream",
     "text": [
      "(8803577, 9)\n"
     ]
    }
   ],
   "source": [
    "# Drop rows where total_duration is zero\n",
    "df = df[df[\"total_duration\"] != pd.Timedelta(0)]\n",
    "\n",
    "# Check the shape after dropping\n",
    "print(df.shape)\n"
   ]
  },
  {
   "cell_type": "code",
   "execution_count": 26,
   "id": "e5215d31",
   "metadata": {},
   "outputs": [],
   "source": [
    "df.to_csv(file_name, index=False, encoding='utf-8-sig')"
   ]
  },
  {
   "cell_type": "code",
   "execution_count": null,
   "id": "93ae86aa",
   "metadata": {},
   "outputs": [],
   "source": []
  }
 ],
 "metadata": {
  "kernelspec": {
   "display_name": "Python 3",
   "language": "python",
   "name": "python3"
  },
  "language_info": {
   "codemirror_mode": {
    "name": "ipython",
    "version": 3
   },
   "file_extension": ".py",
   "mimetype": "text/x-python",
   "name": "python",
   "nbconvert_exporter": "python",
   "pygments_lexer": "ipython3",
   "version": "3.10.9"
  }
 },
 "nbformat": 4,
 "nbformat_minor": 5
}
