{
 "cells": [
  {
   "cell_type": "code",
   "execution_count": 3,
   "id": "62b5f2c1",
   "metadata": {},
   "outputs": [],
   "source": [
    "import pandas as pd\n",
    "import numpy as np\n",
    "import matplotlib.pyplot as plt\n",
    "import seaborn as sns\n",
    "%matplotlib inline"
   ]
  },
  {
   "cell_type": "code",
   "execution_count": 2,
   "id": "76e9fd2e",
   "metadata": {},
   "outputs": [
    {
     "name": "stdout",
     "output_type": "stream",
     "text": [
      "→ reading df_with_durations_01.csv\n"
     ]
    },
    {
     "name": "stderr",
     "output_type": "stream",
     "text": [
      "C:\\Users\\oussa\\AppData\\Local\\Temp\\ipykernel_15952\\1588896335.py:21: DtypeWarning: Columns (0,4,6) have mixed types. Specify dtype option on import or set low_memory=False.\n",
      "  df = pd.read_csv(src)\n"
     ]
    },
    {
     "name": "stdout",
     "output_type": "stream",
     "text": [
      "→ reading df_with_durations_02.csv\n"
     ]
    },
    {
     "name": "stderr",
     "output_type": "stream",
     "text": [
      "C:\\Users\\oussa\\AppData\\Local\\Temp\\ipykernel_15952\\1588896335.py:21: DtypeWarning: Columns (0,8) have mixed types. Specify dtype option on import or set low_memory=False.\n",
      "  df = pd.read_csv(src)\n"
     ]
    },
    {
     "name": "stdout",
     "output_type": "stream",
     "text": [
      "→ reading df_with_durations_03.csv\n",
      "→ reading df_with_durations_04.csv\n",
      "→ reading df_with_durations_05.csv\n",
      "→ reading df_with_durations_06.csv\n",
      "→ reading df_with_durations_07.csv\n",
      "✓ all files processed\n",
      "result saved to: C:\\Users\\oussa\\Desktop\\alg_poste_stage\\combined_eq0days.csv\n"
     ]
    }
   ],
   "source": [
    "import pandas as pd\n",
    "from pathlib import Path\n",
    "import gc            # optional: force garbage-collection between files\n",
    "\n",
    "# ── CONFIGURE THESE ──────────────────────────────────────────────\n",
    "TEMPLATE     = \"df_with_durations_0{}.csv\"   # e.g. df_with_durations_01.csv\n",
    "FILE_NUMBERS = range(1, 8)                   # 1 … 7   (adjust if yours are 0 … 6)\n",
    "OUT_FILE     = Path(\"combined_eq0days.csv\") # final result\n",
    "DUR_COL      = \"total_duration\"              # column to filter\n",
    "THRESHOLD    = pd.Timedelta(days=0)         # keep rows = 0\n",
    "# ─────────────────────────────────────────────────────────────────\n",
    "\n",
    "# start fresh (delete old result if it exists)\n",
    "OUT_FILE.unlink(missing_ok=True)\n",
    "\n",
    "for i in FILE_NUMBERS:\n",
    "    src = TEMPLATE.format(i)\n",
    "    print(f\"→ reading {src}\")\n",
    "\n",
    "    # 1) read the whole file (or stream in chunks if the CSVs are huge)\n",
    "    df = pd.read_csv(src)\n",
    "\n",
    "    # 2) convert duration column to Timedelta\n",
    "    df[DUR_COL] = pd.to_timedelta(df[DUR_COL], errors=\"coerce\")\n",
    "\n",
    "    # 3) filter\n",
    "    df = df[df[DUR_COL] == THRESHOLD]\n",
    "\n",
    "    # 4) append to the output CSV, write header only the first time\n",
    "    df.to_csv(\n",
    "        OUT_FILE,\n",
    "        mode=\"a\",\n",
    "        header=not OUT_FILE.exists(),  # write header if file was just created\n",
    "        index=False\n",
    "    )\n",
    "\n",
    "    # 5) drop references to free memory before next loop\n",
    "    del df\n",
    "    gc.collect()\n",
    "\n",
    "print(\"✓ all files processed\")\n",
    "print(f\"result saved to: {OUT_FILE.resolve()}\")\n"
   ]
  },
  {
   "cell_type": "code",
   "execution_count": 4,
   "id": "3d88edd1",
   "metadata": {},
   "outputs": [
    {
     "name": "stderr",
     "output_type": "stream",
     "text": [
      "C:\\Users\\oussa\\AppData\\Local\\Temp\\ipykernel_12860\\4091067978.py:1: DtypeWarning: Columns (0,6,8) have mixed types. Specify dtype option on import or set low_memory=False.\n",
      "  df = pd.read_csv(\"combined_eq0days.csv\", parse_dates=[\"date\"])\n"
     ]
    }
   ],
   "source": [
    "df = pd.read_csv(\"combined_eq0days.csv\", parse_dates=[\"date\"])"
   ]
  },
  {
   "cell_type": "code",
   "execution_count": 5,
   "id": "bd3e2790",
   "metadata": {},
   "outputs": [
    {
     "data": {
      "application/vnd.microsoft.datawrangler.viewer.v0+json": {
       "columns": [
        {
         "name": "index",
         "rawType": "int64",
         "type": "integer"
        },
        {
         "name": "RECPTCL_FID",
         "rawType": "object",
         "type": "unknown"
        },
        {
         "name": "MAILITM_FID",
         "rawType": "object",
         "type": "string"
        },
        {
         "name": "EVENT_TYPE_NM",
         "rawType": "object",
         "type": "string"
        },
        {
         "name": "date",
         "rawType": "object",
         "type": "string"
        },
        {
         "name": "établissement_postal",
         "rawType": "object",
         "type": "unknown"
        },
        {
         "name": "EVENT_TYPE_CD",
         "rawType": "int64",
         "type": "integer"
        },
        {
         "name": "next_établissement_postal",
         "rawType": "object",
         "type": "unknown"
        },
        {
         "name": "id",
         "rawType": "object",
         "type": "string"
        },
        {
         "name": "duration_to_next_step",
         "rawType": "object",
         "type": "unknown"
        },
        {
         "name": "total_duration",
         "rawType": "object",
         "type": "string"
        }
       ],
       "ref": "cbfb4e30-fcb2-4ee9-9d83-100864a9201a",
       "rows": [
        [
         "0",
         null,
         "CA000020844RU",
         "Réception d'envoi du client (Srt)",
         "2024-12-10 16:40:00.000",
         "RUSSIE, FÉDÉRATION DE",
         "1",
         null,
         "RU",
         null,
         "0 days"
        ],
        [
         "1",
         null,
         "CA000306674TG",
         "Réception d'envoi du client (Srt)",
         "2023-04-20 12:14:00.000",
         null,
         "1",
         null,
         "TG",
         null,
         "0 days"
        ],
        [
         "2",
         null,
         "CA000631038US",
         "Insérer envoi dans sac (Srt)",
         "2025-03-12 21:28:00.000",
         "ÉTATS-UNIS",
         "8",
         null,
         "US",
         null,
         "0 days"
        ],
        [
         "3",
         null,
         "CA001003839US",
         "Réception d'envoi du client (Srt)",
         "2025-04-18 15:34:00.000",
         "ÉTATS-UNIS",
         "1",
         null,
         "US",
         null,
         "0 days"
        ],
        [
         "4",
         null,
         "CA001056995US",
         "Réception d'envoi du client (Srt)",
         "2025-04-25 12:39:00.000",
         "ÉTATS-UNIS",
         "1",
         null,
         "US",
         null,
         "0 days"
        ]
       ],
       "shape": {
        "columns": 10,
        "rows": 5
       }
      },
      "text/html": [
       "<div>\n",
       "<style scoped>\n",
       "    .dataframe tbody tr th:only-of-type {\n",
       "        vertical-align: middle;\n",
       "    }\n",
       "\n",
       "    .dataframe tbody tr th {\n",
       "        vertical-align: top;\n",
       "    }\n",
       "\n",
       "    .dataframe thead th {\n",
       "        text-align: right;\n",
       "    }\n",
       "</style>\n",
       "<table border=\"1\" class=\"dataframe\">\n",
       "  <thead>\n",
       "    <tr style=\"text-align: right;\">\n",
       "      <th></th>\n",
       "      <th>RECPTCL_FID</th>\n",
       "      <th>MAILITM_FID</th>\n",
       "      <th>EVENT_TYPE_NM</th>\n",
       "      <th>date</th>\n",
       "      <th>établissement_postal</th>\n",
       "      <th>EVENT_TYPE_CD</th>\n",
       "      <th>next_établissement_postal</th>\n",
       "      <th>id</th>\n",
       "      <th>duration_to_next_step</th>\n",
       "      <th>total_duration</th>\n",
       "    </tr>\n",
       "  </thead>\n",
       "  <tbody>\n",
       "    <tr>\n",
       "      <th>0</th>\n",
       "      <td>NaN</td>\n",
       "      <td>CA000020844RU</td>\n",
       "      <td>Réception d'envoi du client (Srt)</td>\n",
       "      <td>2024-12-10 16:40:00.000</td>\n",
       "      <td>RUSSIE, FÉDÉRATION DE</td>\n",
       "      <td>1</td>\n",
       "      <td>NaN</td>\n",
       "      <td>RU</td>\n",
       "      <td>NaN</td>\n",
       "      <td>0 days</td>\n",
       "    </tr>\n",
       "    <tr>\n",
       "      <th>1</th>\n",
       "      <td>NaN</td>\n",
       "      <td>CA000306674TG</td>\n",
       "      <td>Réception d'envoi du client (Srt)</td>\n",
       "      <td>2023-04-20 12:14:00.000</td>\n",
       "      <td>NaN</td>\n",
       "      <td>1</td>\n",
       "      <td>NaN</td>\n",
       "      <td>TG</td>\n",
       "      <td>NaN</td>\n",
       "      <td>0 days</td>\n",
       "    </tr>\n",
       "    <tr>\n",
       "      <th>2</th>\n",
       "      <td>NaN</td>\n",
       "      <td>CA000631038US</td>\n",
       "      <td>Insérer envoi dans sac (Srt)</td>\n",
       "      <td>2025-03-12 21:28:00.000</td>\n",
       "      <td>ÉTATS-UNIS</td>\n",
       "      <td>8</td>\n",
       "      <td>NaN</td>\n",
       "      <td>US</td>\n",
       "      <td>NaN</td>\n",
       "      <td>0 days</td>\n",
       "    </tr>\n",
       "    <tr>\n",
       "      <th>3</th>\n",
       "      <td>NaN</td>\n",
       "      <td>CA001003839US</td>\n",
       "      <td>Réception d'envoi du client (Srt)</td>\n",
       "      <td>2025-04-18 15:34:00.000</td>\n",
       "      <td>ÉTATS-UNIS</td>\n",
       "      <td>1</td>\n",
       "      <td>NaN</td>\n",
       "      <td>US</td>\n",
       "      <td>NaN</td>\n",
       "      <td>0 days</td>\n",
       "    </tr>\n",
       "    <tr>\n",
       "      <th>4</th>\n",
       "      <td>NaN</td>\n",
       "      <td>CA001056995US</td>\n",
       "      <td>Réception d'envoi du client (Srt)</td>\n",
       "      <td>2025-04-25 12:39:00.000</td>\n",
       "      <td>ÉTATS-UNIS</td>\n",
       "      <td>1</td>\n",
       "      <td>NaN</td>\n",
       "      <td>US</td>\n",
       "      <td>NaN</td>\n",
       "      <td>0 days</td>\n",
       "    </tr>\n",
       "  </tbody>\n",
       "</table>\n",
       "</div>"
      ],
      "text/plain": [
       "  RECPTCL_FID    MAILITM_FID                      EVENT_TYPE_NM  \\\n",
       "0         NaN  CA000020844RU  Réception d'envoi du client (Srt)   \n",
       "1         NaN  CA000306674TG  Réception d'envoi du client (Srt)   \n",
       "2         NaN  CA000631038US       Insérer envoi dans sac (Srt)   \n",
       "3         NaN  CA001003839US  Réception d'envoi du client (Srt)   \n",
       "4         NaN  CA001056995US  Réception d'envoi du client (Srt)   \n",
       "\n",
       "                      date   établissement_postal  EVENT_TYPE_CD  \\\n",
       "0  2024-12-10 16:40:00.000  RUSSIE, FÉDÉRATION DE              1   \n",
       "1  2023-04-20 12:14:00.000                    NaN              1   \n",
       "2  2025-03-12 21:28:00.000             ÉTATS-UNIS              8   \n",
       "3  2025-04-18 15:34:00.000             ÉTATS-UNIS              1   \n",
       "4  2025-04-25 12:39:00.000             ÉTATS-UNIS              1   \n",
       "\n",
       "  next_établissement_postal  id duration_to_next_step total_duration  \n",
       "0                       NaN  RU                   NaN         0 days  \n",
       "1                       NaN  TG                   NaN         0 days  \n",
       "2                       NaN  US                   NaN         0 days  \n",
       "3                       NaN  US                   NaN         0 days  \n",
       "4                       NaN  US                   NaN         0 days  "
      ]
     },
     "execution_count": 5,
     "metadata": {},
     "output_type": "execute_result"
    }
   ],
   "source": [
    "df.head()"
   ]
  },
  {
   "cell_type": "code",
   "execution_count": 6,
   "id": "2670de8d",
   "metadata": {},
   "outputs": [
    {
     "data": {
      "text/plain": [
       "(2734246, 10)"
      ]
     },
     "execution_count": 6,
     "metadata": {},
     "output_type": "execute_result"
    }
   ],
   "source": [
    "df.shape"
   ]
  },
  {
   "cell_type": "code",
   "execution_count": 7,
   "id": "d8cc969b",
   "metadata": {},
   "outputs": [
    {
     "name": "stdout",
     "output_type": "stream",
     "text": [
      "total_duration                     1\n",
      "duration_to_next_step              2\n",
      "EVENT_TYPE_NM                     20\n",
      "EVENT_TYPE_CD                     20\n",
      "id                               140\n",
      "next_établissement_postal       2084\n",
      "établissement_postal            2630\n",
      "RECPTCL_FID                    89295\n",
      "date                          255246\n",
      "MAILITM_FID                  1901592\n",
      "dtype: int64\n"
     ]
    }
   ],
   "source": [
    "distinct_values_count = df.nunique()\n",
    "\n",
    "distinct_values_count = distinct_values_count.sort_values(ascending=True)\n",
    "\n",
    "print(distinct_values_count)"
   ]
  },
  {
   "cell_type": "code",
   "execution_count": 8,
   "id": "6d6439d1",
   "metadata": {},
   "outputs": [
    {
     "name": "stdout",
     "output_type": "stream",
     "text": [
      "EVENT_TYPE_NM\n",
      "Expédition d'envoi à l'étranger (EDI-reçu)                     1359483\n",
      "Insérer envoi dans sac (Srt)                                   1158336\n",
      "Expédier envoi à adresse nationale (Ent)                         43108\n",
      "Recevoir envoi au bureau d'échange (Ent)                         39628\n",
      "Recevoir envoi au bureau de livraison (Ent)                      38088\n",
      "Expédier envoi à adresse nationale (Srt)                         23529\n",
      "Livraison d'envoi (Ent)                                          22318\n",
      "Vaine tentative de livraison d'envoi (Ent)                       15356\n",
      "Réception d'envoi du client (Srt)                                13818\n",
      "Expédier envoi à la douane (Ent)                                  9184\n",
      "Transmettre envoi à l'agent de livraison (Ent)                    8669\n",
      "Recevoir envoi au bureau d'échange (Srt)                          1092\n",
      "Renvoyer envoi de la douane (Ent)                                  817\n",
      "Enregistrer détails d'envoi au bureau d'échange (Srt)              740\n",
      "Enregistrer informations douanières d'envoi (Ent)                   26\n",
      "Enregistrer raison de rétention d'envoi par la douane (Srt)         23\n",
      "Recevoir envoi au lieu (Ent)                                        12\n",
      "Mettre à jour envoi (Ent)                                           10\n",
      "Renvoyer envoi de la douane (Srt)                                    6\n",
      "Recevoir envoi au lieu (Srt)                                         3\n",
      "Name: count, dtype: int64\n"
     ]
    }
   ],
   "source": [
    "\n",
    "# Count the occurrences of each protocol\n",
    "event_type = df['EVENT_TYPE_NM'].value_counts()\n",
    "\n",
    "print(event_type)\n"
   ]
  },
  {
   "cell_type": "code",
   "execution_count": 9,
   "id": "dd452b4b",
   "metadata": {},
   "outputs": [
    {
     "name": "stdout",
     "output_type": "stream",
     "text": [
      "Min date: 2021-04-05 11:08:35.447\n",
      "Max date: 2025-05-21 14:31:28.140\n"
     ]
    }
   ],
   "source": [
    "print(\"Min date:\", df[\"date\"].min())\n",
    "print(\"Max date:\", df[\"date\"].max())"
   ]
  },
  {
   "cell_type": "code",
   "execution_count": 9,
   "id": "1d76c41d",
   "metadata": {},
   "outputs": [
    {
     "name": "stdout",
     "output_type": "stream",
     "text": [
      "Number of duplicate rows (ignoring specified columns): 4087\n"
     ]
    }
   ],
   "source": [
    "# Define columns to ignore when checking duplicates\n",
    "cols_ignore = [\"RECPTCL_FID\", \"duration_to_next_step\", \"total_duration\", \"id\"]\n",
    "cols_check  = [c for c in df.columns if c not in cols_ignore]\n",
    "\n",
    "# 1. Identify all duplicate rows based on cols_check\n",
    "dup_mask = df.duplicated(subset=cols_check, keep=False)\n",
    "\n",
    "# 2. Number of such duplicate rows\n",
    "num_duplicates = dup_mask.sum()\n",
    "print(f\"Number of duplicate rows (ignoring specified columns): {num_duplicates}\")\n",
    "\n",
    "\n"
   ]
  },
  {
   "cell_type": "code",
   "execution_count": 11,
   "id": "cb96f04f",
   "metadata": {},
   "outputs": [],
   "source": [
    "df = df.drop_duplicates(subset=cols_check, keep=\"first\").reset_index(drop=True)"
   ]
  },
  {
   "cell_type": "code",
   "execution_count": 63,
   "id": "c86dcab5",
   "metadata": {},
   "outputs": [],
   "source": [
    "enter_algeria_event = \"Recevoir envoi au bureau d'échange (Ent)\"\n",
    "df_enter = df[df[\"EVENT_TYPE_NM\"] == enter_algeria_event]"
   ]
  },
  {
   "cell_type": "code",
   "execution_count": 64,
   "id": "c8c6180b",
   "metadata": {},
   "outputs": [],
   "source": [
    "# 2. Total rows vs unique MAILITM_FID in this subset\n",
    "total_rows = len(df_enter)\n",
    "unique_fids_enter = df_enter[\"MAILITM_FID\"].nunique()"
   ]
  },
  {
   "cell_type": "code",
   "execution_count": 65,
   "id": "b7f04c24",
   "metadata": {},
   "outputs": [
    {
     "name": "stdout",
     "output_type": "stream",
     "text": [
      "Total 'enter Algeria' rows: 933293\n",
      "Unique MAILITM_FID in subset: 886093\n",
      "Are all rows unique per FID? No\n"
     ]
    }
   ],
   "source": [
    "print(f\"Total 'enter Algeria' rows: {total_rows}\")\n",
    "print(f\"Unique MAILITM_FID in subset: {unique_fids_enter}\")\n",
    "print(f\"Are all rows unique per FID? {'Yes' if total_rows == unique_fids_enter else 'No'}\")"
   ]
  },
  {
   "cell_type": "code",
   "execution_count": 69,
   "id": "45eda5dc",
   "metadata": {},
   "outputs": [
    {
     "data": {
      "text/plain": [
       "(8752582,)"
      ]
     },
     "execution_count": 69,
     "metadata": {},
     "output_type": "execute_result"
    }
   ],
   "source": [
    "durations_btw_events = df[\"duration_to_next_step\"]\n",
    "durations_btw_events = pd.to_timedelta(durations_btw_events, errors=\"coerce\")\n",
    "durations_btw_events.shape"
   ]
  },
  {
   "cell_type": "code",
   "execution_count": 71,
   "id": "e96a0001",
   "metadata": {},
   "outputs": [
    {
     "name": "stdout",
     "output_type": "stream",
     "text": [
      "events smaller than 15 =  6727179\n"
     ]
    }
   ],
   "source": [
    "print(\"events smaller than 15 = \" , (durations_btw_events <= pd.Timedelta(days=15)).sum())"
   ]
  },
  {
   "cell_type": "code",
   "execution_count": 72,
   "id": "0cc5e14b",
   "metadata": {},
   "outputs": [
    {
     "name": "stdout",
     "output_type": "stream",
     "text": [
      "count\n",
      "2       24437\n",
      "3       67603\n",
      "4       99104\n",
      "5      113187\n",
      "6      112030\n",
      "        ...  \n",
      "143         1\n",
      "147         1\n",
      "152         1\n",
      "160         1\n",
      "251         1\n",
      "Name: count, Length: 126, dtype: int64\n"
     ]
    }
   ],
   "source": [
    "# Step 1: Count how many times each ID appears\n",
    "id_counts = df[\"MAILITM_FID\"].value_counts()\n",
    "\n",
    "# Step 2: Count how many IDs have a specific count\n",
    "count_of_counts = id_counts.value_counts().sort_index()\n",
    "\n",
    "print(count_of_counts)\n"
   ]
  },
  {
   "cell_type": "code",
   "execution_count": 76,
   "id": "67152016",
   "metadata": {},
   "outputs": [
    {
     "data": {
      "text/html": [
       "<div>\n",
       "<style scoped>\n",
       "    .dataframe tbody tr th:only-of-type {\n",
       "        vertical-align: middle;\n",
       "    }\n",
       "\n",
       "    .dataframe tbody tr th {\n",
       "        vertical-align: top;\n",
       "    }\n",
       "\n",
       "    .dataframe thead th {\n",
       "        text-align: right;\n",
       "    }\n",
       "</style>\n",
       "<table border=\"1\" class=\"dataframe\">\n",
       "  <thead>\n",
       "    <tr style=\"text-align: right;\">\n",
       "      <th></th>\n",
       "      <th>RECPTCL_FID</th>\n",
       "      <th>MAILITM_FID</th>\n",
       "      <th>EVENT_TYPE_NM</th>\n",
       "      <th>date</th>\n",
       "      <th>établissement_postal</th>\n",
       "      <th>EVENT_TYPE_CD</th>\n",
       "      <th>next_établissement_postal</th>\n",
       "      <th>id</th>\n",
       "      <th>duration_to_next_step</th>\n",
       "      <th>total_duration</th>\n",
       "    </tr>\n",
       "  </thead>\n",
       "  <tbody>\n",
       "    <tr>\n",
       "      <th>835189</th>\n",
       "      <td>NaN</td>\n",
       "      <td>RB198581530SG</td>\n",
       "      <td>Recevoir envoi au bureau d'échange (Ent)</td>\n",
       "      <td>2022-06-11 11:58:08.340</td>\n",
       "      <td>ALGER COLIS POSTAUX</td>\n",
       "      <td>30</td>\n",
       "      <td>NaN</td>\n",
       "      <td>SG</td>\n",
       "      <td>0 days 00:06:59.143000</td>\n",
       "      <td>15 days 03:26:48.533000</td>\n",
       "    </tr>\n",
       "    <tr>\n",
       "      <th>835190</th>\n",
       "      <td>NaN</td>\n",
       "      <td>RB198581530SG</td>\n",
       "      <td>Expédier envoi à adresse nationale (Ent)</td>\n",
       "      <td>2022-06-11 12:05:07.483</td>\n",
       "      <td>ALGER COLIS POSTAUX</td>\n",
       "      <td>35</td>\n",
       "      <td>CDD SETIF</td>\n",
       "      <td>SG</td>\n",
       "      <td>0 days 00:33:50.457000</td>\n",
       "      <td>15 days 03:26:48.533000</td>\n",
       "    </tr>\n",
       "    <tr>\n",
       "      <th>835191</th>\n",
       "      <td>NaN</td>\n",
       "      <td>RB198581530SG</td>\n",
       "      <td>Expédier envoi à adresse nationale (Ent)</td>\n",
       "      <td>2022-06-11 12:38:57.940</td>\n",
       "      <td>ALGER COLIS POSTAUX</td>\n",
       "      <td>35</td>\n",
       "      <td>SECTION PAQUETS CPX ALGER</td>\n",
       "      <td>SG</td>\n",
       "      <td>1 days 19:29:27.980000</td>\n",
       "      <td>15 days 03:26:48.533000</td>\n",
       "    </tr>\n",
       "    <tr>\n",
       "      <th>835192</th>\n",
       "      <td>NaN</td>\n",
       "      <td>RB198581530SG</td>\n",
       "      <td>Recevoir envoi au bureau de livraison (Ent)</td>\n",
       "      <td>2022-06-13 08:08:25.920</td>\n",
       "      <td>CDD SETIF</td>\n",
       "      <td>32</td>\n",
       "      <td>NaN</td>\n",
       "      <td>SG</td>\n",
       "      <td>0 days 04:39:41.930000</td>\n",
       "      <td>15 days 03:26:48.533000</td>\n",
       "    </tr>\n",
       "    <tr>\n",
       "      <th>835193</th>\n",
       "      <td>NaN</td>\n",
       "      <td>RB198581530SG</td>\n",
       "      <td>Expédier envoi à adresse nationale (Srt)</td>\n",
       "      <td>2022-06-13 12:48:07.850</td>\n",
       "      <td>CDD SETIF</td>\n",
       "      <td>2</td>\n",
       "      <td>BABOR</td>\n",
       "      <td>SG</td>\n",
       "      <td>4 days 22:23:10.027000</td>\n",
       "      <td>15 days 03:26:48.533000</td>\n",
       "    </tr>\n",
       "  </tbody>\n",
       "</table>\n",
       "</div>"
      ],
      "text/plain": [
       "       RECPTCL_FID    MAILITM_FID  \\\n",
       "835189         NaN  RB198581530SG   \n",
       "835190         NaN  RB198581530SG   \n",
       "835191         NaN  RB198581530SG   \n",
       "835192         NaN  RB198581530SG   \n",
       "835193         NaN  RB198581530SG   \n",
       "\n",
       "                                      EVENT_TYPE_NM                     date  \\\n",
       "835189     Recevoir envoi au bureau d'échange (Ent)  2022-06-11 11:58:08.340   \n",
       "835190     Expédier envoi à adresse nationale (Ent)  2022-06-11 12:05:07.483   \n",
       "835191     Expédier envoi à adresse nationale (Ent)  2022-06-11 12:38:57.940   \n",
       "835192  Recevoir envoi au bureau de livraison (Ent)  2022-06-13 08:08:25.920   \n",
       "835193     Expédier envoi à adresse nationale (Srt)  2022-06-13 12:48:07.850   \n",
       "\n",
       "       établissement_postal  EVENT_TYPE_CD  next_établissement_postal  id  \\\n",
       "835189  ALGER COLIS POSTAUX             30                        NaN  SG   \n",
       "835190  ALGER COLIS POSTAUX             35                  CDD SETIF  SG   \n",
       "835191  ALGER COLIS POSTAUX             35  SECTION PAQUETS CPX ALGER  SG   \n",
       "835192            CDD SETIF             32                        NaN  SG   \n",
       "835193            CDD SETIF              2                      BABOR  SG   \n",
       "\n",
       "         duration_to_next_step           total_duration  \n",
       "835189  0 days 00:06:59.143000  15 days 03:26:48.533000  \n",
       "835190  0 days 00:33:50.457000  15 days 03:26:48.533000  \n",
       "835191  1 days 19:29:27.980000  15 days 03:26:48.533000  \n",
       "835192  0 days 04:39:41.930000  15 days 03:26:48.533000  \n",
       "835193  4 days 22:23:10.027000  15 days 03:26:48.533000  "
      ]
     },
     "execution_count": 76,
     "metadata": {},
     "output_type": "execute_result"
    }
   ],
   "source": [
    "ids_with_0 = id_counts[id_counts == 251].index\n",
    "df_with_0 = df[df[\"MAILITM_FID\"].isin(ids_with_0)]\n",
    "df_with_0.head()\n"
   ]
  },
  {
   "cell_type": "code",
   "execution_count": 77,
   "id": "a223b39a",
   "metadata": {},
   "outputs": [],
   "source": [
    "dup_run = (\n",
    "    df.groupby(\"MAILITM_FID\")[\"EVENT_TYPE_NM\"]\n",
    "      .shift(-1)                    # look one row ahead\n",
    "      .eq(df[\"EVENT_TYPE_NM\"])      # True if same event repeats\n",
    ")\n",
    "\n",
    "# keep rows that are NOT duplicates-in-a-row (i.e., keep the last in each streak)\n",
    "df = df[~dup_run].copy()"
   ]
  },
  {
   "cell_type": "code",
   "execution_count": 78,
   "id": "fa1b3bd6",
   "metadata": {},
   "outputs": [
    {
     "data": {
      "text/plain": [
       "(7618347, 10)"
      ]
     },
     "execution_count": 78,
     "metadata": {},
     "output_type": "execute_result"
    }
   ],
   "source": [
    "df.shape"
   ]
  },
  {
   "cell_type": "code",
   "execution_count": 79,
   "id": "036620a7",
   "metadata": {},
   "outputs": [
    {
     "name": "stdout",
     "output_type": "stream",
     "text": [
      "count\n",
      "1       31494\n",
      "2       24561\n",
      "3       85251\n",
      "4      120168\n",
      "5      127738\n",
      "        ...  \n",
      "127         4\n",
      "128         2\n",
      "130         2\n",
      "133         1\n",
      "134         1\n",
      "Name: count, Length: 103, dtype: int64\n"
     ]
    }
   ],
   "source": [
    "# Step 1: Count how many times each ID appears\n",
    "id_counts = df[\"MAILITM_FID\"].value_counts()\n",
    "\n",
    "# Step 2: Count how many IDs have a specific count\n",
    "count_of_counts = id_counts.value_counts().sort_index()\n",
    "\n",
    "print(count_of_counts)\n"
   ]
  },
  {
   "cell_type": "code",
   "execution_count": 81,
   "id": "3cf8a434",
   "metadata": {},
   "outputs": [
    {
     "data": {
      "text/html": [
       "<div>\n",
       "<style scoped>\n",
       "    .dataframe tbody tr th:only-of-type {\n",
       "        vertical-align: middle;\n",
       "    }\n",
       "\n",
       "    .dataframe tbody tr th {\n",
       "        vertical-align: top;\n",
       "    }\n",
       "\n",
       "    .dataframe thead th {\n",
       "        text-align: right;\n",
       "    }\n",
       "</style>\n",
       "<table border=\"1\" class=\"dataframe\">\n",
       "  <thead>\n",
       "    <tr style=\"text-align: right;\">\n",
       "      <th></th>\n",
       "      <th>RECPTCL_FID</th>\n",
       "      <th>MAILITM_FID</th>\n",
       "      <th>EVENT_TYPE_NM</th>\n",
       "      <th>date</th>\n",
       "      <th>établissement_postal</th>\n",
       "      <th>EVENT_TYPE_CD</th>\n",
       "      <th>next_établissement_postal</th>\n",
       "      <th>id</th>\n",
       "      <th>duration_to_next_step</th>\n",
       "      <th>total_duration</th>\n",
       "    </tr>\n",
       "  </thead>\n",
       "  <tbody>\n",
       "    <tr>\n",
       "      <th>466391</th>\n",
       "      <td>NaN</td>\n",
       "      <td>RV586240137CN</td>\n",
       "      <td>Insérer envoi dans sac (Srt)</td>\n",
       "      <td>2022-01-01 09:31:00</td>\n",
       "      <td>CHINE</td>\n",
       "      <td>8</td>\n",
       "      <td>NaN</td>\n",
       "      <td>CN</td>\n",
       "      <td>0 days 18:34:00</td>\n",
       "      <td>206 days 18:34:00</td>\n",
       "    </tr>\n",
       "    <tr>\n",
       "      <th>466392</th>\n",
       "      <td>CNBJSADZALGBAUR20001006010052</td>\n",
       "      <td>RV586240137CN</td>\n",
       "      <td>Expédition d'envoi à l'étranger (EDI-reçu)</td>\n",
       "      <td>2022-01-02 04:05:00</td>\n",
       "      <td>NaN</td>\n",
       "      <td>12</td>\n",
       "      <td>ALGÉRIE</td>\n",
       "      <td>CN</td>\n",
       "      <td>2 days 06:08:00</td>\n",
       "      <td>206 days 18:34:00</td>\n",
       "    </tr>\n",
       "    <tr>\n",
       "      <th>466393</th>\n",
       "      <td>NaN</td>\n",
       "      <td>RV586240137CN</td>\n",
       "      <td>Insérer envoi dans sac (Srt)</td>\n",
       "      <td>2022-01-04 10:13:00</td>\n",
       "      <td>CHINE</td>\n",
       "      <td>8</td>\n",
       "      <td>NaN</td>\n",
       "      <td>CN</td>\n",
       "      <td>0 days 17:52:00</td>\n",
       "      <td>206 days 18:34:00</td>\n",
       "    </tr>\n",
       "    <tr>\n",
       "      <th>466394</th>\n",
       "      <td>CNBJSADZALGBAUR20007001010052</td>\n",
       "      <td>RV586240137CN</td>\n",
       "      <td>Expédition d'envoi à l'étranger (EDI-reçu)</td>\n",
       "      <td>2022-01-05 04:05:00</td>\n",
       "      <td>NaN</td>\n",
       "      <td>12</td>\n",
       "      <td>ALGÉRIE</td>\n",
       "      <td>CN</td>\n",
       "      <td>2 days 05:33:00</td>\n",
       "      <td>206 days 18:34:00</td>\n",
       "    </tr>\n",
       "    <tr>\n",
       "      <th>466395</th>\n",
       "      <td>NaN</td>\n",
       "      <td>RV586240137CN</td>\n",
       "      <td>Insérer envoi dans sac (Srt)</td>\n",
       "      <td>2022-01-07 09:38:00</td>\n",
       "      <td>CHINE</td>\n",
       "      <td>8</td>\n",
       "      <td>NaN</td>\n",
       "      <td>CN</td>\n",
       "      <td>1 days 18:27:00</td>\n",
       "      <td>206 days 18:34:00</td>\n",
       "    </tr>\n",
       "  </tbody>\n",
       "</table>\n",
       "</div>"
      ],
      "text/plain": [
       "                          RECPTCL_FID    MAILITM_FID  \\\n",
       "466391                            NaN  RV586240137CN   \n",
       "466392  CNBJSADZALGBAUR20001006010052  RV586240137CN   \n",
       "466393                            NaN  RV586240137CN   \n",
       "466394  CNBJSADZALGBAUR20007001010052  RV586240137CN   \n",
       "466395                            NaN  RV586240137CN   \n",
       "\n",
       "                                     EVENT_TYPE_NM                 date  \\\n",
       "466391                Insérer envoi dans sac (Srt)  2022-01-01 09:31:00   \n",
       "466392  Expédition d'envoi à l'étranger (EDI-reçu)  2022-01-02 04:05:00   \n",
       "466393                Insérer envoi dans sac (Srt)  2022-01-04 10:13:00   \n",
       "466394  Expédition d'envoi à l'étranger (EDI-reçu)  2022-01-05 04:05:00   \n",
       "466395                Insérer envoi dans sac (Srt)  2022-01-07 09:38:00   \n",
       "\n",
       "       établissement_postal  EVENT_TYPE_CD next_établissement_postal  id  \\\n",
       "466391                CHINE              8                       NaN  CN   \n",
       "466392                  NaN             12                   ALGÉRIE  CN   \n",
       "466393                CHINE              8                       NaN  CN   \n",
       "466394                  NaN             12                   ALGÉRIE  CN   \n",
       "466395                CHINE              8                       NaN  CN   \n",
       "\n",
       "       duration_to_next_step     total_duration  \n",
       "466391       0 days 18:34:00  206 days 18:34:00  \n",
       "466392       2 days 06:08:00  206 days 18:34:00  \n",
       "466393       0 days 17:52:00  206 days 18:34:00  \n",
       "466394       2 days 05:33:00  206 days 18:34:00  \n",
       "466395       1 days 18:27:00  206 days 18:34:00  "
      ]
     },
     "execution_count": 81,
     "metadata": {},
     "output_type": "execute_result"
    }
   ],
   "source": [
    "ids_with_0 = id_counts[id_counts == 133].index\n",
    "df_with_0 = df[df[\"MAILITM_FID\"].isin(ids_with_0)]\n",
    "df_with_0.head()\n"
   ]
  },
  {
   "cell_type": "code",
   "execution_count": null,
   "id": "aceebe1b",
   "metadata": {},
   "outputs": [],
   "source": []
  }
 ],
 "metadata": {
  "kernelspec": {
   "display_name": "Python 3",
   "language": "python",
   "name": "python3"
  },
  "language_info": {
   "codemirror_mode": {
    "name": "ipython",
    "version": 3
   },
   "file_extension": ".py",
   "mimetype": "text/x-python",
   "name": "python",
   "nbconvert_exporter": "python",
   "pygments_lexer": "ipython3",
   "version": "3.10.9"
  }
 },
 "nbformat": 4,
 "nbformat_minor": 5
}
