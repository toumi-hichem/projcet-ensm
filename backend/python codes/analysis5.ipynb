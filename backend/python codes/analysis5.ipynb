{
 "cells": [
  {
   "cell_type": "code",
   "execution_count": 1,
   "id": "7dc48e25",
   "metadata": {},
   "outputs": [],
   "source": [
    "import pandas as pd\n",
    "import numpy as np\n",
    "import matplotlib.pyplot as plt\n",
    "import seaborn as sns\n",
    "%matplotlib inline"
   ]
  },
  {
   "cell_type": "code",
   "execution_count": 2,
   "id": "2ed4022b",
   "metadata": {},
   "outputs": [],
   "source": [
    "file_name = \"df_count_3_part2.csv\"   "
   ]
  },
  {
   "cell_type": "code",
   "execution_count": 3,
   "id": "b46b746c",
   "metadata": {},
   "outputs": [
    {
     "name": "stderr",
     "output_type": "stream",
     "text": [
      "C:\\Users\\oussa\\AppData\\Local\\Temp\\ipykernel_14324\\1571972478.py:1: DtypeWarning: Columns (4) have mixed types. Specify dtype option on import or set low_memory=False.\n",
      "  df = pd.read_csv(file_name , parse_dates=[\"date\"])\n"
     ]
    }
   ],
   "source": [
    " \n",
    "df = pd.read_csv(file_name , parse_dates=[\"date\"])\n"
   ]
  },
  {
   "cell_type": "code",
   "execution_count": 4,
   "id": "bec3e2eb",
   "metadata": {},
   "outputs": [
    {
     "data": {
      "text/plain": [
       "(12287458, 10)"
      ]
     },
     "execution_count": 4,
     "metadata": {},
     "output_type": "execute_result"
    }
   ],
   "source": [
    "df.shape"
   ]
  },
  {
   "cell_type": "code",
   "execution_count": 5,
   "id": "ed9bfdeb",
   "metadata": {},
   "outputs": [],
   "source": [
    "# Read the country reference file\n",
    "df_countries = pd.read_csv(\"CT_COUNTRIES.csv\", sep=\";\", header=None, names=[\"code\", \"lang\", \"name\"])\n",
    "\n",
    "country_dict = df_countries.set_index(\"code\")[\"name\"].to_dict()"
   ]
  },
  {
   "cell_type": "code",
   "execution_count": 6,
   "id": "789237c0",
   "metadata": {},
   "outputs": [
    {
     "name": "stdout",
     "output_type": "stream",
     "text": [
      "Number of duplicate rows (ignoring specified columns): 60126\n"
     ]
    }
   ],
   "source": [
    "# Define columns to ignore when checking duplicates\n",
    "cols_ignore = [\"RECPTCL_FID\", \"duration_to_next_step\", \"total_duration\", \"id\"]\n",
    "cols_check  = [c for c in df.columns if c not in cols_ignore]\n",
    "\n",
    "# 1. Identify all duplicate rows based on cols_check\n",
    "dup_mask = df.duplicated(subset=cols_check, keep=False)\n",
    "\n",
    "# 2. Number of such duplicate rows\n",
    "num_duplicates = dup_mask.sum()\n",
    "print(f\"Number of duplicate rows (ignoring specified columns): {num_duplicates}\")\n",
    "\n",
    "\n"
   ]
  },
  {
   "cell_type": "code",
   "execution_count": 7,
   "id": "eee67ebd",
   "metadata": {},
   "outputs": [],
   "source": [
    "df = df.drop_duplicates(subset=cols_check, keep=\"first\").reset_index(drop=True)"
   ]
  },
  {
   "cell_type": "code",
   "execution_count": 8,
   "id": "8d148084",
   "metadata": {},
   "outputs": [
    {
     "name": "stdout",
     "output_type": "stream",
     "text": [
      "First-event frequencies:\n",
      "Réception d'envoi du client (Srt)        776,570\n",
      "Expédition d'envoi à l'étranger (EDI-reçu) 261,808\n",
      "Insérer envoi dans sac (Srt)             20,111\n"
     ]
    }
   ],
   "source": [
    "import pandas as pd\n",
    "\n",
    "ID_COL    = \"MAILITM_FID\"\n",
    "EVENT_COL = \"EVENT_TYPE_NM\"\n",
    "\n",
    "# 1) pick the first row per parcel (rows are already in correct order)\n",
    "first_events = (\n",
    "    df.groupby(ID_COL, sort=False)[EVENT_COL]\n",
    "      .first()                 # a Series: index = parcel ID, value = first event\n",
    ")\n",
    "\n",
    "# 2) count how many parcels have each first event\n",
    "event_counts = (\n",
    "    first_events.value_counts()   # Series: index = event, value = count\n",
    "               .sort_values(ascending=False)\n",
    ")\n",
    "\n",
    "# 3) print the result\n",
    "print(\"First-event frequencies:\")\n",
    "for event, count in event_counts.items():\n",
    "    print(f\"{event:40} {count:,}\")\n"
   ]
  },
  {
   "cell_type": "code",
   "execution_count": 9,
   "id": "a59e7f14",
   "metadata": {},
   "outputs": [
    {
     "name": "stdout",
     "output_type": "stream",
     "text": [
      "RECPTCL_FID                  1782961\n",
      "établissement_postal         1026559\n",
      "next_établissement_postal    7835253\n",
      "duration_to_next_step        3167344\n",
      "dtype: int64\n"
     ]
    }
   ],
   "source": [
    "missing_values = df.isnull().sum()\n",
    "missing_columns = missing_values[missing_values > 0]\n",
    "print(missing_columns)"
   ]
  },
  {
   "cell_type": "code",
   "execution_count": 10,
   "id": "e6e8e14c",
   "metadata": {},
   "outputs": [],
   "source": [
    "df = df.drop(columns=[\"RECPTCL_FID\", \"duration_to_next_step\", \"total_duration\"])"
   ]
  },
  {
   "cell_type": "code",
   "execution_count": 11,
   "id": "32d936e7",
   "metadata": {},
   "outputs": [
    {
     "name": "stdout",
     "output_type": "stream",
     "text": [
      "établissement_postal         1026559\n",
      "next_établissement_postal    7835253\n",
      "dtype: int64\n"
     ]
    }
   ],
   "source": [
    "missing_values = df.isnull().sum()\n",
    "missing_columns = missing_values[missing_values > 0]\n",
    "print(missing_columns)"
   ]
  },
  {
   "cell_type": "code",
   "execution_count": 12,
   "id": "38f06752",
   "metadata": {},
   "outputs": [
    {
     "name": "stdout",
     "output_type": "stream",
     "text": [
      "Total rows with missing values: 8191232\n"
     ]
    }
   ],
   "source": [
    "\n",
    "# Assuming 'df' is your DataFrame!\n",
    "\n",
    "# Identify the rows with missing values\n",
    "missing_rows = df[df.isnull().any(axis=1)]\n",
    "\n",
    "# Print the total number of rows that have missing values\n",
    "print(\"Total rows with missing values:\", missing_rows.shape[0])\n",
    "\n",
    "\n"
   ]
  },
  {
   "cell_type": "code",
   "execution_count": 13,
   "id": "47bc4e02",
   "metadata": {},
   "outputs": [
    {
     "name": "stdout",
     "output_type": "stream",
     "text": [
      "\n",
      "Summary of missing patterns (tuple of 0's and 1's corresponding to missing values in each column):\n",
      "(0, 0, 0, 0, 0, 1, 0)    7164673\n",
      "(0, 0, 0, 1, 0, 1, 0)     670580\n",
      "(0, 0, 0, 1, 0, 0, 0)     355979\n",
      "dtype: int64\n"
     ]
    }
   ],
   "source": [
    "# Analyze the missing patterns across rows:\n",
    "# Create a binary pattern for each row where 1 indicates a missing value and 0 indicates non-missing.\n",
    "missing_pattern = missing_rows.isnull().astype(int)\n",
    "# Convert each pattern to a tuple to use as a key for groupby\n",
    "missing_pattern_tuples = missing_pattern.apply(tuple, axis=1)\n",
    "# Group by the missing pattern and count the number of rows for each pattern\n",
    "pattern_summary = missing_rows.groupby(missing_pattern_tuples).size().sort_values(ascending=False)\n",
    "\n",
    "print(\"\\nSummary of missing patterns (tuple of 0's and 1's corresponding to missing values in each column):\")\n",
    "print(pattern_summary)\n",
    "\n"
   ]
  },
  {
   "cell_type": "code",
   "execution_count": 14,
   "id": "9c54464c",
   "metadata": {},
   "outputs": [
    {
     "name": "stdout",
     "output_type": "stream",
     "text": [
      "EVENT_TYPE_NM                     23\n",
      "EVENT_TYPE_CD                     23\n",
      "id                                74\n",
      "next_établissement_postal       3541\n",
      "établissement_postal            3670\n",
      "MAILITM_FID                  1058489\n",
      "date                         9122376\n",
      "dtype: int64\n"
     ]
    }
   ],
   "source": [
    "distinct_values_count = df.nunique()\n",
    "\n",
    "distinct_values_count = distinct_values_count.sort_values(ascending=True)\n",
    "\n",
    "print(distinct_values_count)"
   ]
  },
  {
   "cell_type": "code",
   "execution_count": 15,
   "id": "6f3c108a",
   "metadata": {},
   "outputs": [
    {
     "name": "stdout",
     "output_type": "stream",
     "text": [
      "EVENT_TYPE_NM\n",
      "Recevoir envoi au bureau de livraison (Ent)                    2303342\n",
      "Expédier envoi à adresse nationale (Ent)                       1694707\n",
      "Expédier envoi à adresse nationale (Srt)                       1534491\n",
      "Expédition d'envoi à l'étranger (EDI-reçu)                     1165369\n",
      "Recevoir envoi au bureau d'échange (Ent)                       1097909\n",
      "Vaine tentative de livraison d'envoi (Ent)                     1021503\n",
      "Réception d'envoi du client (Srt)                               982430\n",
      "Livraison d'envoi (Ent)                                         935019\n",
      "Insérer envoi dans sac (Srt)                                    851000\n",
      "Transmettre envoi à l'agent de livraison (Ent)                  614515\n",
      "Enregistrer détails d'envoi au bureau d'échange (Srt)            29164\n",
      "Recevoir envoi au bureau d'échange (Srt)                         20553\n",
      "Expédier envoi à la douane (Ent)                                  4967\n",
      "Renvoyer envoi de la douane (Ent)                                 1859\n",
      "Renvoyer envoi de la douane (Srt)                                  240\n",
      "Enregistrer informations douanières d'envoi (Ent)                  120\n",
      "Enregistrer raison de rétention d'envoi par la douane (Srt)        112\n",
      "Recevoir envoi au lieu (Ent)                                        36\n",
      "Mettre à jour envoi (Ent)                                           33\n",
      "Expédier envoi à la douane (Srt)                                     6\n",
      "Recevoir envoi au lieu (Srt)                                         5\n",
      "Supprimer envoi du sac (Srt)                                         5\n",
      "Expédier envoi pour livraison physique (Ent)                         1\n",
      "Name: count, dtype: int64\n"
     ]
    }
   ],
   "source": [
    "\n",
    "# Count the occurrences of each protocol\n",
    "event_type = df['EVENT_TYPE_NM'].value_counts()\n",
    "\n",
    "print(event_type)\n"
   ]
  },
  {
   "cell_type": "code",
   "execution_count": 16,
   "id": "ab434c1f",
   "metadata": {},
   "outputs": [
    {
     "name": "stdout",
     "output_type": "stream",
     "text": [
      "établissement_postal\n",
      "ALGER COLIS POSTAUX    1445569\n",
      "ALGER GARE             1308844\n",
      "TCHÈQUE, RÉPUBLIQUE     737899\n",
      "ÉMIRATS ARABES UNIS     483780\n",
      "MALAISIE                362529\n",
      "                        ...   \n",
      "ALGÉRIE                      1\n",
      "EL-AZLA                      1\n",
      "KOLEA HAY BILLEL             1\n",
      "CHLEF REBUT                  1\n",
      "SÉNÉGAL                      1\n",
      "Name: count, Length: 3670, dtype: int64\n"
     ]
    }
   ],
   "source": [
    "\n",
    "# Count the occurrences of each protocol\n",
    "proto_counts = df['établissement_postal'].value_counts()\n",
    "\n",
    "print(proto_counts)\n"
   ]
  },
  {
   "cell_type": "code",
   "execution_count": 17,
   "id": "8e84c609",
   "metadata": {},
   "outputs": [
    {
     "name": "stdout",
     "output_type": "stream",
     "text": [
      "next_établissement_postal\n",
      "ALGÉRIE                      1165369\n",
      "ALGER GARE                    422850\n",
      "CONSTANTINE COLIS POSTAUX     175879\n",
      "ORAN COLIS POSTAUX            175422\n",
      "ANNABA EL MARSA               122806\n",
      "                              ...   \n",
      "AIN-ISDIEL                         1\n",
      "OUM-EL-BOUAGHI-EPI-1               1\n",
      "BICHER                             1\n",
      "EL-KHARROUB                        1\n",
      "HASSI-LABIADH                      1\n",
      "Name: count, Length: 3541, dtype: int64\n"
     ]
    }
   ],
   "source": [
    "# Count the occurrences of each protocol\n",
    "proto_counts = df['next_établissement_postal'].value_counts()\n",
    "\n",
    "print(proto_counts)\n",
    "\n"
   ]
  },
  {
   "cell_type": "code",
   "execution_count": 18,
   "id": "a8ff1ba4",
   "metadata": {},
   "outputs": [
    {
     "name": "stdout",
     "output_type": "stream",
     "text": [
      "id\n",
      "CZ    5391597\n",
      "AE    2987896\n",
      "NL    2295054\n",
      "MY    1420865\n",
      "US      56296\n",
      "       ...   \n",
      "AZ          8\n",
      "HR          8\n",
      "LT          6\n",
      "ME          5\n",
      "TJ          3\n",
      "Name: count, Length: 74, dtype: int64\n"
     ]
    }
   ],
   "source": [
    "\n",
    "# Count the occurrences of each protocol\n",
    "proto_counts = df['id'].value_counts()\n",
    "\n",
    "print(proto_counts)\n",
    "\n",
    "s = proto_counts\n"
   ]
  },
  {
   "cell_type": "code",
   "execution_count": 19,
   "id": "bc7a80e2",
   "metadata": {},
   "outputs": [
    {
     "name": "stdout",
     "output_type": "stream",
     "text": [
      "id\n",
      "TCHÈQUE, RÉPUBLIQUE    5391597\n",
      "ÉMIRATS ARABES UNIS    2987896\n",
      "PAYS-BAS               2295054\n",
      "MALAISIE               1420865\n",
      "ÉTATS-UNIS               56296\n",
      "                        ...   \n",
      "AZERBAÏDJAN                  8\n",
      "CROATIE                      8\n",
      "LITUANIE                     6\n",
      "ME                           5\n",
      "TADJIKISTAN                  3\n",
      "Name: count, Length: 74, dtype: int64\n"
     ]
    }
   ],
   "source": [
    "# Map the Series index using the country_dict\n",
    "s.index = s.index.map(lambda code: country_dict.get(code, code))  # Keep unmapped codes as-is\n",
    "print(s)"
   ]
  },
  {
   "cell_type": "code",
   "execution_count": 20,
   "id": "ccd08de2",
   "metadata": {},
   "outputs": [
    {
     "name": "stdout",
     "output_type": "stream",
     "text": [
      "Min date: 2018-11-15 10:24:59.583\n",
      "Max date: 2025-05-21 16:13:21.467\n"
     ]
    }
   ],
   "source": [
    "print(\"Min date:\", df[\"date\"].min())\n",
    "print(\"Max date:\", df[\"date\"].max())"
   ]
  },
  {
   "cell_type": "code",
   "execution_count": 21,
   "id": "6acf2a8f",
   "metadata": {},
   "outputs": [
    {
     "name": "stderr",
     "output_type": "stream",
     "text": [
      "C:\\Users\\oussa\\AppData\\Local\\Temp\\ipykernel_14324\\579475394.py:2: UserWarning: The argument 'infer_datetime_format' is deprecated and will be removed in a future version. A strict version of it is now the default, see https://pandas.pydata.org/pdeps/0004-consistent-to-datetime-parsing.html. You can safely remove this argument.\n",
      "  df[\"date\"] = pd.to_datetime(df[\"date\"], infer_datetime_format=True)\n"
     ]
    }
   ],
   "source": [
    "df[\"date\"] = df[\"date\"].str.replace(r'\\.\\d+$', '', regex=True)\n",
    "df[\"date\"] = pd.to_datetime(df[\"date\"], infer_datetime_format=True)"
   ]
  },
  {
   "cell_type": "code",
   "execution_count": 22,
   "id": "9a6d3a40",
   "metadata": {},
   "outputs": [],
   "source": [
    "df = df.sort_values(by=[\"MAILITM_FID\", \"date\"])\n",
    "\n",
    "# Calculate time to next step\n",
    "df[\"duration_to_next_step\"] = df.groupby(\"MAILITM_FID\")[\"date\"].shift(-1) - df[\"date\"]\n",
    "\n",
    "# Calculate total duration per ID\n",
    "first_date = df.groupby(\"MAILITM_FID\")[\"date\"].transform(\"first\")\n",
    "last_date = df.groupby(\"MAILITM_FID\")[\"date\"].transform(\"last\")\n",
    "df[\"total_duration\"] = last_date - first_date\n",
    "\n",
    "\n"
   ]
  },
  {
   "cell_type": "code",
   "execution_count": 23,
   "id": "0d6f26da",
   "metadata": {},
   "outputs": [
    {
     "data": {
      "application/vnd.microsoft.datawrangler.viewer.v0+json": {
       "columns": [
        {
         "name": "index",
         "rawType": "int64",
         "type": "integer"
        },
        {
         "name": "MAILITM_FID",
         "rawType": "object",
         "type": "string"
        },
        {
         "name": "date",
         "rawType": "datetime64[ns]",
         "type": "datetime"
        },
        {
         "name": "EVENT_TYPE_NM",
         "rawType": "object",
         "type": "string"
        },
        {
         "name": "duration_to_next_step",
         "rawType": "timedelta64[ns]",
         "type": "unknown"
        },
        {
         "name": "total_duration",
         "rawType": "timedelta64[ns]",
         "type": "unknown"
        }
       ],
       "ref": "e2d9e750-c934-43d4-be93-1dac904194f6",
       "rows": [
        [
         "2940489",
         "CB167614873US",
         "2024-07-16 08:15:00",
         "Expédition d'envoi à l'étranger (EDI-reçu)",
         "14 days 00:41:23",
         "25 days 06:31:49"
        ],
        [
         "12195509",
         "CB167614873US",
         "2024-07-30 08:56:23",
         "Recevoir envoi au bureau d'échange (Ent)",
         "0 days 02:25:21",
         "25 days 06:31:49"
        ],
        [
         "12195510",
         "CB167614873US",
         "2024-07-30 11:21:44",
         "Expédier envoi à adresse nationale (Ent)",
         "0 days 00:17:49",
         "25 days 06:31:49"
        ],
        [
         "12195511",
         "CB167614873US",
         "2024-07-30 11:39:33",
         "Expédier envoi à adresse nationale (Ent)",
         "3 days 23:17:01",
         "25 days 06:31:49"
        ],
        [
         "12195512",
         "CB167614873US",
         "2024-08-03 10:56:34",
         "Recevoir envoi au bureau de livraison (Ent)",
         "0 days 00:02:05",
         "25 days 06:31:49"
        ],
        [
         "12195513",
         "CB167614873US",
         "2024-08-03 10:58:39",
         "Enregistrer détails d'envoi au bureau d'échange (Srt)",
         "0 days 00:09:19",
         "25 days 06:31:49"
        ],
        [
         "12195514",
         "CB167614873US",
         "2024-08-03 11:07:58",
         "Expédier envoi à adresse nationale (Srt)",
         "0 days 21:26:13",
         "25 days 06:31:49"
        ],
        [
         "12195515",
         "CB167614873US",
         "2024-08-04 08:34:11",
         "Recevoir envoi au bureau de livraison (Ent)",
         "0 days 00:03:11",
         "25 days 06:31:49"
        ],
        [
         "12195516",
         "CB167614873US",
         "2024-08-04 08:37:22",
         "Expédier envoi à adresse nationale (Srt)",
         "1 days 01:01:25",
         "25 days 06:31:49"
        ],
        [
         "12195517",
         "CB167614873US",
         "2024-08-05 09:38:47",
         "Recevoir envoi au bureau de livraison (Ent)",
         "0 days 00:08:51",
         "25 days 06:31:49"
        ]
       ],
       "shape": {
        "columns": 5,
        "rows": 10
       }
      },
      "text/html": [
       "<div>\n",
       "<style scoped>\n",
       "    .dataframe tbody tr th:only-of-type {\n",
       "        vertical-align: middle;\n",
       "    }\n",
       "\n",
       "    .dataframe tbody tr th {\n",
       "        vertical-align: top;\n",
       "    }\n",
       "\n",
       "    .dataframe thead th {\n",
       "        text-align: right;\n",
       "    }\n",
       "</style>\n",
       "<table border=\"1\" class=\"dataframe\">\n",
       "  <thead>\n",
       "    <tr style=\"text-align: right;\">\n",
       "      <th></th>\n",
       "      <th>MAILITM_FID</th>\n",
       "      <th>date</th>\n",
       "      <th>EVENT_TYPE_NM</th>\n",
       "      <th>duration_to_next_step</th>\n",
       "      <th>total_duration</th>\n",
       "    </tr>\n",
       "  </thead>\n",
       "  <tbody>\n",
       "    <tr>\n",
       "      <th>2940489</th>\n",
       "      <td>CB167614873US</td>\n",
       "      <td>2024-07-16 08:15:00</td>\n",
       "      <td>Expédition d'envoi à l'étranger (EDI-reçu)</td>\n",
       "      <td>14 days 00:41:23</td>\n",
       "      <td>25 days 06:31:49</td>\n",
       "    </tr>\n",
       "    <tr>\n",
       "      <th>12195509</th>\n",
       "      <td>CB167614873US</td>\n",
       "      <td>2024-07-30 08:56:23</td>\n",
       "      <td>Recevoir envoi au bureau d'échange (Ent)</td>\n",
       "      <td>0 days 02:25:21</td>\n",
       "      <td>25 days 06:31:49</td>\n",
       "    </tr>\n",
       "    <tr>\n",
       "      <th>12195510</th>\n",
       "      <td>CB167614873US</td>\n",
       "      <td>2024-07-30 11:21:44</td>\n",
       "      <td>Expédier envoi à adresse nationale (Ent)</td>\n",
       "      <td>0 days 00:17:49</td>\n",
       "      <td>25 days 06:31:49</td>\n",
       "    </tr>\n",
       "    <tr>\n",
       "      <th>12195511</th>\n",
       "      <td>CB167614873US</td>\n",
       "      <td>2024-07-30 11:39:33</td>\n",
       "      <td>Expédier envoi à adresse nationale (Ent)</td>\n",
       "      <td>3 days 23:17:01</td>\n",
       "      <td>25 days 06:31:49</td>\n",
       "    </tr>\n",
       "    <tr>\n",
       "      <th>12195512</th>\n",
       "      <td>CB167614873US</td>\n",
       "      <td>2024-08-03 10:56:34</td>\n",
       "      <td>Recevoir envoi au bureau de livraison (Ent)</td>\n",
       "      <td>0 days 00:02:05</td>\n",
       "      <td>25 days 06:31:49</td>\n",
       "    </tr>\n",
       "    <tr>\n",
       "      <th>12195513</th>\n",
       "      <td>CB167614873US</td>\n",
       "      <td>2024-08-03 10:58:39</td>\n",
       "      <td>Enregistrer détails d'envoi au bureau d'échang...</td>\n",
       "      <td>0 days 00:09:19</td>\n",
       "      <td>25 days 06:31:49</td>\n",
       "    </tr>\n",
       "    <tr>\n",
       "      <th>12195514</th>\n",
       "      <td>CB167614873US</td>\n",
       "      <td>2024-08-03 11:07:58</td>\n",
       "      <td>Expédier envoi à adresse nationale (Srt)</td>\n",
       "      <td>0 days 21:26:13</td>\n",
       "      <td>25 days 06:31:49</td>\n",
       "    </tr>\n",
       "    <tr>\n",
       "      <th>12195515</th>\n",
       "      <td>CB167614873US</td>\n",
       "      <td>2024-08-04 08:34:11</td>\n",
       "      <td>Recevoir envoi au bureau de livraison (Ent)</td>\n",
       "      <td>0 days 00:03:11</td>\n",
       "      <td>25 days 06:31:49</td>\n",
       "    </tr>\n",
       "    <tr>\n",
       "      <th>12195516</th>\n",
       "      <td>CB167614873US</td>\n",
       "      <td>2024-08-04 08:37:22</td>\n",
       "      <td>Expédier envoi à adresse nationale (Srt)</td>\n",
       "      <td>1 days 01:01:25</td>\n",
       "      <td>25 days 06:31:49</td>\n",
       "    </tr>\n",
       "    <tr>\n",
       "      <th>12195517</th>\n",
       "      <td>CB167614873US</td>\n",
       "      <td>2024-08-05 09:38:47</td>\n",
       "      <td>Recevoir envoi au bureau de livraison (Ent)</td>\n",
       "      <td>0 days 00:08:51</td>\n",
       "      <td>25 days 06:31:49</td>\n",
       "    </tr>\n",
       "  </tbody>\n",
       "</table>\n",
       "</div>"
      ],
      "text/plain": [
       "            MAILITM_FID                date  \\\n",
       "2940489   CB167614873US 2024-07-16 08:15:00   \n",
       "12195509  CB167614873US 2024-07-30 08:56:23   \n",
       "12195510  CB167614873US 2024-07-30 11:21:44   \n",
       "12195511  CB167614873US 2024-07-30 11:39:33   \n",
       "12195512  CB167614873US 2024-08-03 10:56:34   \n",
       "12195513  CB167614873US 2024-08-03 10:58:39   \n",
       "12195514  CB167614873US 2024-08-03 11:07:58   \n",
       "12195515  CB167614873US 2024-08-04 08:34:11   \n",
       "12195516  CB167614873US 2024-08-04 08:37:22   \n",
       "12195517  CB167614873US 2024-08-05 09:38:47   \n",
       "\n",
       "                                              EVENT_TYPE_NM  \\\n",
       "2940489          Expédition d'envoi à l'étranger (EDI-reçu)   \n",
       "12195509           Recevoir envoi au bureau d'échange (Ent)   \n",
       "12195510           Expédier envoi à adresse nationale (Ent)   \n",
       "12195511           Expédier envoi à adresse nationale (Ent)   \n",
       "12195512        Recevoir envoi au bureau de livraison (Ent)   \n",
       "12195513  Enregistrer détails d'envoi au bureau d'échang...   \n",
       "12195514           Expédier envoi à adresse nationale (Srt)   \n",
       "12195515        Recevoir envoi au bureau de livraison (Ent)   \n",
       "12195516           Expédier envoi à adresse nationale (Srt)   \n",
       "12195517        Recevoir envoi au bureau de livraison (Ent)   \n",
       "\n",
       "         duration_to_next_step   total_duration  \n",
       "2940489       14 days 00:41:23 25 days 06:31:49  \n",
       "12195509       0 days 02:25:21 25 days 06:31:49  \n",
       "12195510       0 days 00:17:49 25 days 06:31:49  \n",
       "12195511       3 days 23:17:01 25 days 06:31:49  \n",
       "12195512       0 days 00:02:05 25 days 06:31:49  \n",
       "12195513       0 days 00:09:19 25 days 06:31:49  \n",
       "12195514       0 days 21:26:13 25 days 06:31:49  \n",
       "12195515       0 days 00:03:11 25 days 06:31:49  \n",
       "12195516       1 days 01:01:25 25 days 06:31:49  \n",
       "12195517       0 days 00:08:51 25 days 06:31:49  "
      ]
     },
     "execution_count": 23,
     "metadata": {},
     "output_type": "execute_result"
    }
   ],
   "source": [
    "# Preview the updated dataset\n",
    "df[[\"MAILITM_FID\", \"date\", \"EVENT_TYPE_NM\", \"duration_to_next_step\", \"total_duration\"]].head(10)"
   ]
  },
  {
   "cell_type": "code",
   "execution_count": 26,
   "id": "8c2892dc",
   "metadata": {},
   "outputs": [
    {
     "data": {
      "text/plain": [
       "(0, 9)"
      ]
     },
     "execution_count": 26,
     "metadata": {},
     "output_type": "execute_result"
    }
   ],
   "source": [
    "# Filter rows where total_duration is NOT zero\n",
    "zero_duration_df = df[df[\"total_duration\"] <= pd.Timedelta(days = 1)]\n",
    "\n",
    "# Display the first few rows as a check\n",
    "zero_duration_df.shape\n"
   ]
  },
  {
   "cell_type": "code",
   "execution_count": 38,
   "id": "df1b35b9",
   "metadata": {},
   "outputs": [
    {
     "name": "stdout",
     "output_type": "stream",
     "text": [
      "Series([], Name: count, dtype: int64)\n"
     ]
    }
   ],
   "source": [
    "\n",
    "# Count the occurrences of each protocol\n",
    "countries = zero_duration_df['id'].value_counts()\n",
    "\n",
    "print(countries)\n"
   ]
  },
  {
   "cell_type": "code",
   "execution_count": 39,
   "id": "e851fa13",
   "metadata": {},
   "outputs": [
    {
     "name": "stdout",
     "output_type": "stream",
     "text": [
      "Series([], Name: count, dtype: int64)\n"
     ]
    }
   ],
   "source": [
    "# Map the Series index using the country_dict\n",
    "countries.index = countries.index.map(lambda code: country_dict.get(code, code))  \n",
    "print(countries)"
   ]
  },
  {
   "cell_type": "code",
   "execution_count": 40,
   "id": "8a647bfb",
   "metadata": {},
   "outputs": [
    {
     "name": "stdout",
     "output_type": "stream",
     "text": [
      "Series([], Name: count, dtype: int64)\n"
     ]
    }
   ],
   "source": [
    "# Step 1: Count how many times each ID appears\n",
    "id_counts = zero_duration_df[\"MAILITM_FID\"].value_counts()\n",
    "\n",
    "# Step 2: Count how many IDs have a specific count\n",
    "count_of_counts = id_counts.value_counts().sort_index()\n",
    "\n",
    "print(count_of_counts)\n"
   ]
  },
  {
   "cell_type": "code",
   "execution_count": 41,
   "id": "b2afa544",
   "metadata": {},
   "outputs": [
    {
     "data": {
      "application/vnd.microsoft.datawrangler.viewer.v0+json": {
       "columns": [
        {
         "name": "index",
         "rawType": "int64",
         "type": "integer"
        },
        {
         "name": "MAILITM_FID",
         "rawType": "object",
         "type": "string"
        },
        {
         "name": "EVENT_TYPE_NM",
         "rawType": "object",
         "type": "string"
        },
        {
         "name": "date",
         "rawType": "datetime64[ns]",
         "type": "datetime"
        },
        {
         "name": "établissement_postal",
         "rawType": "object",
         "type": "string"
        },
        {
         "name": "EVENT_TYPE_CD",
         "rawType": "int64",
         "type": "integer"
        },
        {
         "name": "next_établissement_postal",
         "rawType": "object",
         "type": "string"
        },
        {
         "name": "id",
         "rawType": "object",
         "type": "string"
        },
        {
         "name": "duration_to_next_step",
         "rawType": "timedelta64[ns]",
         "type": "unknown"
        },
        {
         "name": "total_duration",
         "rawType": "timedelta64[ns]",
         "type": "unknown"
        }
       ],
       "ref": "0ed1c4ca-97d5-46fc-8df9-781c8e011d60",
       "rows": [],
       "shape": {
        "columns": 9,
        "rows": 0
       }
      },
      "text/html": [
       "<div>\n",
       "<style scoped>\n",
       "    .dataframe tbody tr th:only-of-type {\n",
       "        vertical-align: middle;\n",
       "    }\n",
       "\n",
       "    .dataframe tbody tr th {\n",
       "        vertical-align: top;\n",
       "    }\n",
       "\n",
       "    .dataframe thead th {\n",
       "        text-align: right;\n",
       "    }\n",
       "</style>\n",
       "<table border=\"1\" class=\"dataframe\">\n",
       "  <thead>\n",
       "    <tr style=\"text-align: right;\">\n",
       "      <th></th>\n",
       "      <th>MAILITM_FID</th>\n",
       "      <th>EVENT_TYPE_NM</th>\n",
       "      <th>date</th>\n",
       "      <th>établissement_postal</th>\n",
       "      <th>EVENT_TYPE_CD</th>\n",
       "      <th>next_établissement_postal</th>\n",
       "      <th>id</th>\n",
       "      <th>duration_to_next_step</th>\n",
       "      <th>total_duration</th>\n",
       "    </tr>\n",
       "  </thead>\n",
       "  <tbody>\n",
       "  </tbody>\n",
       "</table>\n",
       "</div>"
      ],
      "text/plain": [
       "Empty DataFrame\n",
       "Columns: [MAILITM_FID, EVENT_TYPE_NM, date, établissement_postal, EVENT_TYPE_CD, next_établissement_postal, id, duration_to_next_step, total_duration]\n",
       "Index: []"
      ]
     },
     "execution_count": 41,
     "metadata": {},
     "output_type": "execute_result"
    }
   ],
   "source": [
    "ids_with_0 = id_counts[id_counts == 2].index\n",
    "df_with_0 = df[df[\"MAILITM_FID\"].isin(ids_with_0)]\n",
    "df_with_0.head()"
   ]
  },
  {
   "cell_type": "code",
   "execution_count": 42,
   "id": "3de28be6",
   "metadata": {},
   "outputs": [
    {
     "name": "stdout",
     "output_type": "stream",
     "text": [
      "Series([], Name: count, dtype: int64)\n"
     ]
    }
   ],
   "source": [
    "\n",
    "# Count the occurrences of each protocol\n",
    "event_type = df_with_0['EVENT_TYPE_NM'].value_counts()\n",
    "\n",
    "print(event_type)\n",
    "\n"
   ]
  },
  {
   "cell_type": "code",
   "execution_count": 27,
   "id": "c0b7faf2",
   "metadata": {},
   "outputs": [
    {
     "name": "stdout",
     "output_type": "stream",
     "text": [
      "(12257386, 9)\n"
     ]
    }
   ],
   "source": [
    "# Drop rows where total_duration is zero\n",
    "df = df[df[\"total_duration\"] != pd.Timedelta(0)]\n",
    "\n",
    "# Check the shape after dropping\n",
    "print(df.shape)\n"
   ]
  },
  {
   "cell_type": "code",
   "execution_count": 28,
   "id": "e5215d31",
   "metadata": {},
   "outputs": [],
   "source": [
    "df.to_csv(file_name, index=False, encoding='utf-8-sig')"
   ]
  },
  {
   "cell_type": "code",
   "execution_count": null,
   "id": "93ae86aa",
   "metadata": {},
   "outputs": [],
   "source": []
  }
 ],
 "metadata": {
  "kernelspec": {
   "display_name": "Python 3",
   "language": "python",
   "name": "python3"
  },
  "language_info": {
   "codemirror_mode": {
    "name": "ipython",
    "version": 3
   },
   "file_extension": ".py",
   "mimetype": "text/x-python",
   "name": "python",
   "nbconvert_exporter": "python",
   "pygments_lexer": "ipython3",
   "version": "3.10.9"
  }
 },
 "nbformat": 4,
 "nbformat_minor": 5
}
