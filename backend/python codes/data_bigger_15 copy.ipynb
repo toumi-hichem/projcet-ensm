{
 "cells": [
  {
   "cell_type": "code",
   "execution_count": 1,
   "id": "62b5f2c1",
   "metadata": {},
   "outputs": [],
   "source": [
    "import pandas as pd\n",
    "import numpy as np\n",
    "import matplotlib.pyplot as plt\n",
    "import seaborn as sns\n",
    "%matplotlib inline"
   ]
  },
  {
   "cell_type": "code",
   "execution_count": 2,
   "id": "76e9fd2e",
   "metadata": {},
   "outputs": [
    {
     "name": "stdout",
     "output_type": "stream",
     "text": [
      "→ reading df_count_1.csv\n",
      "→ reading df_count_2_part1.csv\n",
      "→ reading df_count_2_part2.csv\n",
      "→ reading df_count_3_part1.csv\n",
      "→ reading df_count_3_part2.csv\n",
      "→ reading df_count_4.csv\n",
      "✓ All files processed\n",
      "Result saved to: C:\\Users\\oussa\\Desktop\\alg_poste_stage\\combined_ge15days_official.csv\n"
     ]
    }
   ],
   "source": [
    "import pandas as pd\n",
    "from pathlib import Path\n",
    "import gc            # optional: force garbage-collection between files\n",
    "\n",
    "# ── CONFIGURE THESE ──────────────────────────────────────────────\n",
    "FILES = [\n",
    "    \"df_count_1.csv\", \n",
    "    \"df_count_2_part1.csv\", \n",
    "    \"df_count_2_part2.csv\", \n",
    "    \"df_count_3_part1.csv\", \n",
    "    \"df_count_3_part2.csv\", \n",
    "    \"df_count_4.csv\"\n",
    "]  # List of new chunk files\n",
    "OUT_FILE = Path(\"combined_ge15days_official.csv\")  # final result\n",
    "DUR_COL  = \"total_duration\"  # column to filter\n",
    "THRESHOLD = pd.Timedelta(days=15)  # keep rows ≥ 15 days\n",
    "# ─────────────────────────────────────────────────────────────────\n",
    "\n",
    "# Start fresh (delete old result if it exists)\n",
    "OUT_FILE.unlink(missing_ok=True)\n",
    "\n",
    "for src in FILES:\n",
    "    print(f\"→ reading {src}\")\n",
    "\n",
    "    # 1) Read the whole file (or stream in chunks if the CSVs are huge)\n",
    "    df = pd.read_csv(src)\n",
    "\n",
    "    # 2) Convert duration column to Timedelta\n",
    "    df[DUR_COL] = pd.to_timedelta(df[DUR_COL], errors=\"coerce\")\n",
    "\n",
    "    # 3) Filter the rows where total_duration >= 15 days\n",
    "    df = df[df[DUR_COL] >= THRESHOLD]\n",
    "\n",
    "    # 4) Append to the output CSV, write header only the first time\n",
    "    df.to_csv(\n",
    "        OUT_FILE,\n",
    "        mode=\"a\",\n",
    "        header=not OUT_FILE.exists(),  # Write header if file was just created\n",
    "        index=False\n",
    "    )\n",
    "\n",
    "    # 5) Drop references to free memory before next loop\n",
    "    del df\n",
    "    gc.collect()\n",
    "\n",
    "print(\"✓ All files processed\")\n",
    "print(f\"Result saved to: {OUT_FILE.resolve()}\")\n"
   ]
  },
  {
   "cell_type": "code",
   "execution_count": 3,
   "id": "3d88edd1",
   "metadata": {},
   "outputs": [],
   "source": [
    "df = pd.read_csv(\"combined_ge15days_official.csv\", parse_dates=[\"date\"])"
   ]
  },
  {
   "cell_type": "code",
   "execution_count": 3,
   "id": "bd3e2790",
   "metadata": {},
   "outputs": [
    {
     "data": {
      "application/vnd.microsoft.datawrangler.viewer.v0+json": {
       "columns": [
        {
         "name": "index",
         "rawType": "int64",
         "type": "integer"
        },
        {
         "name": "MAILITM_FID",
         "rawType": "object",
         "type": "string"
        },
        {
         "name": "EVENT_TYPE_NM",
         "rawType": "object",
         "type": "string"
        },
        {
         "name": "date",
         "rawType": "datetime64[ns]",
         "type": "datetime"
        },
        {
         "name": "établissement_postal",
         "rawType": "object",
         "type": "string"
        },
        {
         "name": "EVENT_TYPE_CD",
         "rawType": "int64",
         "type": "integer"
        },
        {
         "name": "next_établissement_postal",
         "rawType": "object",
         "type": "unknown"
        },
        {
         "name": "id",
         "rawType": "object",
         "type": "string"
        },
        {
         "name": "duration_to_next_step",
         "rawType": "object",
         "type": "string"
        },
        {
         "name": "total_duration",
         "rawType": "object",
         "type": "string"
        }
       ],
       "ref": "84dbe078-d926-4e26-8939-daa7045c7b6a",
       "rows": [
        [
         "0",
         "CA000422162US",
         "Réception d'envoi du client (Srt)",
         "2025-02-03 15:10:00",
         "ÉTATS-UNIS",
         "1",
         null,
         "US",
         "12 days 17:45:47",
         "28 days 18:51:38"
        ],
        [
         "1",
         "CA000422162US",
         "Recevoir envoi au bureau d'échange (Ent)",
         "2025-02-16 08:55:47",
         "ALGER COLIS POSTAUX",
         "30",
         null,
         "US",
         "0 days 01:29:54",
         "28 days 18:51:38"
        ],
        [
         "2",
         "CA000422162US",
         "Expédier envoi à adresse nationale (Ent)",
         "2025-02-16 10:25:41",
         "ALGER COLIS POSTAUX",
         "35",
         "ANNABA EL MARSA",
         "US",
         "0 days 00:00:47",
         "28 days 18:51:38"
        ],
        [
         "3",
         "CA000422162US",
         "Expédier envoi à adresse nationale (Ent)",
         "2025-02-16 10:26:28",
         "ALGER COLIS POSTAUX",
         "35",
         "AVION CPX ALGER",
         "US",
         "1 days 00:24:37",
         "28 days 18:51:38"
        ],
        [
         "4",
         "CA000422162US",
         "Expédier envoi à adresse nationale (Ent)",
         "2025-02-17 10:51:05",
         "ALGER COLIS POSTAUX",
         "35",
         "CTR BECHAR",
         "US",
         "10 days 03:03:13",
         "28 days 18:51:38"
        ]
       ],
       "shape": {
        "columns": 9,
        "rows": 5
       }
      },
      "text/html": [
       "<div>\n",
       "<style scoped>\n",
       "    .dataframe tbody tr th:only-of-type {\n",
       "        vertical-align: middle;\n",
       "    }\n",
       "\n",
       "    .dataframe tbody tr th {\n",
       "        vertical-align: top;\n",
       "    }\n",
       "\n",
       "    .dataframe thead th {\n",
       "        text-align: right;\n",
       "    }\n",
       "</style>\n",
       "<table border=\"1\" class=\"dataframe\">\n",
       "  <thead>\n",
       "    <tr style=\"text-align: right;\">\n",
       "      <th></th>\n",
       "      <th>MAILITM_FID</th>\n",
       "      <th>EVENT_TYPE_NM</th>\n",
       "      <th>date</th>\n",
       "      <th>établissement_postal</th>\n",
       "      <th>EVENT_TYPE_CD</th>\n",
       "      <th>next_établissement_postal</th>\n",
       "      <th>id</th>\n",
       "      <th>duration_to_next_step</th>\n",
       "      <th>total_duration</th>\n",
       "    </tr>\n",
       "  </thead>\n",
       "  <tbody>\n",
       "    <tr>\n",
       "      <th>0</th>\n",
       "      <td>CA000422162US</td>\n",
       "      <td>Réception d'envoi du client (Srt)</td>\n",
       "      <td>2025-02-03 15:10:00</td>\n",
       "      <td>ÉTATS-UNIS</td>\n",
       "      <td>1</td>\n",
       "      <td>NaN</td>\n",
       "      <td>US</td>\n",
       "      <td>12 days 17:45:47</td>\n",
       "      <td>28 days 18:51:38</td>\n",
       "    </tr>\n",
       "    <tr>\n",
       "      <th>1</th>\n",
       "      <td>CA000422162US</td>\n",
       "      <td>Recevoir envoi au bureau d'échange (Ent)</td>\n",
       "      <td>2025-02-16 08:55:47</td>\n",
       "      <td>ALGER COLIS POSTAUX</td>\n",
       "      <td>30</td>\n",
       "      <td>NaN</td>\n",
       "      <td>US</td>\n",
       "      <td>0 days 01:29:54</td>\n",
       "      <td>28 days 18:51:38</td>\n",
       "    </tr>\n",
       "    <tr>\n",
       "      <th>2</th>\n",
       "      <td>CA000422162US</td>\n",
       "      <td>Expédier envoi à adresse nationale (Ent)</td>\n",
       "      <td>2025-02-16 10:25:41</td>\n",
       "      <td>ALGER COLIS POSTAUX</td>\n",
       "      <td>35</td>\n",
       "      <td>ANNABA EL MARSA</td>\n",
       "      <td>US</td>\n",
       "      <td>0 days 00:00:47</td>\n",
       "      <td>28 days 18:51:38</td>\n",
       "    </tr>\n",
       "    <tr>\n",
       "      <th>3</th>\n",
       "      <td>CA000422162US</td>\n",
       "      <td>Expédier envoi à adresse nationale (Ent)</td>\n",
       "      <td>2025-02-16 10:26:28</td>\n",
       "      <td>ALGER COLIS POSTAUX</td>\n",
       "      <td>35</td>\n",
       "      <td>AVION CPX ALGER</td>\n",
       "      <td>US</td>\n",
       "      <td>1 days 00:24:37</td>\n",
       "      <td>28 days 18:51:38</td>\n",
       "    </tr>\n",
       "    <tr>\n",
       "      <th>4</th>\n",
       "      <td>CA000422162US</td>\n",
       "      <td>Expédier envoi à adresse nationale (Ent)</td>\n",
       "      <td>2025-02-17 10:51:05</td>\n",
       "      <td>ALGER COLIS POSTAUX</td>\n",
       "      <td>35</td>\n",
       "      <td>CTR BECHAR</td>\n",
       "      <td>US</td>\n",
       "      <td>10 days 03:03:13</td>\n",
       "      <td>28 days 18:51:38</td>\n",
       "    </tr>\n",
       "  </tbody>\n",
       "</table>\n",
       "</div>"
      ],
      "text/plain": [
       "     MAILITM_FID                             EVENT_TYPE_NM  \\\n",
       "0  CA000422162US         Réception d'envoi du client (Srt)   \n",
       "1  CA000422162US  Recevoir envoi au bureau d'échange (Ent)   \n",
       "2  CA000422162US  Expédier envoi à adresse nationale (Ent)   \n",
       "3  CA000422162US  Expédier envoi à adresse nationale (Ent)   \n",
       "4  CA000422162US  Expédier envoi à adresse nationale (Ent)   \n",
       "\n",
       "                 date établissement_postal  EVENT_TYPE_CD  \\\n",
       "0 2025-02-03 15:10:00           ÉTATS-UNIS              1   \n",
       "1 2025-02-16 08:55:47  ALGER COLIS POSTAUX             30   \n",
       "2 2025-02-16 10:25:41  ALGER COLIS POSTAUX             35   \n",
       "3 2025-02-16 10:26:28  ALGER COLIS POSTAUX             35   \n",
       "4 2025-02-17 10:51:05  ALGER COLIS POSTAUX             35   \n",
       "\n",
       "  next_établissement_postal  id duration_to_next_step    total_duration  \n",
       "0                       NaN  US      12 days 17:45:47  28 days 18:51:38  \n",
       "1                       NaN  US       0 days 01:29:54  28 days 18:51:38  \n",
       "2           ANNABA EL MARSA  US       0 days 00:00:47  28 days 18:51:38  \n",
       "3           AVION CPX ALGER  US       1 days 00:24:37  28 days 18:51:38  \n",
       "4                CTR BECHAR  US      10 days 03:03:13  28 days 18:51:38  "
      ]
     },
     "execution_count": 3,
     "metadata": {},
     "output_type": "execute_result"
    }
   ],
   "source": [
    "df.head()"
   ]
  },
  {
   "cell_type": "code",
   "execution_count": 4,
   "id": "2670de8d",
   "metadata": {},
   "outputs": [
    {
     "data": {
      "text/plain": [
       "(34611297, 9)"
      ]
     },
     "execution_count": 4,
     "metadata": {},
     "output_type": "execute_result"
    }
   ],
   "source": [
    "df.shape"
   ]
  },
  {
   "cell_type": "code",
   "execution_count": 5,
   "id": "d8cc969b",
   "metadata": {},
   "outputs": [
    {
     "name": "stdout",
     "output_type": "stream",
     "text": [
      "EVENT_TYPE_NM                      26\n",
      "EVENT_TYPE_CD                      26\n",
      "id                                143\n",
      "next_établissement_postal        3796\n",
      "établissement_postal             3970\n",
      "total_duration                1778999\n",
      "duration_to_next_step         1928513\n",
      "MAILITM_FID                   3048080\n",
      "date                         15695109\n",
      "dtype: int64\n"
     ]
    }
   ],
   "source": [
    "distinct_values_count = df.nunique()\n",
    "\n",
    "distinct_values_count = distinct_values_count.sort_values(ascending=True)\n",
    "\n",
    "print(distinct_values_count)"
   ]
  },
  {
   "cell_type": "code",
   "execution_count": 6,
   "id": "6d6439d1",
   "metadata": {},
   "outputs": [
    {
     "name": "stdout",
     "output_type": "stream",
     "text": [
      "EVENT_TYPE_NM\n",
      "Recevoir envoi au bureau de livraison (Ent)                    6703810\n",
      "Expédier envoi à adresse nationale (Ent)                       4977810\n",
      "Expédier envoi à adresse nationale (Srt)                       4574729\n",
      "Recevoir envoi au bureau d'échange (Ent)                       3171717\n",
      "Insérer envoi dans sac (Srt)                                   2885480\n",
      "Vaine tentative de livraison d'envoi (Ent)                     2879557\n",
      "Livraison d'envoi (Ent)                                        2728635\n",
      "Expédition d'envoi à l'étranger (EDI-reçu)                     2723907\n",
      "Transmettre envoi à l'agent de livraison (Ent)                 1752347\n",
      "Réception d'envoi du client (Srt)                              1741234\n",
      "Enregistrer détails d'envoi au bureau d'échange (Srt)           290829\n",
      "Recevoir envoi au bureau d'échange (Srt)                        100261\n",
      "Expédier envoi à la douane (Ent)                                 45737\n",
      "Renvoyer envoi de la douane (Ent)                                26502\n",
      "Renvoyer envoi de la douane (Srt)                                 3167\n",
      "Recevoir envoi au lieu (Ent)                                      1536\n",
      "Mettre à jour envoi (Ent)                                         1302\n",
      "Enregistrer raison de rétention d'envoi par la douane (Srt)       1116\n",
      "Enregistrer informations douanières d'envoi (Ent)                  948\n",
      "Supprimer envoi du sac (Srt)                                       506\n",
      "Expédier envoi à la douane (Srt)                                   122\n",
      "Recevoir envoi au lieu (Srt)                                        33\n",
      "Garder envoi au point de livraison (Ent)                             9\n",
      "Mettre à jour envoi (Srt)                                            1\n",
      "Expédier envoi pour livraison physique (Ent)                         1\n",
      "Garder envoi au bureau d'échange (Ent)                               1\n",
      "Name: count, dtype: int64\n"
     ]
    }
   ],
   "source": [
    "\n",
    "# Count the occurrences of each protocol\n",
    "event_type = df['EVENT_TYPE_NM'].value_counts()\n",
    "\n",
    "print(event_type)\n"
   ]
  },
  {
   "cell_type": "code",
   "execution_count": 7,
   "id": "dd452b4b",
   "metadata": {},
   "outputs": [
    {
     "name": "stdout",
     "output_type": "stream",
     "text": [
      "Min date: 2005-11-08 23:29:54\n",
      "Max date: 2025-05-21 16:13:21\n"
     ]
    }
   ],
   "source": [
    "print(\"Min date:\", df[\"date\"].min())\n",
    "print(\"Max date:\", df[\"date\"].max())"
   ]
  },
  {
   "cell_type": "code",
   "execution_count": 8,
   "id": "8c5bea2a",
   "metadata": {},
   "outputs": [
    {
     "data": {
      "text/plain": [
       "(3048080,)"
      ]
     },
     "execution_count": 8,
     "metadata": {},
     "output_type": "execute_result"
    }
   ],
   "source": [
    "durations = df.groupby(\"MAILITM_FID\")[\"total_duration\"].first()\n",
    "durations = pd.to_timedelta(durations, errors=\"coerce\")\n",
    "durations.shape"
   ]
  },
  {
   "cell_type": "code",
   "execution_count": 9,
   "id": "20c12c7e",
   "metadata": {},
   "outputs": [
    {
     "name": "stdout",
     "output_type": "stream",
     "text": [
      "packages btw 15 and 30 =  1928382\n"
     ]
    }
   ],
   "source": [
    "print(\"packages btw 15 and 30 = \" , (durations <= pd.Timedelta(days=30)).sum())"
   ]
  },
  {
   "cell_type": "code",
   "execution_count": 10,
   "id": "d10bc8b2",
   "metadata": {},
   "outputs": [
    {
     "name": "stdout",
     "output_type": "stream",
     "text": [
      "packages btw 30 and 45 =  588245\n"
     ]
    }
   ],
   "source": [
    "print(\"packages btw 30 and 45 = \" , -1*( (durations <= pd.Timedelta(days=30)).sum() - (durations <= pd.Timedelta(days=45)).sum()))"
   ]
  },
  {
   "cell_type": "code",
   "execution_count": 11,
   "id": "865d03e0",
   "metadata": {},
   "outputs": [
    {
     "name": "stdout",
     "output_type": "stream",
     "text": [
      "packages btw 45 and 60 =  237984\n"
     ]
    }
   ],
   "source": [
    "print(\"packages btw 45 and 60 = \" ,  -(durations <= pd.Timedelta(days=45)).sum() + (durations <= pd.Timedelta(days=60)).sum())"
   ]
  },
  {
   "cell_type": "code",
   "execution_count": 12,
   "id": "e8beb47d",
   "metadata": {},
   "outputs": [
    {
     "name": "stdout",
     "output_type": "stream",
     "text": [
      "packages btw 60 and 2000 =  293464\n"
     ]
    }
   ],
   "source": [
    "print(\"packages btw 60 and 2000 = \" ,  -(durations <= pd.Timedelta(days=60)).sum() + (durations <= pd.Timedelta(days=2000)).sum())"
   ]
  },
  {
   "cell_type": "code",
   "execution_count": null,
   "id": "8896972c",
   "metadata": {},
   "outputs": [
    {
     "name": "stdout",
     "output_type": "stream",
     "text": [
      "packages biggar 100 =  77694\n"
     ]
    }
   ],
   "source": [
    "print(\"packages bigger 100 = \" ,  (durations >= pd.Timedelta(days=100)).sum())"
   ]
  },
  {
   "cell_type": "code",
   "execution_count": 4,
   "id": "1d76c41d",
   "metadata": {},
   "outputs": [
    {
     "name": "stdout",
     "output_type": "stream",
     "text": [
      "Number of duplicate rows (ignoring specified columns): 1256\n"
     ]
    }
   ],
   "source": [
    "# Define columns to ignore when checking duplicates\n",
    "cols_ignore = [\"RECPTCL_FID\", \"duration_to_next_step\", \"total_duration\", \"id\"]\n",
    "cols_check  = [c for c in df.columns if c not in cols_ignore]\n",
    "\n",
    "# 1. Identify all duplicate rows based on cols_check\n",
    "dup_mask = df.duplicated(subset=cols_check, keep=False)\n",
    "\n",
    "# 2. Number of such duplicate rows\n",
    "num_duplicates = dup_mask.sum()\n",
    "print(f\"Number of duplicate rows (ignoring specified columns): {num_duplicates}\")\n",
    "\n",
    "\n"
   ]
  },
  {
   "cell_type": "code",
   "execution_count": 5,
   "id": "cb96f04f",
   "metadata": {},
   "outputs": [],
   "source": [
    "df = df.drop_duplicates(subset=cols_check, keep=\"first\").reset_index(drop=True)"
   ]
  },
  {
   "cell_type": "code",
   "execution_count": null,
   "id": "c86dcab5",
   "metadata": {},
   "outputs": [],
   "source": [
    "enter_algeria_event = \"Recevoir envoi au bureau d'échange (Ent)\" \n",
    "df_enter = df[df[\"EVENT_TYPE_NM\"] == enter_algeria_event]"
   ]
  },
  {
   "cell_type": "code",
   "execution_count": 7,
   "id": "c8c6180b",
   "metadata": {},
   "outputs": [],
   "source": [
    "# 2. Total rows vs unique MAILITM_FID in this subset\n",
    "total_rows = len(df_enter)\n",
    "unique_fids_enter = df_enter[\"MAILITM_FID\"].nunique()"
   ]
  },
  {
   "cell_type": "code",
   "execution_count": 8,
   "id": "b7f04c24",
   "metadata": {},
   "outputs": [
    {
     "name": "stdout",
     "output_type": "stream",
     "text": [
      "Total 'enter Algeria' rows: 3171704\n",
      "Unique MAILITM_FID in subset: 3035601\n",
      "Are all rows unique per FID? No\n"
     ]
    }
   ],
   "source": [
    "print(f\"Total 'enter Algeria' rows: {total_rows}\")\n",
    "print(f\"Unique MAILITM_FID in subset: {unique_fids_enter}\")\n",
    "print(f\"Are all rows unique per FID? {'Yes' if total_rows == unique_fids_enter else 'No'}\")"
   ]
  },
  {
   "cell_type": "code",
   "execution_count": 9,
   "id": "45eda5dc",
   "metadata": {},
   "outputs": [
    {
     "data": {
      "text/plain": [
       "(34610669,)"
      ]
     },
     "execution_count": 9,
     "metadata": {},
     "output_type": "execute_result"
    }
   ],
   "source": [
    "durations_btw_events = df[\"duration_to_next_step\"]\n",
    "durations_btw_events = pd.to_timedelta(durations_btw_events, errors=\"coerce\")\n",
    "durations_btw_events.shape"
   ]
  },
  {
   "cell_type": "code",
   "execution_count": 10,
   "id": "e96a0001",
   "metadata": {},
   "outputs": [
    {
     "name": "stdout",
     "output_type": "stream",
     "text": [
      "events smaller than 15 =  30270767\n"
     ]
    }
   ],
   "source": [
    "print(\"events smaller than 15 = \" , (durations_btw_events <= pd.Timedelta(days=15)).sum())"
   ]
  },
  {
   "cell_type": "code",
   "execution_count": 18,
   "id": "0cc5e14b",
   "metadata": {},
   "outputs": [
    {
     "name": "stdout",
     "output_type": "stream",
     "text": [
      "count\n",
      "1        171\n",
      "2        604\n",
      "3       3946\n",
      "4      13336\n",
      "5      34884\n",
      "6     179651\n",
      "7     552237\n",
      "8     976507\n",
      "9     851384\n",
      "10    409150\n",
      "11     23860\n",
      "12      2187\n",
      "13       160\n",
      "14         3\n",
      "Name: count, dtype: int64\n"
     ]
    }
   ],
   "source": [
    "# Step 1: Count how many times each ID appears\n",
    "id_counts = df[\"MAILITM_FID\"].value_counts()\n",
    "\n",
    "# Step 2: Count how many IDs have a specific count\n",
    "count_of_counts = id_counts.value_counts().sort_index()\n",
    "\n",
    "print(count_of_counts)\n"
   ]
  },
  {
   "cell_type": "code",
   "execution_count": 12,
   "id": "67152016",
   "metadata": {},
   "outputs": [
    {
     "data": {
      "application/vnd.microsoft.datawrangler.viewer.v0+json": {
       "columns": [
        {
         "name": "index",
         "rawType": "int64",
         "type": "integer"
        },
        {
         "name": "MAILITM_FID",
         "rawType": "object",
         "type": "string"
        },
        {
         "name": "EVENT_TYPE_NM",
         "rawType": "object",
         "type": "string"
        },
        {
         "name": "date",
         "rawType": "datetime64[ns]",
         "type": "datetime"
        },
        {
         "name": "établissement_postal",
         "rawType": "object",
         "type": "unknown"
        },
        {
         "name": "EVENT_TYPE_CD",
         "rawType": "int64",
         "type": "integer"
        },
        {
         "name": "next_établissement_postal",
         "rawType": "object",
         "type": "unknown"
        },
        {
         "name": "id",
         "rawType": "object",
         "type": "string"
        },
        {
         "name": "duration_to_next_step",
         "rawType": "object",
         "type": "string"
        },
        {
         "name": "total_duration",
         "rawType": "object",
         "type": "string"
        }
       ],
       "ref": "5b2d0351-cf52-46e3-81cb-fe8b82493341",
       "rows": [
        [
         "1597796",
         "RB198581530SG",
         "Insérer envoi dans sac (Srt)",
         "2022-06-01 04:01:00",
         null,
         "8",
         null,
         "SG",
         "10 days 07:57:08",
         "25 days 11:23:56"
        ],
        [
         "1597797",
         "RB198581530SG",
         "Recevoir envoi au bureau d'échange (Ent)",
         "2022-06-11 11:58:08",
         "ALGER COLIS POSTAUX",
         "30",
         null,
         "SG",
         "0 days 00:06:59",
         "25 days 11:23:56"
        ],
        [
         "1597798",
         "RB198581530SG",
         "Expédier envoi à adresse nationale (Ent)",
         "2022-06-11 12:05:07",
         "ALGER COLIS POSTAUX",
         "35",
         "CDD SETIF",
         "SG",
         "0 days 00:33:50",
         "25 days 11:23:56"
        ],
        [
         "1597799",
         "RB198581530SG",
         "Expédier envoi à adresse nationale (Ent)",
         "2022-06-11 12:38:57",
         "ALGER COLIS POSTAUX",
         "35",
         "SECTION PAQUETS CPX ALGER",
         "SG",
         "1 days 19:29:28",
         "25 days 11:23:56"
        ],
        [
         "1597800",
         "RB198581530SG",
         "Recevoir envoi au bureau de livraison (Ent)",
         "2022-06-13 08:08:25",
         "CDD SETIF",
         "32",
         null,
         "SG",
         "0 days 04:39:42",
         "25 days 11:23:56"
        ]
       ],
       "shape": {
        "columns": 9,
        "rows": 5
       }
      },
      "text/html": [
       "<div>\n",
       "<style scoped>\n",
       "    .dataframe tbody tr th:only-of-type {\n",
       "        vertical-align: middle;\n",
       "    }\n",
       "\n",
       "    .dataframe tbody tr th {\n",
       "        vertical-align: top;\n",
       "    }\n",
       "\n",
       "    .dataframe thead th {\n",
       "        text-align: right;\n",
       "    }\n",
       "</style>\n",
       "<table border=\"1\" class=\"dataframe\">\n",
       "  <thead>\n",
       "    <tr style=\"text-align: right;\">\n",
       "      <th></th>\n",
       "      <th>MAILITM_FID</th>\n",
       "      <th>EVENT_TYPE_NM</th>\n",
       "      <th>date</th>\n",
       "      <th>établissement_postal</th>\n",
       "      <th>EVENT_TYPE_CD</th>\n",
       "      <th>next_établissement_postal</th>\n",
       "      <th>id</th>\n",
       "      <th>duration_to_next_step</th>\n",
       "      <th>total_duration</th>\n",
       "    </tr>\n",
       "  </thead>\n",
       "  <tbody>\n",
       "    <tr>\n",
       "      <th>1597796</th>\n",
       "      <td>RB198581530SG</td>\n",
       "      <td>Insérer envoi dans sac (Srt)</td>\n",
       "      <td>2022-06-01 04:01:00</td>\n",
       "      <td>NaN</td>\n",
       "      <td>8</td>\n",
       "      <td>NaN</td>\n",
       "      <td>SG</td>\n",
       "      <td>10 days 07:57:08</td>\n",
       "      <td>25 days 11:23:56</td>\n",
       "    </tr>\n",
       "    <tr>\n",
       "      <th>1597797</th>\n",
       "      <td>RB198581530SG</td>\n",
       "      <td>Recevoir envoi au bureau d'échange (Ent)</td>\n",
       "      <td>2022-06-11 11:58:08</td>\n",
       "      <td>ALGER COLIS POSTAUX</td>\n",
       "      <td>30</td>\n",
       "      <td>NaN</td>\n",
       "      <td>SG</td>\n",
       "      <td>0 days 00:06:59</td>\n",
       "      <td>25 days 11:23:56</td>\n",
       "    </tr>\n",
       "    <tr>\n",
       "      <th>1597798</th>\n",
       "      <td>RB198581530SG</td>\n",
       "      <td>Expédier envoi à adresse nationale (Ent)</td>\n",
       "      <td>2022-06-11 12:05:07</td>\n",
       "      <td>ALGER COLIS POSTAUX</td>\n",
       "      <td>35</td>\n",
       "      <td>CDD SETIF</td>\n",
       "      <td>SG</td>\n",
       "      <td>0 days 00:33:50</td>\n",
       "      <td>25 days 11:23:56</td>\n",
       "    </tr>\n",
       "    <tr>\n",
       "      <th>1597799</th>\n",
       "      <td>RB198581530SG</td>\n",
       "      <td>Expédier envoi à adresse nationale (Ent)</td>\n",
       "      <td>2022-06-11 12:38:57</td>\n",
       "      <td>ALGER COLIS POSTAUX</td>\n",
       "      <td>35</td>\n",
       "      <td>SECTION PAQUETS CPX ALGER</td>\n",
       "      <td>SG</td>\n",
       "      <td>1 days 19:29:28</td>\n",
       "      <td>25 days 11:23:56</td>\n",
       "    </tr>\n",
       "    <tr>\n",
       "      <th>1597800</th>\n",
       "      <td>RB198581530SG</td>\n",
       "      <td>Recevoir envoi au bureau de livraison (Ent)</td>\n",
       "      <td>2022-06-13 08:08:25</td>\n",
       "      <td>CDD SETIF</td>\n",
       "      <td>32</td>\n",
       "      <td>NaN</td>\n",
       "      <td>SG</td>\n",
       "      <td>0 days 04:39:42</td>\n",
       "      <td>25 days 11:23:56</td>\n",
       "    </tr>\n",
       "  </tbody>\n",
       "</table>\n",
       "</div>"
      ],
      "text/plain": [
       "           MAILITM_FID                                EVENT_TYPE_NM  \\\n",
       "1597796  RB198581530SG                 Insérer envoi dans sac (Srt)   \n",
       "1597797  RB198581530SG     Recevoir envoi au bureau d'échange (Ent)   \n",
       "1597798  RB198581530SG     Expédier envoi à adresse nationale (Ent)   \n",
       "1597799  RB198581530SG     Expédier envoi à adresse nationale (Ent)   \n",
       "1597800  RB198581530SG  Recevoir envoi au bureau de livraison (Ent)   \n",
       "\n",
       "                       date établissement_postal  EVENT_TYPE_CD  \\\n",
       "1597796 2022-06-01 04:01:00                  NaN              8   \n",
       "1597797 2022-06-11 11:58:08  ALGER COLIS POSTAUX             30   \n",
       "1597798 2022-06-11 12:05:07  ALGER COLIS POSTAUX             35   \n",
       "1597799 2022-06-11 12:38:57  ALGER COLIS POSTAUX             35   \n",
       "1597800 2022-06-13 08:08:25            CDD SETIF             32   \n",
       "\n",
       "         next_établissement_postal  id duration_to_next_step    total_duration  \n",
       "1597796                        NaN  SG      10 days 07:57:08  25 days 11:23:56  \n",
       "1597797                        NaN  SG       0 days 00:06:59  25 days 11:23:56  \n",
       "1597798                  CDD SETIF  SG       0 days 00:33:50  25 days 11:23:56  \n",
       "1597799  SECTION PAQUETS CPX ALGER  SG       1 days 19:29:28  25 days 11:23:56  \n",
       "1597800                        NaN  SG       0 days 04:39:42  25 days 11:23:56  "
      ]
     },
     "execution_count": 12,
     "metadata": {},
     "output_type": "execute_result"
    }
   ],
   "source": [
    "ids_with_0 = id_counts[id_counts == 252].index\n",
    "df_with_0 = df[df[\"MAILITM_FID\"].isin(ids_with_0)]\n",
    "df_with_0.head()\n"
   ]
  },
  {
   "cell_type": "code",
   "execution_count": 13,
   "id": "a223b39a",
   "metadata": {},
   "outputs": [],
   "source": [
    "dup_run = (\n",
    "    df.groupby(\"MAILITM_FID\")[\"EVENT_TYPE_NM\"]\n",
    "      .shift(-1)                    # look one row ahead\n",
    "      .eq(df[\"EVENT_TYPE_NM\"])      # True if same event repeats\n",
    ")\n",
    "\n",
    "# keep rows t\n",
    "# hat are NOT duplicates-in-a-row (i.e., keep the last in each streak)\n",
    "df = df[~dup_run].copy()"
   ]
  },
  {
   "cell_type": "code",
   "execution_count": 14,
   "id": "fa1b3bd6",
   "metadata": {},
   "outputs": [
    {
     "data": {
      "text/plain": [
       "(31369774, 9)"
      ]
     },
     "execution_count": 14,
     "metadata": {},
     "output_type": "execute_result"
    }
   ],
   "source": [
    "df.shape"
   ]
  },
  {
   "cell_type": "code",
   "execution_count": 15,
   "id": "036620a7",
   "metadata": {},
   "outputs": [
    {
     "name": "stdout",
     "output_type": "stream",
     "text": [
      "count\n",
      "1        171\n",
      "2        180\n",
      "3       3673\n",
      "4      10986\n",
      "5      17879\n",
      "       ...  \n",
      "129        1\n",
      "130        2\n",
      "131        1\n",
      "133        1\n",
      "134        1\n",
      "Name: count, Length: 109, dtype: int64\n"
     ]
    }
   ],
   "source": [
    "# Step 1: Count how many times each ID appears\n",
    "id_counts = df[\"MAILITM_FID\"].value_counts()\n",
    "\n",
    "# Step 2: Count how many IDs have a specific count\n",
    "count_of_counts = id_counts.value_counts().sort_index()\n",
    "\n",
    "print(count_of_counts)\n"
   ]
  },
  {
   "cell_type": "code",
   "execution_count": 16,
   "id": "3cf8a434",
   "metadata": {},
   "outputs": [
    {
     "data": {
      "application/vnd.microsoft.datawrangler.viewer.v0+json": {
       "columns": [
        {
         "name": "index",
         "rawType": "int64",
         "type": "integer"
        },
        {
         "name": "MAILITM_FID",
         "rawType": "object",
         "type": "string"
        },
        {
         "name": "EVENT_TYPE_NM",
         "rawType": "object",
         "type": "string"
        },
        {
         "name": "date",
         "rawType": "datetime64[ns]",
         "type": "datetime"
        },
        {
         "name": "établissement_postal",
         "rawType": "object",
         "type": "unknown"
        },
        {
         "name": "EVENT_TYPE_CD",
         "rawType": "int64",
         "type": "integer"
        },
        {
         "name": "next_établissement_postal",
         "rawType": "object",
         "type": "unknown"
        },
        {
         "name": "id",
         "rawType": "object",
         "type": "string"
        },
        {
         "name": "duration_to_next_step",
         "rawType": "object",
         "type": "string"
        },
        {
         "name": "total_duration",
         "rawType": "object",
         "type": "string"
        }
       ],
       "ref": "59bc8219-9011-4540-99e2-fce8f68ef85b",
       "rows": [
        [
         "4767599",
         "RQ762883509CN",
         "Insérer envoi dans sac (Srt)",
         "2022-01-01 09:31:00",
         "CHINE",
         "8",
         null,
         "CN",
         "0 days 18:34:00",
         "346 days 03:21:03"
        ],
        [
         "4767600",
         "RQ762883509CN",
         "Expédition d'envoi à l'étranger (EDI-reçu)",
         "2022-01-02 04:05:00",
         null,
         "12",
         "ALGÉRIE",
         "CN",
         "2 days 06:08:00",
         "346 days 03:21:03"
        ],
        [
         "4767601",
         "RQ762883509CN",
         "Insérer envoi dans sac (Srt)",
         "2022-01-04 10:13:00",
         "CHINE",
         "8",
         null,
         "CN",
         "0 days 17:52:00",
         "346 days 03:21:03"
        ],
        [
         "4767602",
         "RQ762883509CN",
         "Expédition d'envoi à l'étranger (EDI-reçu)",
         "2022-01-05 04:05:00",
         null,
         "12",
         "ALGÉRIE",
         "CN",
         "2 days 05:33:00",
         "346 days 03:21:03"
        ],
        [
         "4767603",
         "RQ762883509CN",
         "Insérer envoi dans sac (Srt)",
         "2022-01-07 09:38:00",
         "CHINE",
         "8",
         null,
         "CN",
         "1 days 18:27:00",
         "346 days 03:21:03"
        ]
       ],
       "shape": {
        "columns": 9,
        "rows": 5
       }
      },
      "text/html": [
       "<div>\n",
       "<style scoped>\n",
       "    .dataframe tbody tr th:only-of-type {\n",
       "        vertical-align: middle;\n",
       "    }\n",
       "\n",
       "    .dataframe tbody tr th {\n",
       "        vertical-align: top;\n",
       "    }\n",
       "\n",
       "    .dataframe thead th {\n",
       "        text-align: right;\n",
       "    }\n",
       "</style>\n",
       "<table border=\"1\" class=\"dataframe\">\n",
       "  <thead>\n",
       "    <tr style=\"text-align: right;\">\n",
       "      <th></th>\n",
       "      <th>MAILITM_FID</th>\n",
       "      <th>EVENT_TYPE_NM</th>\n",
       "      <th>date</th>\n",
       "      <th>établissement_postal</th>\n",
       "      <th>EVENT_TYPE_CD</th>\n",
       "      <th>next_établissement_postal</th>\n",
       "      <th>id</th>\n",
       "      <th>duration_to_next_step</th>\n",
       "      <th>total_duration</th>\n",
       "    </tr>\n",
       "  </thead>\n",
       "  <tbody>\n",
       "    <tr>\n",
       "      <th>4767599</th>\n",
       "      <td>RQ762883509CN</td>\n",
       "      <td>Insérer envoi dans sac (Srt)</td>\n",
       "      <td>2022-01-01 09:31:00</td>\n",
       "      <td>CHINE</td>\n",
       "      <td>8</td>\n",
       "      <td>NaN</td>\n",
       "      <td>CN</td>\n",
       "      <td>0 days 18:34:00</td>\n",
       "      <td>346 days 03:21:03</td>\n",
       "    </tr>\n",
       "    <tr>\n",
       "      <th>4767600</th>\n",
       "      <td>RQ762883509CN</td>\n",
       "      <td>Expédition d'envoi à l'étranger (EDI-reçu)</td>\n",
       "      <td>2022-01-02 04:05:00</td>\n",
       "      <td>NaN</td>\n",
       "      <td>12</td>\n",
       "      <td>ALGÉRIE</td>\n",
       "      <td>CN</td>\n",
       "      <td>2 days 06:08:00</td>\n",
       "      <td>346 days 03:21:03</td>\n",
       "    </tr>\n",
       "    <tr>\n",
       "      <th>4767601</th>\n",
       "      <td>RQ762883509CN</td>\n",
       "      <td>Insérer envoi dans sac (Srt)</td>\n",
       "      <td>2022-01-04 10:13:00</td>\n",
       "      <td>CHINE</td>\n",
       "      <td>8</td>\n",
       "      <td>NaN</td>\n",
       "      <td>CN</td>\n",
       "      <td>0 days 17:52:00</td>\n",
       "      <td>346 days 03:21:03</td>\n",
       "    </tr>\n",
       "    <tr>\n",
       "      <th>4767602</th>\n",
       "      <td>RQ762883509CN</td>\n",
       "      <td>Expédition d'envoi à l'étranger (EDI-reçu)</td>\n",
       "      <td>2022-01-05 04:05:00</td>\n",
       "      <td>NaN</td>\n",
       "      <td>12</td>\n",
       "      <td>ALGÉRIE</td>\n",
       "      <td>CN</td>\n",
       "      <td>2 days 05:33:00</td>\n",
       "      <td>346 days 03:21:03</td>\n",
       "    </tr>\n",
       "    <tr>\n",
       "      <th>4767603</th>\n",
       "      <td>RQ762883509CN</td>\n",
       "      <td>Insérer envoi dans sac (Srt)</td>\n",
       "      <td>2022-01-07 09:38:00</td>\n",
       "      <td>CHINE</td>\n",
       "      <td>8</td>\n",
       "      <td>NaN</td>\n",
       "      <td>CN</td>\n",
       "      <td>1 days 18:27:00</td>\n",
       "      <td>346 days 03:21:03</td>\n",
       "    </tr>\n",
       "  </tbody>\n",
       "</table>\n",
       "</div>"
      ],
      "text/plain": [
       "           MAILITM_FID                               EVENT_TYPE_NM  \\\n",
       "4767599  RQ762883509CN                Insérer envoi dans sac (Srt)   \n",
       "4767600  RQ762883509CN  Expédition d'envoi à l'étranger (EDI-reçu)   \n",
       "4767601  RQ762883509CN                Insérer envoi dans sac (Srt)   \n",
       "4767602  RQ762883509CN  Expédition d'envoi à l'étranger (EDI-reçu)   \n",
       "4767603  RQ762883509CN                Insérer envoi dans sac (Srt)   \n",
       "\n",
       "                       date établissement_postal  EVENT_TYPE_CD  \\\n",
       "4767599 2022-01-01 09:31:00                CHINE              8   \n",
       "4767600 2022-01-02 04:05:00                  NaN             12   \n",
       "4767601 2022-01-04 10:13:00                CHINE              8   \n",
       "4767602 2022-01-05 04:05:00                  NaN             12   \n",
       "4767603 2022-01-07 09:38:00                CHINE              8   \n",
       "\n",
       "        next_établissement_postal  id duration_to_next_step     total_duration  \n",
       "4767599                       NaN  CN       0 days 18:34:00  346 days 03:21:03  \n",
       "4767600                   ALGÉRIE  CN       2 days 06:08:00  346 days 03:21:03  \n",
       "4767601                       NaN  CN       0 days 17:52:00  346 days 03:21:03  \n",
       "4767602                   ALGÉRIE  CN       2 days 05:33:00  346 days 03:21:03  \n",
       "4767603                       NaN  CN       1 days 18:27:00  346 days 03:21:03  "
      ]
     },
     "execution_count": 16,
     "metadata": {},
     "output_type": "execute_result"
    }
   ],
   "source": [
    "ids_with_0 = id_counts[id_counts == 134].index\n",
    "df_with_0 = df[df[\"MAILITM_FID\"].isin(ids_with_0)]\n",
    "df_with_0.head()\n"
   ]
  },
  {
   "cell_type": "code",
   "execution_count": 17,
   "id": "aceebe1b",
   "metadata": {},
   "outputs": [],
   "source": [
    "# For each MAILITM_FID, keep only the last occurrence of each unique event\n",
    "df = df.drop_duplicates(subset=[\"MAILITM_FID\", \"EVENT_TYPE_NM\"], keep=\"last\")\n",
    "\n"
   ]
  },
  {
   "cell_type": "code",
   "execution_count": 34,
   "id": "5d8a7d28",
   "metadata": {},
   "outputs": [
    {
     "data": {
      "text/plain": [
       "(25041384, 9)"
      ]
     },
     "execution_count": 34,
     "metadata": {},
     "output_type": "execute_result"
    }
   ],
   "source": [
    "df.shape"
   ]
  },
  {
   "cell_type": "code",
   "execution_count": 35,
   "id": "a2050d1f",
   "metadata": {},
   "outputs": [
    {
     "name": "stdout",
     "output_type": "stream",
     "text": [
      "count\n",
      "1        171\n",
      "2        604\n",
      "3       3946\n",
      "4      13336\n",
      "5      34884\n",
      "6     179651\n",
      "7     552237\n",
      "8     976507\n",
      "9     851384\n",
      "10    409150\n",
      "11     23860\n",
      "12      2187\n",
      "13       160\n",
      "14         3\n",
      "Name: count, dtype: int64\n"
     ]
    }
   ],
   "source": [
    "# Step 1: Count how many times each ID appears\n",
    "id_counts = df[\"MAILITM_FID\"].value_counts()\n",
    "\n",
    "# Step 2: Count how many IDs have a specific count\n",
    "count_of_counts = id_counts.value_counts().sort_index()\n",
    "\n",
    "print(count_of_counts)\n"
   ]
  },
  {
   "cell_type": "code",
   "execution_count": 36,
   "id": "92231c2a",
   "metadata": {},
   "outputs": [
    {
     "data": {
      "application/vnd.microsoft.datawrangler.viewer.v0+json": {
       "columns": [
        {
         "name": "index",
         "rawType": "int64",
         "type": "integer"
        },
        {
         "name": "MAILITM_FID",
         "rawType": "object",
         "type": "string"
        },
        {
         "name": "EVENT_TYPE_NM",
         "rawType": "object",
         "type": "string"
        },
        {
         "name": "date",
         "rawType": "datetime64[ns]",
         "type": "datetime"
        },
        {
         "name": "établissement_postal",
         "rawType": "object",
         "type": "unknown"
        },
        {
         "name": "EVENT_TYPE_CD",
         "rawType": "int64",
         "type": "integer"
        },
        {
         "name": "next_établissement_postal",
         "rawType": "object",
         "type": "unknown"
        },
        {
         "name": "id",
         "rawType": "object",
         "type": "string"
        },
        {
         "name": "duration_to_next_step",
         "rawType": "object",
         "type": "string"
        },
        {
         "name": "total_duration",
         "rawType": "object",
         "type": "string"
        }
       ],
       "ref": "083692d9-d88e-4b4d-aa70-b4a9e0df8270",
       "rows": [
        [
         "13304388",
         "RB276200461SG",
         "Insérer envoi dans sac (Srt)",
         "2023-05-07 19:06:00",
         null,
         "8",
         null,
         "SG",
         "0 days 17:09:00",
         "27 days 11:52:02"
        ],
        [
         "13304389",
         "RB276200461SG",
         "Expédition d'envoi à l'étranger (EDI-reçu)",
         "2023-05-08 12:15:00",
         null,
         "12",
         "ALGÉRIE",
         "SG",
         "5 days 20:48:13",
         "27 days 11:52:02"
        ],
        [
         "13304390",
         "RB276200461SG",
         "Recevoir envoi au bureau d'échange (Ent)",
         "2023-05-14 09:03:13",
         "ALGER GARE",
         "30",
         null,
         "SG",
         "0 days 01:02:13",
         "27 days 11:52:02"
        ],
        [
         "13304392",
         "RB276200461SG",
         "Expédier envoi à adresse nationale (Ent)",
         "2023-05-14 10:26:48",
         "ALGER COLIS POSTAUX",
         "35",
         "CONSTANTINE COLIS POSTAUX",
         "SG",
         "8 days 02:46:04",
         "27 days 11:52:02"
        ],
        [
         "13304394",
         "RB276200461SG",
         "Enregistrer détails d'envoi au bureau d'échange (Srt)",
         "2023-05-22 13:14:17",
         "CONSTANTINE COLIS POSTAUX",
         "11",
         null,
         "SG",
         "1 days 00:37:55",
         "27 days 11:52:02"
        ]
       ],
       "shape": {
        "columns": 9,
        "rows": 5
       }
      },
      "text/html": [
       "<div>\n",
       "<style scoped>\n",
       "    .dataframe tbody tr th:only-of-type {\n",
       "        vertical-align: middle;\n",
       "    }\n",
       "\n",
       "    .dataframe tbody tr th {\n",
       "        vertical-align: top;\n",
       "    }\n",
       "\n",
       "    .dataframe thead th {\n",
       "        text-align: right;\n",
       "    }\n",
       "</style>\n",
       "<table border=\"1\" class=\"dataframe\">\n",
       "  <thead>\n",
       "    <tr style=\"text-align: right;\">\n",
       "      <th></th>\n",
       "      <th>MAILITM_FID</th>\n",
       "      <th>EVENT_TYPE_NM</th>\n",
       "      <th>date</th>\n",
       "      <th>établissement_postal</th>\n",
       "      <th>EVENT_TYPE_CD</th>\n",
       "      <th>next_établissement_postal</th>\n",
       "      <th>id</th>\n",
       "      <th>duration_to_next_step</th>\n",
       "      <th>total_duration</th>\n",
       "    </tr>\n",
       "  </thead>\n",
       "  <tbody>\n",
       "    <tr>\n",
       "      <th>13304388</th>\n",
       "      <td>RB276200461SG</td>\n",
       "      <td>Insérer envoi dans sac (Srt)</td>\n",
       "      <td>2023-05-07 19:06:00</td>\n",
       "      <td>NaN</td>\n",
       "      <td>8</td>\n",
       "      <td>NaN</td>\n",
       "      <td>SG</td>\n",
       "      <td>0 days 17:09:00</td>\n",
       "      <td>27 days 11:52:02</td>\n",
       "    </tr>\n",
       "    <tr>\n",
       "      <th>13304389</th>\n",
       "      <td>RB276200461SG</td>\n",
       "      <td>Expédition d'envoi à l'étranger (EDI-reçu)</td>\n",
       "      <td>2023-05-08 12:15:00</td>\n",
       "      <td>NaN</td>\n",
       "      <td>12</td>\n",
       "      <td>ALGÉRIE</td>\n",
       "      <td>SG</td>\n",
       "      <td>5 days 20:48:13</td>\n",
       "      <td>27 days 11:52:02</td>\n",
       "    </tr>\n",
       "    <tr>\n",
       "      <th>13304390</th>\n",
       "      <td>RB276200461SG</td>\n",
       "      <td>Recevoir envoi au bureau d'échange (Ent)</td>\n",
       "      <td>2023-05-14 09:03:13</td>\n",
       "      <td>ALGER GARE</td>\n",
       "      <td>30</td>\n",
       "      <td>NaN</td>\n",
       "      <td>SG</td>\n",
       "      <td>0 days 01:02:13</td>\n",
       "      <td>27 days 11:52:02</td>\n",
       "    </tr>\n",
       "    <tr>\n",
       "      <th>13304392</th>\n",
       "      <td>RB276200461SG</td>\n",
       "      <td>Expédier envoi à adresse nationale (Ent)</td>\n",
       "      <td>2023-05-14 10:26:48</td>\n",
       "      <td>ALGER COLIS POSTAUX</td>\n",
       "      <td>35</td>\n",
       "      <td>CONSTANTINE COLIS POSTAUX</td>\n",
       "      <td>SG</td>\n",
       "      <td>8 days 02:46:04</td>\n",
       "      <td>27 days 11:52:02</td>\n",
       "    </tr>\n",
       "    <tr>\n",
       "      <th>13304394</th>\n",
       "      <td>RB276200461SG</td>\n",
       "      <td>Enregistrer détails d'envoi au bureau d'échang...</td>\n",
       "      <td>2023-05-22 13:14:17</td>\n",
       "      <td>CONSTANTINE COLIS POSTAUX</td>\n",
       "      <td>11</td>\n",
       "      <td>NaN</td>\n",
       "      <td>SG</td>\n",
       "      <td>1 days 00:37:55</td>\n",
       "      <td>27 days 11:52:02</td>\n",
       "    </tr>\n",
       "  </tbody>\n",
       "</table>\n",
       "</div>"
      ],
      "text/plain": [
       "            MAILITM_FID                                      EVENT_TYPE_NM  \\\n",
       "13304388  RB276200461SG                       Insérer envoi dans sac (Srt)   \n",
       "13304389  RB276200461SG         Expédition d'envoi à l'étranger (EDI-reçu)   \n",
       "13304390  RB276200461SG           Recevoir envoi au bureau d'échange (Ent)   \n",
       "13304392  RB276200461SG           Expédier envoi à adresse nationale (Ent)   \n",
       "13304394  RB276200461SG  Enregistrer détails d'envoi au bureau d'échang...   \n",
       "\n",
       "                        date       établissement_postal  EVENT_TYPE_CD  \\\n",
       "13304388 2023-05-07 19:06:00                        NaN              8   \n",
       "13304389 2023-05-08 12:15:00                        NaN             12   \n",
       "13304390 2023-05-14 09:03:13                 ALGER GARE             30   \n",
       "13304392 2023-05-14 10:26:48        ALGER COLIS POSTAUX             35   \n",
       "13304394 2023-05-22 13:14:17  CONSTANTINE COLIS POSTAUX             11   \n",
       "\n",
       "          next_établissement_postal  id duration_to_next_step  \\\n",
       "13304388                        NaN  SG       0 days 17:09:00   \n",
       "13304389                    ALGÉRIE  SG       5 days 20:48:13   \n",
       "13304390                        NaN  SG       0 days 01:02:13   \n",
       "13304392  CONSTANTINE COLIS POSTAUX  SG       8 days 02:46:04   \n",
       "13304394                        NaN  SG       1 days 00:37:55   \n",
       "\n",
       "            total_duration  \n",
       "13304388  27 days 11:52:02  \n",
       "13304389  27 days 11:52:02  \n",
       "13304390  27 days 11:52:02  \n",
       "13304392  27 days 11:52:02  \n",
       "13304394  27 days 11:52:02  "
      ]
     },
     "execution_count": 36,
     "metadata": {},
     "output_type": "execute_result"
    }
   ],
   "source": [
    "ids_with_0 = id_counts[id_counts == 14].index\n",
    "df_with_0 = df[df[\"MAILITM_FID\"].isin(ids_with_0)]\n",
    "df_with_0.head()\n"
   ]
  }
 ],
 "metadata": {
  "kernelspec": {
   "display_name": "base",
   "language": "python",
   "name": "python3"
  },
  "language_info": {
   "codemirror_mode": {
    "name": "ipython",
    "version": 3
   },
   "file_extension": ".py",
   "mimetype": "text/x-python",
   "name": "python",
   "nbconvert_exporter": "python",
   "pygments_lexer": "ipython3",
   "version": "3.10.9"
  }
 },
 "nbformat": 4,
 "nbformat_minor": 5
}
