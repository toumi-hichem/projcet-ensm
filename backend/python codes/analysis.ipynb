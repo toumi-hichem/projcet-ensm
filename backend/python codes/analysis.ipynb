{
 "cells": [
  {
   "cell_type": "code",
   "execution_count": 1,
   "id": "7dc48e25",
   "metadata": {},
   "outputs": [],
   "source": [
    "import pandas as pd\n",
    "import numpy as np\n",
    "import matplotlib.pyplot as plt\n",
    "import seaborn as sns\n",
    "%matplotlib inline"
   ]
  },
  {
   "cell_type": "code",
   "execution_count": 2,
   "id": "2ed4022b",
   "metadata": {},
   "outputs": [],
   "source": [
    "file_name = \"df_count_1.csv\"   "
   ]
  },
  {
   "cell_type": "code",
   "execution_count": 3,
   "id": "b46b746c",
   "metadata": {},
   "outputs": [],
   "source": [
    " \n",
    "df = pd.read_csv(file_name , parse_dates=[\"date\"])\n"
   ]
  },
  {
   "cell_type": "code",
   "execution_count": 4,
   "id": "bec3e2eb",
   "metadata": {},
   "outputs": [
    {
     "data": {
      "text/plain": [
       "(567652, 9)"
      ]
     },
     "execution_count": 4,
     "metadata": {},
     "output_type": "execute_result"
    }
   ],
   "source": [
    "df.shape"
   ]
  },
  {
   "cell_type": "code",
   "execution_count": 5,
   "id": "ed9bfdeb",
   "metadata": {},
   "outputs": [],
   "source": [
    "# Read the country reference file\n",
    "df_countries = pd.read_csv(\"CT_COUNTRIES.csv\", sep=\";\", header=None, names=[\"code\", \"lang\", \"name\"])\n",
    "\n",
    "country_dict = df_countries.set_index(\"code\")[\"name\"].to_dict()"
   ]
  },
  {
   "cell_type": "code",
   "execution_count": 6,
   "id": "789237c0",
   "metadata": {},
   "outputs": [
    {
     "name": "stdout",
     "output_type": "stream",
     "text": [
      "Number of duplicate rows (ignoring specified columns): 10\n"
     ]
    }
   ],
   "source": [
    "# Define columns to ignore when checking duplicates\n",
    "cols_ignore = [\"RECPTCL_FID\", \"duration_to_next_step\", \"total_duration\", \"id\"]\n",
    "cols_check  = [c for c in df.columns if c not in cols_ignore]\n",
    "\n",
    "# 1. Identify all duplicate rows based on cols_check\n",
    "dup_mask = df.duplicated(subset=cols_check, keep=False)\n",
    "\n",
    "# 2. Number of such duplicate rows\n",
    "num_duplicates = dup_mask.sum()\n",
    "print(f\"Number of duplicate rows (ignoring specified columns): {num_duplicates}\")\n",
    "\n",
    "\n"
   ]
  },
  {
   "cell_type": "code",
   "execution_count": 7,
   "id": "eee67ebd",
   "metadata": {},
   "outputs": [],
   "source": [
    "df = df.drop_duplicates(subset=cols_check, keep=\"first\").reset_index(drop=True)"
   ]
  },
  {
   "cell_type": "code",
   "execution_count": 43,
   "id": "8d148084",
   "metadata": {},
   "outputs": [
    {
     "name": "stdout",
     "output_type": "stream",
     "text": [
      "First-event frequencies:\n",
      "Insérer envoi dans sac (Srt)             55,689\n",
      "Réception d'envoi du client (Srt)        17,294\n",
      "Expédition d'envoi à l'étranger (EDI-reçu) 6,999\n",
      "Recevoir envoi au bureau d'échange (Ent) 306\n",
      "Expédier envoi à adresse nationale (Ent) 18\n",
      "Recevoir envoi au bureau de livraison (Ent) 9\n"
     ]
    }
   ],
   "source": [
    "import pandas as pd\n",
    "\n",
    "ID_COL    = \"MAILITM_FID\"\n",
    "EVENT_COL = \"EVENT_TYPE_NM\"\n",
    "\n",
    "# 1) pick the first row per parcel (rows are already in correct order)\n",
    "first_events = (\n",
    "    df.groupby(ID_COL, sort=False)[EVENT_COL]\n",
    "      .first()                 # a Series: index = parcel ID, value = first event\n",
    ")\n",
    "\n",
    "# 2) count how many parcels have each first event\n",
    "event_counts = (\n",
    "    first_events.value_counts()   # Series: index = event, value = count\n",
    "               .sort_values(ascending=False)\n",
    ")\n",
    "\n",
    "# 3) print the result\n",
    "print(\"First-event frequencies:\")\n",
    "for event, count in event_counts.items():\n",
    "    print(f\"{event:40} {count:,}\")\n"
   ]
  },
  {
   "cell_type": "code",
   "execution_count": 44,
   "id": "a59e7f14",
   "metadata": {},
   "outputs": [
    {
     "name": "stdout",
     "output_type": "stream",
     "text": [
      "RECPTCL_FID                  559542\n",
      "établissement_postal          77170\n",
      "next_établissement_postal    398673\n",
      "duration_to_next_step         80257\n",
      "dtype: int64\n"
     ]
    }
   ],
   "source": [
    "missing_values = df.isnull().sum()\n",
    "missing_columns = missing_values[missing_values > 0]\n",
    "print(missing_columns)"
   ]
  },
  {
   "cell_type": "code",
   "execution_count": 45,
   "id": "0d0cf25a",
   "metadata": {},
   "outputs": [],
   "source": [
    "df = df.drop(columns=[\"RECPTCL_FID\", \"duration_to_next_step\", \"total_duration\"])"
   ]
  },
  {
   "cell_type": "code",
   "execution_count": 46,
   "id": "32d936e7",
   "metadata": {},
   "outputs": [
    {
     "name": "stdout",
     "output_type": "stream",
     "text": [
      "établissement_postal          77170\n",
      "next_établissement_postal    398673\n",
      "dtype: int64\n"
     ]
    }
   ],
   "source": [
    "missing_values = df.isnull().sum()\n",
    "missing_columns = missing_values[missing_values > 0]\n",
    "print(missing_columns)"
   ]
  },
  {
   "cell_type": "code",
   "execution_count": 47,
   "id": "38f06752",
   "metadata": {},
   "outputs": [
    {
     "name": "stdout",
     "output_type": "stream",
     "text": [
      "Total rows with missing values: 411157\n"
     ]
    }
   ],
   "source": [
    "\n",
    "# Assuming 'df' is your DataFrame!\n",
    "\n",
    "# Identify the rows with missing values\n",
    "missing_rows = df[df.isnull().any(axis=1)]\n",
    "\n",
    "# Print the total number of rows that have missing values\n",
    "print(\"Total rows with missing values:\", missing_rows.shape[0])\n",
    "\n",
    "\n"
   ]
  },
  {
   "cell_type": "code",
   "execution_count": 48,
   "id": "47bc4e02",
   "metadata": {},
   "outputs": [
    {
     "name": "stdout",
     "output_type": "stream",
     "text": [
      "\n",
      "Summary of missing patterns (tuple of 0's and 1's corresponding to missing values in each column):\n",
      "(0, 0, 0, 0, 0, 1, 0)    333987\n",
      "(0, 0, 0, 1, 0, 1, 0)     64686\n",
      "(0, 0, 0, 1, 0, 0, 0)     12484\n",
      "dtype: int64\n"
     ]
    }
   ],
   "source": [
    "# Analyze the missing patterns across rows:\n",
    "# Create a binary pattern for each row where 1 indicates a missing value and 0 indicates non-missing.\n",
    "missing_pattern = missing_rows.isnull().astype(int)\n",
    "# Convert each pattern to a tuple to use as a key for groupby\n",
    "missing_pattern_tuples = missing_pattern.apply(tuple, axis=1)\n",
    "# Group by the missing pattern and count the number of rows for each pattern\n",
    "pattern_summary = missing_rows.groupby(missing_pattern_tuples).size().sort_values(ascending=False)\n",
    "\n",
    "print(\"\\nSummary of missing patterns (tuple of 0's and 1's corresponding to missing values in each column):\")\n",
    "print(pattern_summary)\n",
    "\n"
   ]
  },
  {
   "cell_type": "code",
   "execution_count": 49,
   "id": "6f3c108a",
   "metadata": {},
   "outputs": [
    {
     "name": "stdout",
     "output_type": "stream",
     "text": [
      "EVENT_TYPE_NM\n",
      "Recevoir envoi au bureau de livraison (Ent)                    112466\n",
      "Expédier envoi à adresse nationale (Ent)                        89164\n",
      "Expédier envoi à adresse nationale (Srt)                        73223\n",
      "Insérer envoi dans sac (Srt)                                    72389\n",
      "Recevoir envoi au bureau d'échange (Ent)                        58574\n",
      "Livraison d'envoi (Ent)                                         50224\n",
      "Vaine tentative de livraison d'envoi (Ent)                      38517\n",
      "Transmettre envoi à l'agent de livraison (Ent)                  33823\n",
      "Réception d'envoi du client (Srt)                               18965\n",
      "Expédition d'envoi à l'étranger (EDI-reçu)                      18715\n",
      "Enregistrer détails d'envoi au bureau d'échange (Srt)            9229\n",
      "Expédier envoi à la douane (Ent)                                 2890\n",
      "Renvoyer envoi de la douane (Ent)                                1583\n",
      "Recevoir envoi au bureau d'échange (Srt)                          792\n",
      "Renvoyer envoi de la douane (Srt)                                 135\n",
      "Mettre à jour envoi (Ent)                                          62\n",
      "Expédier envoi à la douane (Srt)                                   62\n",
      "Recevoir envoi au lieu (Ent)                                       49\n",
      "Enregistrer informations douanières d'envoi (Ent)                  34\n",
      "Enregistrer raison de rétention d'envoi par la douane (Srt)        12\n",
      "Recevoir envoi au lieu (Srt)                                        1\n",
      "Supprimer envoi du sac (Srt)                                        1\n",
      "Name: count, dtype: int64\n"
     ]
    }
   ],
   "source": [
    "\n",
    "# Count the occurrences of each protocol\n",
    "event_type = df['EVENT_TYPE_NM'].value_counts()\n",
    "\n",
    "print(event_type)\n"
   ]
  },
  {
   "cell_type": "code",
   "execution_count": 9,
   "id": "ab434c1f",
   "metadata": {},
   "outputs": [
    {
     "data": {
      "application/vnd.microsoft.datawrangler.viewer.v0+json": {
       "columns": [
        {
         "name": "établissement_postal",
         "rawType": "object",
         "type": "string"
        },
        {
         "name": "count",
         "rawType": "int64",
         "type": "integer"
        }
       ],
       "ref": "297a8d60-9b2f-4264-a332-b06b5c0544d1",
       "rows": [
        [
         "ALGER COLIS POSTAUX",
         "120334"
        ],
        [
         "ALGER GARE",
         "25902"
        ],
        [
         "CONSTANTINE COLIS POSTAUX",
         "19431"
        ],
        [
         "ANNABA EL MARSA",
         "18552"
        ],
        [
         "CTR CHLEF",
         "9293"
        ],
        [
         "ORAN COLIS POSTAUX",
         "8698"
        ],
        [
         "CDD SETIF",
         "8681"
        ],
        [
         "FRANCE",
         "6304"
        ],
        [
         "MALAISIE",
         "5552"
        ],
        [
         "CDD SKIKDA",
         "5102"
        ],
        [
         "ALLEMAGNE",
         "4296"
        ],
        [
         "CDD TLEMCEN",
         "4079"
        ],
        [
         "CDD MILA",
         "3815"
        ],
        [
         "CDD SOUK AHRAS",
         "3658"
        ],
        [
         "CDD JIJEL",
         "3630"
        ],
        [
         "CTR BISKRA",
         "3561"
        ],
        [
         "CHINE",
         "3507"
        ],
        [
         "CDD BLIDA",
         "3408"
        ],
        [
         "ÉMIRATS ARABES UNIS",
         "3300"
        ],
        [
         "CDD BATNA",
         "3025"
        ],
        [
         "CDD BOUIRA",
         "2790"
        ],
        [
         "CDD TIPAZA",
         "2517"
        ],
        [
         "CDD AIN DEFLA",
         "2513"
        ],
        [
         "CDD GUELMA",
         "2442"
        ],
        [
         "CDD BOUMERDES FRANTZ FANON",
         "2418"
        ],
        [
         "CDD BBA",
         "2219"
        ],
        [
         "CDD ALI MENDJELI",
         "2200"
        ],
        [
         "CDD BEJAIA",
         "2140"
        ],
        [
         "CDD CONSTANTINE",
         "2137"
        ],
        [
         "CDD TIZI-OUZOU",
         "2080"
        ],
        [
         "CDD-ALGER-MALIKA-GAID",
         "2070"
        ],
        [
         "CDD OUM EL BOUAGHI",
         "2000"
        ],
        [
         "CDD KOUBA",
         "1856"
        ],
        [
         "CDD BOUROUBA",
         "1817"
        ],
        [
         "CTR MEDEA",
         "1779"
        ],
        [
         "CDD CONSTANTINE ZIADIA",
         "1736"
        ],
        [
         "CDD MOSTAGHANEM",
         "1732"
        ],
        [
         "CDD BAB EZZOUAR",
         "1673"
        ],
        [
         "CDD RELIZANE",
         "1666"
        ],
        [
         "CDD SIDI BELABES",
         "1652"
        ],
        [
         "CONSTANTINE GARE",
         "1590"
        ],
        [
         "REGHAIA",
         "1498"
        ],
        [
         "MAGHNIA AZZOUNI",
         "1488"
        ],
        [
         "DAR EL BEIDA",
         "1487"
        ],
        [
         "CDD TISSEMSILT",
         "1420"
        ],
        [
         "BIRKHADEM",
         "1366"
        ],
        [
         "CDD EL OUED",
         "1343"
        ],
        [
         "CDD TIARET",
         "1335"
        ],
        [
         "DRARIA",
         "1328"
        ],
        [
         "CDD TEBESSA",
         "1328"
        ]
       ],
       "shape": {
        "columns": 1,
        "rows": 2449
       }
      },
      "text/plain": [
       "établissement_postal\n",
       "ALGER COLIS POSTAUX            120334\n",
       "ALGER GARE                      25902\n",
       "CONSTANTINE COLIS POSTAUX       19431\n",
       "ANNABA EL MARSA                 18552\n",
       "CTR CHLEF                        9293\n",
       "                                ...  \n",
       "MANSOURA-NOUVELLE                   1\n",
       "CHLEF-RP                            1\n",
       "BENI-MESTER                         1\n",
       "BIR-EL-DJIR Cdt GUERRAB Med         1\n",
       "KHESSIBIA                           1\n",
       "Name: count, Length: 2449, dtype: int64"
      ]
     },
     "execution_count": 9,
     "metadata": {},
     "output_type": "execute_result"
    }
   ],
   "source": [
    "\n",
    "# Count the occurrences of each protocol\n",
    "proto_counts = df['établissement_postal'].value_counts()\n",
    "\n",
    "proto_counts\n"
   ]
  },
  {
   "cell_type": "code",
   "execution_count": 51,
   "id": "8e84c609",
   "metadata": {},
   "outputs": [
    {
     "name": "stdout",
     "output_type": "stream",
     "text": [
      "next_établissement_postal\n",
      "ALGÉRIE                      18715\n",
      "ALGER GARE                   18269\n",
      "SECTION PAQUETS CPX ALGER    10072\n",
      "CONSTANTINE COLIS POSTAUX    10053\n",
      "ORAN COLIS POSTAUX            9183\n",
      "                             ...  \n",
      "TEBESSA-EZZOUHOUR                1\n",
      "DEUX BASSINS                     1\n",
      "NADORAH                          1\n",
      "AGOUNI GUEGHRANE                 1\n",
      "CHEGLIBI-MAKHLOUF                1\n",
      "Name: count, Length: 2370, dtype: int64\n"
     ]
    }
   ],
   "source": [
    "# Count the occurrences of each protocol\n",
    "proto_counts = df['next_établissement_postal'].value_counts()\n",
    "\n",
    "print(proto_counts)\n",
    "\n"
   ]
  },
  {
   "cell_type": "code",
   "execution_count": 52,
   "id": "a8ff1ba4",
   "metadata": {},
   "outputs": [
    {
     "name": "stdout",
     "output_type": "stream",
     "text": [
      "id\n",
      "SG    479567\n",
      "MY     19426\n",
      "AE     17563\n",
      "FR     15626\n",
      "CN      8465\n",
      "       ...  \n",
      "UY         1\n",
      "SD         1\n",
      "LY         1\n",
      "IR         1\n",
      "CO         1\n",
      "Name: count, Length: 134, dtype: int64\n"
     ]
    }
   ],
   "source": [
    "\n",
    "# Count the occurrences of each protocol\n",
    "proto_counts = df['id'].value_counts()\n",
    "\n",
    "print(proto_counts)\n",
    "\n",
    "s = proto_counts\n"
   ]
  },
  {
   "cell_type": "code",
   "execution_count": 53,
   "id": "bc7a80e2",
   "metadata": {},
   "outputs": [
    {
     "name": "stdout",
     "output_type": "stream",
     "text": [
      "id\n",
      "SINGAPOUR                        479567\n",
      "MALAISIE                          19426\n",
      "ÉMIRATS ARABES UNIS               17563\n",
      "FRANCE                            15626\n",
      "CHINE                              8465\n",
      "                                  ...  \n",
      "URUGUAY                               1\n",
      "SOUDAN                                1\n",
      "LIBYENNE, JAMAHIRIYA ARABE            1\n",
      "IRAN, RÉPUBLIQUE ISLAMIQUE D'         1\n",
      "COLOMBIE                              1\n",
      "Name: count, Length: 134, dtype: int64\n"
     ]
    }
   ],
   "source": [
    "# Map the Series index using the country_dict\n",
    "s.index = s.index.map(lambda code: country_dict.get(code, code))  # Keep unmapped codes as-is\n",
    "print(s)"
   ]
  },
  {
   "cell_type": "code",
   "execution_count": 10,
   "id": "ccd08de2",
   "metadata": {},
   "outputs": [
    {
     "name": "stdout",
     "output_type": "stream",
     "text": [
      "Min date: 2017-03-13 08:31:10\n",
      "Max date: 2025-05-21 15:21:05\n"
     ]
    }
   ],
   "source": [
    "print(\"Min date:\", df[\"date\"].min())\n",
    "print(\"Max date:\", df[\"date\"].max())"
   ]
  },
  {
   "cell_type": "code",
   "execution_count": 59,
   "id": "6acf2a8f",
   "metadata": {},
   "outputs": [
    {
     "name": "stderr",
     "output_type": "stream",
     "text": [
      "C:\\Users\\oussa\\AppData\\Local\\Temp\\ipykernel_6120\\579475394.py:2: UserWarning: The argument 'infer_datetime_format' is deprecated and will be removed in a future version. A strict version of it is now the default, see https://pandas.pydata.org/pdeps/0004-consistent-to-datetime-parsing.html. You can safely remove this argument.\n",
      "  df[\"date\"] = pd.to_datetime(df[\"date\"], infer_datetime_format=True)\n"
     ]
    }
   ],
   "source": [
    "df[\"date\"] = df[\"date\"].str.replace(r'\\.\\d+$', '', regex=True)\n",
    "df[\"date\"] = pd.to_datetime(df[\"date\"], infer_datetime_format=True)"
   ]
  },
  {
   "cell_type": "code",
   "execution_count": 42,
   "id": "9a6d3a40",
   "metadata": {},
   "outputs": [],
   "source": [
    "df = df.sort_values(by=[\"MAILITM_FID\", \"date\"])\n",
    "\n",
    "# Calculate time to next step\n",
    "df[\"duration_to_next_step\"] = df.groupby(\"MAILITM_FID\")[\"date\"].shift(-1) - df[\"date\"]\n",
    "\n",
    "# Calculate total duration per ID\n",
    "first_date = df.groupby(\"MAILITM_FID\")[\"date\"].transform(\"first\")\n",
    "last_date = df.groupby(\"MAILITM_FID\")[\"date\"].transform(\"last\")\n",
    "df[\"total_duration\"] = last_date - first_date\n",
    "\n",
    "\n"
   ]
  },
  {
   "cell_type": "code",
   "execution_count": 31,
   "id": "0d6f26da",
   "metadata": {},
   "outputs": [
    {
     "data": {
      "application/vnd.microsoft.datawrangler.viewer.v0+json": {
       "columns": [
        {
         "name": "index",
         "rawType": "int64",
         "type": "integer"
        },
        {
         "name": "MAILITM_FID",
         "rawType": "object",
         "type": "string"
        },
        {
         "name": "date",
         "rawType": "datetime64[ns]",
         "type": "datetime"
        },
        {
         "name": "EVENT_TYPE_NM",
         "rawType": "object",
         "type": "string"
        },
        {
         "name": "duration_to_next_step",
         "rawType": "timedelta64[ns]",
         "type": "unknown"
        },
        {
         "name": "total_duration",
         "rawType": "timedelta64[ns]",
         "type": "unknown"
        }
       ],
       "ref": "a95567e5-54aa-422c-b408-c56153f877f9",
       "rows": [
        [
         "0",
         "CA000020844RU",
         "2024-12-10 16:40:00",
         "Réception d'envoi du client (Srt)",
         null,
         "0 days 00:00:00"
        ],
        [
         "1",
         "CA000306674TG",
         "2023-04-20 12:14:00",
         "Réception d'envoi du client (Srt)",
         null,
         "0 days 00:00:00"
        ],
        [
         "2",
         "CA000422162US",
         "2025-02-03 15:10:00",
         "Réception d'envoi du client (Srt)",
         "12 days 17:45:47",
         "28 days 18:51:38"
        ],
        [
         "3",
         "CA000422162US",
         "2025-02-16 08:55:47",
         "Recevoir envoi au bureau d'échange (Ent)",
         "0 days 01:29:54",
         "28 days 18:51:38"
        ],
        [
         "4",
         "CA000422162US",
         "2025-02-16 10:25:41",
         "Expédier envoi à adresse nationale (Ent)",
         "0 days 00:00:47",
         "28 days 18:51:38"
        ],
        [
         "5",
         "CA000422162US",
         "2025-02-16 10:26:28",
         "Expédier envoi à adresse nationale (Ent)",
         "1 days 00:24:37",
         "28 days 18:51:38"
        ],
        [
         "6",
         "CA000422162US",
         "2025-02-17 10:51:05",
         "Expédier envoi à adresse nationale (Ent)",
         "10 days 03:03:13",
         "28 days 18:51:38"
        ],
        [
         "7",
         "CA000422162US",
         "2025-02-27 13:54:18",
         "Recevoir envoi au bureau de livraison (Ent)",
         "0 days 00:47:27",
         "28 days 18:51:38"
        ],
        [
         "8",
         "CA000422162US",
         "2025-02-27 14:41:45",
         "Expédier envoi à adresse nationale (Ent)",
         "1 days 17:56:51",
         "28 days 18:51:38"
        ],
        [
         "9",
         "CA000422162US",
         "2025-03-01 08:38:36",
         "Recevoir envoi au bureau de livraison (Ent)",
         "0 days 00:01:37",
         "28 days 18:51:38"
        ]
       ],
       "shape": {
        "columns": 5,
        "rows": 10
       }
      },
      "text/html": [
       "<div>\n",
       "<style scoped>\n",
       "    .dataframe tbody tr th:only-of-type {\n",
       "        vertical-align: middle;\n",
       "    }\n",
       "\n",
       "    .dataframe tbody tr th {\n",
       "        vertical-align: top;\n",
       "    }\n",
       "\n",
       "    .dataframe thead th {\n",
       "        text-align: right;\n",
       "    }\n",
       "</style>\n",
       "<table border=\"1\" class=\"dataframe\">\n",
       "  <thead>\n",
       "    <tr style=\"text-align: right;\">\n",
       "      <th></th>\n",
       "      <th>MAILITM_FID</th>\n",
       "      <th>date</th>\n",
       "      <th>EVENT_TYPE_NM</th>\n",
       "      <th>duration_to_next_step</th>\n",
       "      <th>total_duration</th>\n",
       "    </tr>\n",
       "  </thead>\n",
       "  <tbody>\n",
       "    <tr>\n",
       "      <th>0</th>\n",
       "      <td>CA000020844RU</td>\n",
       "      <td>2024-12-10 16:40:00</td>\n",
       "      <td>Réception d'envoi du client (Srt)</td>\n",
       "      <td>NaT</td>\n",
       "      <td>0 days 00:00:00</td>\n",
       "    </tr>\n",
       "    <tr>\n",
       "      <th>1</th>\n",
       "      <td>CA000306674TG</td>\n",
       "      <td>2023-04-20 12:14:00</td>\n",
       "      <td>Réception d'envoi du client (Srt)</td>\n",
       "      <td>NaT</td>\n",
       "      <td>0 days 00:00:00</td>\n",
       "    </tr>\n",
       "    <tr>\n",
       "      <th>2</th>\n",
       "      <td>CA000422162US</td>\n",
       "      <td>2025-02-03 15:10:00</td>\n",
       "      <td>Réception d'envoi du client (Srt)</td>\n",
       "      <td>12 days 17:45:47</td>\n",
       "      <td>28 days 18:51:38</td>\n",
       "    </tr>\n",
       "    <tr>\n",
       "      <th>3</th>\n",
       "      <td>CA000422162US</td>\n",
       "      <td>2025-02-16 08:55:47</td>\n",
       "      <td>Recevoir envoi au bureau d'échange (Ent)</td>\n",
       "      <td>0 days 01:29:54</td>\n",
       "      <td>28 days 18:51:38</td>\n",
       "    </tr>\n",
       "    <tr>\n",
       "      <th>4</th>\n",
       "      <td>CA000422162US</td>\n",
       "      <td>2025-02-16 10:25:41</td>\n",
       "      <td>Expédier envoi à adresse nationale (Ent)</td>\n",
       "      <td>0 days 00:00:47</td>\n",
       "      <td>28 days 18:51:38</td>\n",
       "    </tr>\n",
       "    <tr>\n",
       "      <th>5</th>\n",
       "      <td>CA000422162US</td>\n",
       "      <td>2025-02-16 10:26:28</td>\n",
       "      <td>Expédier envoi à adresse nationale (Ent)</td>\n",
       "      <td>1 days 00:24:37</td>\n",
       "      <td>28 days 18:51:38</td>\n",
       "    </tr>\n",
       "    <tr>\n",
       "      <th>6</th>\n",
       "      <td>CA000422162US</td>\n",
       "      <td>2025-02-17 10:51:05</td>\n",
       "      <td>Expédier envoi à adresse nationale (Ent)</td>\n",
       "      <td>10 days 03:03:13</td>\n",
       "      <td>28 days 18:51:38</td>\n",
       "    </tr>\n",
       "    <tr>\n",
       "      <th>7</th>\n",
       "      <td>CA000422162US</td>\n",
       "      <td>2025-02-27 13:54:18</td>\n",
       "      <td>Recevoir envoi au bureau de livraison (Ent)</td>\n",
       "      <td>0 days 00:47:27</td>\n",
       "      <td>28 days 18:51:38</td>\n",
       "    </tr>\n",
       "    <tr>\n",
       "      <th>8</th>\n",
       "      <td>CA000422162US</td>\n",
       "      <td>2025-02-27 14:41:45</td>\n",
       "      <td>Expédier envoi à adresse nationale (Ent)</td>\n",
       "      <td>1 days 17:56:51</td>\n",
       "      <td>28 days 18:51:38</td>\n",
       "    </tr>\n",
       "    <tr>\n",
       "      <th>9</th>\n",
       "      <td>CA000422162US</td>\n",
       "      <td>2025-03-01 08:38:36</td>\n",
       "      <td>Recevoir envoi au bureau de livraison (Ent)</td>\n",
       "      <td>0 days 00:01:37</td>\n",
       "      <td>28 days 18:51:38</td>\n",
       "    </tr>\n",
       "  </tbody>\n",
       "</table>\n",
       "</div>"
      ],
      "text/plain": [
       "     MAILITM_FID                date  \\\n",
       "0  CA000020844RU 2024-12-10 16:40:00   \n",
       "1  CA000306674TG 2023-04-20 12:14:00   \n",
       "2  CA000422162US 2025-02-03 15:10:00   \n",
       "3  CA000422162US 2025-02-16 08:55:47   \n",
       "4  CA000422162US 2025-02-16 10:25:41   \n",
       "5  CA000422162US 2025-02-16 10:26:28   \n",
       "6  CA000422162US 2025-02-17 10:51:05   \n",
       "7  CA000422162US 2025-02-27 13:54:18   \n",
       "8  CA000422162US 2025-02-27 14:41:45   \n",
       "9  CA000422162US 2025-03-01 08:38:36   \n",
       "\n",
       "                                 EVENT_TYPE_NM duration_to_next_step  \\\n",
       "0            Réception d'envoi du client (Srt)                   NaT   \n",
       "1            Réception d'envoi du client (Srt)                   NaT   \n",
       "2            Réception d'envoi du client (Srt)      12 days 17:45:47   \n",
       "3     Recevoir envoi au bureau d'échange (Ent)       0 days 01:29:54   \n",
       "4     Expédier envoi à adresse nationale (Ent)       0 days 00:00:47   \n",
       "5     Expédier envoi à adresse nationale (Ent)       1 days 00:24:37   \n",
       "6     Expédier envoi à adresse nationale (Ent)      10 days 03:03:13   \n",
       "7  Recevoir envoi au bureau de livraison (Ent)       0 days 00:47:27   \n",
       "8     Expédier envoi à adresse nationale (Ent)       1 days 17:56:51   \n",
       "9  Recevoir envoi au bureau de livraison (Ent)       0 days 00:01:37   \n",
       "\n",
       "    total_duration  \n",
       "0  0 days 00:00:00  \n",
       "1  0 days 00:00:00  \n",
       "2 28 days 18:51:38  \n",
       "3 28 days 18:51:38  \n",
       "4 28 days 18:51:38  \n",
       "5 28 days 18:51:38  \n",
       "6 28 days 18:51:38  \n",
       "7 28 days 18:51:38  \n",
       "8 28 days 18:51:38  \n",
       "9 28 days 18:51:38  "
      ]
     },
     "execution_count": 31,
     "metadata": {},
     "output_type": "execute_result"
    }
   ],
   "source": [
    "# Preview the updated dataset\n",
    "df[[\"MAILITM_FID\", \"date\", \"EVENT_TYPE_NM\", \"duration_to_next_step\", \"total_duration\"]].head(10)"
   ]
  },
  {
   "cell_type": "code",
   "execution_count": 43,
   "id": "8c2892dc",
   "metadata": {},
   "outputs": [
    {
     "data": {
      "text/plain": [
       "(13258, 9)"
      ]
     },
     "execution_count": 43,
     "metadata": {},
     "output_type": "execute_result"
    }
   ],
   "source": [
    "# Filter rows where total_duration is NOT zero\n",
    "zero_duration_df = df[df[\"total_duration\"] == pd.Timedelta(days = 0)]\n",
    "\n",
    "# Display the first few rows as a check\n",
    "zero_duration_df.shape\n"
   ]
  },
  {
   "cell_type": "code",
   "execution_count": 44,
   "id": "df1b35b9",
   "metadata": {},
   "outputs": [
    {
     "name": "stdout",
     "output_type": "stream",
     "text": [
      "id\n",
      "ae    2850\n",
      "SG    2773\n",
      "DE    1054\n",
      "CN     808\n",
      "US     730\n",
      "      ... \n",
      "NC       1\n",
      "LI       1\n",
      "PA       1\n",
      "CO       1\n",
      "LY       1\n",
      "Name: count, Length: 113, dtype: int64\n"
     ]
    }
   ],
   "source": [
    "\n",
    "# Count the occurrences of each protocol\n",
    "countries = zero_duration_df['id'].value_counts()\n",
    "\n",
    "print(countries)\n"
   ]
  },
  {
   "cell_type": "code",
   "execution_count": 45,
   "id": "e851fa13",
   "metadata": {},
   "outputs": [
    {
     "name": "stdout",
     "output_type": "stream",
     "text": [
      "id\n",
      "ae                            2850\n",
      "SINGAPOUR                     2773\n",
      "ALLEMAGNE                     1054\n",
      "CHINE                          808\n",
      "ÉTATS-UNIS                     730\n",
      "                              ... \n",
      "NOUVELLE-CALÉDONIE               1\n",
      "LIECHTENSTEIN                    1\n",
      "PANAMA                           1\n",
      "COLOMBIE                         1\n",
      "LIBYENNE, JAMAHIRIYA ARABE       1\n",
      "Name: count, Length: 113, dtype: int64\n"
     ]
    }
   ],
   "source": [
    "# Map the Series index using the country_dict\n",
    "countries.index = countries.index.map(lambda code: country_dict.get(code, code))  \n",
    "print(countries)"
   ]
  },
  {
   "cell_type": "code",
   "execution_count": 46,
   "id": "8a647bfb",
   "metadata": {},
   "outputs": [
    {
     "name": "stdout",
     "output_type": "stream",
     "text": [
      "count\n",
      "1    13210\n",
      "2       24\n",
      "Name: count, dtype: int64\n"
     ]
    }
   ],
   "source": [
    "# Step 1: Count how many times each ID appears\n",
    "id_counts = zero_duration_df[\"MAILITM_FID\"].value_counts()\n",
    "\n",
    "# Step 2: Count how many IDs have a specific count\n",
    "count_of_counts = id_counts.value_counts().sort_index()\n",
    "\n",
    "print(count_of_counts)\n"
   ]
  },
  {
   "cell_type": "code",
   "execution_count": 47,
   "id": "b2afa544",
   "metadata": {},
   "outputs": [
    {
     "data": {
      "application/vnd.microsoft.datawrangler.viewer.v0+json": {
       "columns": [
        {
         "name": "index",
         "rawType": "int64",
         "type": "integer"
        },
        {
         "name": "MAILITM_FID",
         "rawType": "object",
         "type": "string"
        },
        {
         "name": "EVENT_TYPE_NM",
         "rawType": "object",
         "type": "string"
        },
        {
         "name": "date",
         "rawType": "datetime64[ns]",
         "type": "datetime"
        },
        {
         "name": "établissement_postal",
         "rawType": "object",
         "type": "unknown"
        },
        {
         "name": "EVENT_TYPE_CD",
         "rawType": "int64",
         "type": "integer"
        },
        {
         "name": "next_établissement_postal",
         "rawType": "object",
         "type": "unknown"
        },
        {
         "name": "id",
         "rawType": "object",
         "type": "string"
        },
        {
         "name": "duration_to_next_step",
         "rawType": "timedelta64[ns]",
         "type": "unknown"
        },
        {
         "name": "total_duration",
         "rawType": "timedelta64[ns]",
         "type": "unknown"
        }
       ],
       "ref": "2401cccc-014b-4674-bc4b-2ab54629c315",
       "rows": [
        [
         "0",
         "CA000020844RU",
         "Réception d'envoi du client (Srt)",
         "2024-12-10 16:40:00",
         "RUSSIE, FÉDÉRATION DE",
         "1",
         null,
         "RU",
         null,
         "0 days 00:00:00"
        ],
        [
         "1",
         "CA000306674TG",
         "Réception d'envoi du client (Srt)",
         "2023-04-20 12:14:00",
         null,
         "1",
         null,
         "TG",
         null,
         "0 days 00:00:00"
        ],
        [
         "23",
         "CA001056995US",
         "Réception d'envoi du client (Srt)",
         "2025-04-25 12:39:00",
         "ÉTATS-UNIS",
         "1",
         null,
         "US",
         null,
         "0 days 00:00:00"
        ],
        [
         "24",
         "CA001285128JE",
         "Réception d'envoi du client (Srt)",
         "2024-10-08 23:37:00",
         null,
         "1",
         null,
         "JE",
         null,
         "0 days 00:00:00"
        ],
        [
         "74",
         "CA001498423PT",
         "Insérer envoi dans sac (Srt)",
         "2023-05-05 13:04:00",
         "PORTUGAL",
         "8",
         null,
         "PT",
         null,
         "0 days 00:00:00"
        ]
       ],
       "shape": {
        "columns": 9,
        "rows": 5
       }
      },
      "text/html": [
       "<div>\n",
       "<style scoped>\n",
       "    .dataframe tbody tr th:only-of-type {\n",
       "        vertical-align: middle;\n",
       "    }\n",
       "\n",
       "    .dataframe tbody tr th {\n",
       "        vertical-align: top;\n",
       "    }\n",
       "\n",
       "    .dataframe thead th {\n",
       "        text-align: right;\n",
       "    }\n",
       "</style>\n",
       "<table border=\"1\" class=\"dataframe\">\n",
       "  <thead>\n",
       "    <tr style=\"text-align: right;\">\n",
       "      <th></th>\n",
       "      <th>MAILITM_FID</th>\n",
       "      <th>EVENT_TYPE_NM</th>\n",
       "      <th>date</th>\n",
       "      <th>établissement_postal</th>\n",
       "      <th>EVENT_TYPE_CD</th>\n",
       "      <th>next_établissement_postal</th>\n",
       "      <th>id</th>\n",
       "      <th>duration_to_next_step</th>\n",
       "      <th>total_duration</th>\n",
       "    </tr>\n",
       "  </thead>\n",
       "  <tbody>\n",
       "    <tr>\n",
       "      <th>0</th>\n",
       "      <td>CA000020844RU</td>\n",
       "      <td>Réception d'envoi du client (Srt)</td>\n",
       "      <td>2024-12-10 16:40:00</td>\n",
       "      <td>RUSSIE, FÉDÉRATION DE</td>\n",
       "      <td>1</td>\n",
       "      <td>NaN</td>\n",
       "      <td>RU</td>\n",
       "      <td>NaT</td>\n",
       "      <td>0 days</td>\n",
       "    </tr>\n",
       "    <tr>\n",
       "      <th>1</th>\n",
       "      <td>CA000306674TG</td>\n",
       "      <td>Réception d'envoi du client (Srt)</td>\n",
       "      <td>2023-04-20 12:14:00</td>\n",
       "      <td>NaN</td>\n",
       "      <td>1</td>\n",
       "      <td>NaN</td>\n",
       "      <td>TG</td>\n",
       "      <td>NaT</td>\n",
       "      <td>0 days</td>\n",
       "    </tr>\n",
       "    <tr>\n",
       "      <th>23</th>\n",
       "      <td>CA001056995US</td>\n",
       "      <td>Réception d'envoi du client (Srt)</td>\n",
       "      <td>2025-04-25 12:39:00</td>\n",
       "      <td>ÉTATS-UNIS</td>\n",
       "      <td>1</td>\n",
       "      <td>NaN</td>\n",
       "      <td>US</td>\n",
       "      <td>NaT</td>\n",
       "      <td>0 days</td>\n",
       "    </tr>\n",
       "    <tr>\n",
       "      <th>24</th>\n",
       "      <td>CA001285128JE</td>\n",
       "      <td>Réception d'envoi du client (Srt)</td>\n",
       "      <td>2024-10-08 23:37:00</td>\n",
       "      <td>NaN</td>\n",
       "      <td>1</td>\n",
       "      <td>NaN</td>\n",
       "      <td>JE</td>\n",
       "      <td>NaT</td>\n",
       "      <td>0 days</td>\n",
       "    </tr>\n",
       "    <tr>\n",
       "      <th>74</th>\n",
       "      <td>CA001498423PT</td>\n",
       "      <td>Insérer envoi dans sac (Srt)</td>\n",
       "      <td>2023-05-05 13:04:00</td>\n",
       "      <td>PORTUGAL</td>\n",
       "      <td>8</td>\n",
       "      <td>NaN</td>\n",
       "      <td>PT</td>\n",
       "      <td>NaT</td>\n",
       "      <td>0 days</td>\n",
       "    </tr>\n",
       "  </tbody>\n",
       "</table>\n",
       "</div>"
      ],
      "text/plain": [
       "      MAILITM_FID                      EVENT_TYPE_NM                date  \\\n",
       "0   CA000020844RU  Réception d'envoi du client (Srt) 2024-12-10 16:40:00   \n",
       "1   CA000306674TG  Réception d'envoi du client (Srt) 2023-04-20 12:14:00   \n",
       "23  CA001056995US  Réception d'envoi du client (Srt) 2025-04-25 12:39:00   \n",
       "24  CA001285128JE  Réception d'envoi du client (Srt) 2024-10-08 23:37:00   \n",
       "74  CA001498423PT       Insérer envoi dans sac (Srt) 2023-05-05 13:04:00   \n",
       "\n",
       "     établissement_postal  EVENT_TYPE_CD next_établissement_postal  id  \\\n",
       "0   RUSSIE, FÉDÉRATION DE              1                       NaN  RU   \n",
       "1                     NaN              1                       NaN  TG   \n",
       "23             ÉTATS-UNIS              1                       NaN  US   \n",
       "24                    NaN              1                       NaN  JE   \n",
       "74               PORTUGAL              8                       NaN  PT   \n",
       "\n",
       "   duration_to_next_step total_duration  \n",
       "0                    NaT         0 days  \n",
       "1                    NaT         0 days  \n",
       "23                   NaT         0 days  \n",
       "24                   NaT         0 days  \n",
       "74                   NaT         0 days  "
      ]
     },
     "execution_count": 47,
     "metadata": {},
     "output_type": "execute_result"
    }
   ],
   "source": [
    "ids_with_0 = id_counts[id_counts == 1].index\n",
    "df_with_0 = df[df[\"MAILITM_FID\"].isin(ids_with_0)]\n",
    "df_with_0.head()"
   ]
  },
  {
   "cell_type": "code",
   "execution_count": 48,
   "id": "3de28be6",
   "metadata": {},
   "outputs": [
    {
     "name": "stdout",
     "output_type": "stream",
     "text": [
      "EVENT_TYPE_NM\n",
      "Expédition d'envoi à l'étranger (EDI-reçu)    6575\n",
      "Réception d'envoi du client (Srt)             3668\n",
      "Insérer envoi dans sac (Srt)                  2967\n",
      "Name: count, dtype: int64\n"
     ]
    }
   ],
   "source": [
    "\n",
    "# Count the occurrences of each protocol\n",
    "event_type = df_with_0['EVENT_TYPE_NM'].value_counts()\n",
    "\n",
    "print(event_type)\n",
    "\n"
   ]
  },
  {
   "cell_type": "code",
   "execution_count": 49,
   "id": "c0b7faf2",
   "metadata": {},
   "outputs": [
    {
     "name": "stdout",
     "output_type": "stream",
     "text": [
      "(567652, 9)\n"
     ]
    }
   ],
   "source": [
    "# Drop rows where total_duration is zero\n",
    "df = df[df[\"total_duration\"] != pd.Timedelta(0)]\n",
    "\n",
    "# Check the shape after dropping\n",
    "print(df.shape)\n"
   ]
  },
  {
   "cell_type": "code",
   "execution_count": 50,
   "id": "e5215d31",
   "metadata": {},
   "outputs": [],
   "source": [
    "df.to_csv(file_name, index=False, encoding='utf-8-sig')"
   ]
  },
  {
   "cell_type": "code",
   "execution_count": null,
   "id": "93ae86aa",
   "metadata": {},
   "outputs": [],
   "source": []
  }
 ],
 "metadata": {
  "kernelspec": {
   "display_name": "base",
   "language": "python",
   "name": "python3"
  },
  "language_info": {
   "codemirror_mode": {
    "name": "ipython",
    "version": 3
   },
   "file_extension": ".py",
   "mimetype": "text/x-python",
   "name": "python",
   "nbconvert_exporter": "python",
   "pygments_lexer": "ipython3",
   "version": "3.10.9"
  }
 },
 "nbformat": 4,
 "nbformat_minor": 5
}
