{
 "cells": [
  {
   "cell_type": "code",
   "execution_count": 1,
   "id": "7dc48e25",
   "metadata": {},
   "outputs": [],
   "source": [
    "import pandas as pd\n",
    "import numpy as np\n",
    "import matplotlib.pyplot as plt\n",
    "import seaborn as sns\n",
    "%matplotlib inline"
   ]
  },
  {
   "cell_type": "code",
   "execution_count": 2,
   "id": "2ed4022b",
   "metadata": {},
   "outputs": [],
   "source": [
    "file_name = \"df_count_4.csv\"   "
   ]
  },
  {
   "cell_type": "code",
   "execution_count": 3,
   "id": "b46b746c",
   "metadata": {},
   "outputs": [
    {
     "name": "stderr",
     "output_type": "stream",
     "text": [
      "C:\\Users\\oussa\\AppData\\Local\\Temp\\ipykernel_22948\\1571972478.py:1: DtypeWarning: Columns (0,6,8) have mixed types. Specify dtype option on import or set low_memory=False.\n",
      "  df = pd.read_csv(file_name , parse_dates=[\"date\"])\n"
     ]
    }
   ],
   "source": [
    " \n",
    "df = pd.read_csv(file_name , parse_dates=[\"date\"])\n"
   ]
  },
  {
   "cell_type": "code",
   "execution_count": 4,
   "id": "bec3e2eb",
   "metadata": {},
   "outputs": [
    {
     "data": {
      "text/plain": [
       "(9170982, 10)"
      ]
     },
     "execution_count": 4,
     "metadata": {},
     "output_type": "execute_result"
    }
   ],
   "source": [
    "df.shape"
   ]
  },
  {
   "cell_type": "code",
   "execution_count": 5,
   "id": "ed9bfdeb",
   "metadata": {},
   "outputs": [],
   "source": [
    "# Read the country reference file\n",
    "df_countries = pd.read_csv(\"CT_COUNTRIES.csv\", sep=\";\", header=None, names=[\"code\", \"lang\", \"name\"])\n",
    "\n",
    "country_dict = df_countries.set_index(\"code\")[\"name\"].to_dict()"
   ]
  },
  {
   "cell_type": "code",
   "execution_count": 6,
   "id": "789237c0",
   "metadata": {},
   "outputs": [
    {
     "name": "stdout",
     "output_type": "stream",
     "text": [
      "Number of duplicate rows (ignoring specified columns): 2465487\n"
     ]
    }
   ],
   "source": [
    "# Define columns to ignore when checking duplicates\n",
    "cols_ignore = [\"RECPTCL_FID\", \"duration_to_next_step\", \"total_duration\", \"id\"]\n",
    "cols_check  = [c for c in df.columns if c not in cols_ignore]\n",
    "\n",
    "# 1. Identify all duplicate rows based on cols_check\n",
    "dup_mask = df.duplicated(subset=cols_check, keep=False)\n",
    "\n",
    "# 2. Number of such duplicate rows\n",
    "num_duplicates = dup_mask.sum()\n",
    "print(f\"Number of duplicate rows (ignoring specified columns): {num_duplicates}\")\n",
    "\n",
    "\n"
   ]
  },
  {
   "cell_type": "code",
   "execution_count": 7,
   "id": "eee67ebd",
   "metadata": {},
   "outputs": [],
   "source": [
    "df = df.drop_duplicates(subset=cols_check, keep=\"first\").reset_index(drop=True)"
   ]
  },
  {
   "cell_type": "code",
   "execution_count": 15,
   "id": "75165af8",
   "metadata": {},
   "outputs": [
    {
     "data": {
      "text/plain": [
       "(7938238, 7)"
      ]
     },
     "execution_count": 15,
     "metadata": {},
     "output_type": "execute_result"
    }
   ],
   "source": [
    "df.shape"
   ]
  },
  {
   "cell_type": "code",
   "execution_count": 8,
   "id": "8d148084",
   "metadata": {},
   "outputs": [
    {
     "name": "stdout",
     "output_type": "stream",
     "text": [
      "First-event frequencies:\n",
      "Insérer envoi dans sac (Srt)             702,223\n",
      "Réception d'envoi du client (Srt)        28,391\n",
      "Expédition d'envoi à l'étranger (EDI-reçu) 51\n"
     ]
    }
   ],
   "source": [
    "import pandas as pd\n",
    "\n",
    "ID_COL    = \"MAILITM_FID\"\n",
    "EVENT_COL = \"EVENT_TYPE_NM\"\n",
    "\n",
    "# 1) pick the first row per parcel (rows are already in correct order)\n",
    "first_events = (\n",
    "    df.groupby(ID_COL, sort=False)[EVENT_COL]\n",
    "      .first()                 # a Series: index = parcel ID, value = first event\n",
    ")\n",
    "\n",
    "# 2) count how many parcels have each first event\n",
    "event_counts = (\n",
    "    first_events.value_counts()   # Series: index = event, value = count\n",
    "               .sort_values(ascending=False)\n",
    ")\n",
    "\n",
    "# 3) print the result\n",
    "print(\"First-event frequencies:\")\n",
    "for event, count in event_counts.items():\n",
    "    print(f\"{event:40} {count:,}\")\n"
   ]
  },
  {
   "cell_type": "code",
   "execution_count": 9,
   "id": "a59e7f14",
   "metadata": {},
   "outputs": [
    {
     "name": "stdout",
     "output_type": "stream",
     "text": [
      "RECPTCL_FID                   779889\n",
      "établissement_postal           45580\n",
      "next_établissement_postal    5188569\n",
      "duration_to_next_step        2637256\n",
      "dtype: int64\n"
     ]
    }
   ],
   "source": [
    "missing_values = df.isnull().sum()\n",
    "missing_columns = missing_values[missing_values > 0]\n",
    "print(missing_columns)"
   ]
  },
  {
   "cell_type": "code",
   "execution_count": 10,
   "id": "e6e8e14c",
   "metadata": {},
   "outputs": [],
   "source": [
    "df = df.drop(columns=[\"RECPTCL_FID\", \"duration_to_next_step\", \"total_duration\"])"
   ]
  },
  {
   "cell_type": "code",
   "execution_count": 11,
   "id": "32d936e7",
   "metadata": {},
   "outputs": [
    {
     "name": "stdout",
     "output_type": "stream",
     "text": [
      "établissement_postal           45580\n",
      "next_établissement_postal    5188569\n",
      "dtype: int64\n"
     ]
    }
   ],
   "source": [
    "missing_values = df.isnull().sum()\n",
    "missing_columns = missing_values[missing_values > 0]\n",
    "print(missing_columns)"
   ]
  },
  {
   "cell_type": "code",
   "execution_count": 12,
   "id": "38f06752",
   "metadata": {},
   "outputs": [
    {
     "name": "stdout",
     "output_type": "stream",
     "text": [
      "Total rows with missing values: 5208531\n"
     ]
    }
   ],
   "source": [
    "\n",
    "# Assuming 'df' is your DataFrame!\n",
    "\n",
    "# Identify the rows with missing values\n",
    "missing_rows = df[df.isnull().any(axis=1)]\n",
    "\n",
    "# Print the total number of rows that have missing values\n",
    "print(\"Total rows with missing values:\", missing_rows.shape[0])\n",
    "\n",
    "\n"
   ]
  },
  {
   "cell_type": "code",
   "execution_count": 13,
   "id": "47bc4e02",
   "metadata": {},
   "outputs": [
    {
     "name": "stdout",
     "output_type": "stream",
     "text": [
      "\n",
      "Summary of missing patterns (tuple of 0's and 1's corresponding to missing values in each column):\n",
      "(0, 0, 0, 0, 0, 1, 0)    5162951\n",
      "(0, 0, 0, 1, 0, 1, 0)      25618\n",
      "(0, 0, 0, 1, 0, 0, 0)      19962\n",
      "dtype: int64\n"
     ]
    }
   ],
   "source": [
    "# Analyze the missing patterns across rows:\n",
    "# Create a binary pattern for each row where 1 indicates a missing value and 0 indicates non-missing.\n",
    "missing_pattern = missing_rows.isnull().astype(int)\n",
    "# Convert each pattern to a tuple to use as a key for groupby\n",
    "missing_pattern_tuples = missing_pattern.apply(tuple, axis=1)\n",
    "# Group by the missing pattern and count the number of rows for each pattern\n",
    "pattern_summary = missing_rows.groupby(missing_pattern_tuples).size().sort_values(ascending=False)\n",
    "\n",
    "print(\"\\nSummary of missing patterns (tuple of 0's and 1's corresponding to missing values in each column):\")\n",
    "print(pattern_summary)\n",
    "\n"
   ]
  },
  {
   "cell_type": "code",
   "execution_count": 14,
   "id": "9c54464c",
   "metadata": {},
   "outputs": [
    {
     "name": "stdout",
     "output_type": "stream",
     "text": [
      "EVENT_TYPE_NM                     24\n",
      "EVENT_TYPE_CD                     24\n",
      "id                                57\n",
      "next_établissement_postal       3378\n",
      "établissement_postal            3539\n",
      "MAILITM_FID                   730665\n",
      "date                         6160639\n",
      "dtype: int64\n"
     ]
    }
   ],
   "source": [
    "distinct_values_count = df.nunique()\n",
    "\n",
    "distinct_values_count = distinct_values_count.sort_values(ascending=True)\n",
    "\n",
    "print(distinct_values_count)"
   ]
  },
  {
   "cell_type": "code",
   "execution_count": 16,
   "id": "6f3c108a",
   "metadata": {},
   "outputs": [
    {
     "name": "stdout",
     "output_type": "stream",
     "text": [
      "EVENT_TYPE_NM\n",
      "Recevoir envoi au bureau de livraison (Ent)                    1536891\n",
      "Expédier envoi à adresse nationale (Ent)                       1048919\n",
      "Expédier envoi à adresse nationale (Srt)                        952032\n",
      "Vaine tentative de livraison d'envoi (Ent)                      894172\n",
      "Insérer envoi dans sac (Srt)                                    758703\n",
      "Recevoir envoi au bureau d'échange (Ent)                        744151\n",
      "Expédition d'envoi à l'étranger (EDI-reçu)                      733535\n",
      "Livraison d'envoi (Ent)                                         690459\n",
      "Transmettre envoi à l'agent de livraison (Ent)                  413004\n",
      "Enregistrer détails d'envoi au bureau d'échange (Srt)           106371\n",
      "Réception d'envoi du client (Srt)                                29788\n",
      "Expédier envoi à la douane (Ent)                                 15041\n",
      "Renvoyer envoi de la douane (Ent)                                 7054\n",
      "Recevoir envoi au bureau d'échange (Srt)                          5569\n",
      "Renvoyer envoi de la douane (Srt)                                 1146\n",
      "Recevoir envoi au lieu (Ent)                                       488\n",
      "Enregistrer raison de rétention d'envoi par la douane (Srt)        346\n",
      "Mettre à jour envoi (Ent)                                          277\n",
      "Enregistrer informations douanières d'envoi (Ent)                  268\n",
      "Recevoir envoi au lieu (Srt)                                        15\n",
      "Expédier envoi à la douane (Srt)                                     4\n",
      "Supprimer envoi du sac (Srt)                                         3\n",
      "Garder envoi au point de livraison (Ent)                             1\n",
      "Garder envoi au bureau d'échange (Ent)                               1\n",
      "Name: count, dtype: int64\n"
     ]
    }
   ],
   "source": [
    "\n",
    "# Count the occurrences of each protocol\n",
    "event_type = df['EVENT_TYPE_NM'].value_counts()\n",
    "\n",
    "print(event_type)\n"
   ]
  },
  {
   "cell_type": "code",
   "execution_count": 17,
   "id": "ab434c1f",
   "metadata": {},
   "outputs": [
    {
     "name": "stdout",
     "output_type": "stream",
     "text": [
      "établissement_postal\n",
      "SINGAPOUR                    1410261\n",
      "ALGER GARE                    895155\n",
      "ALGER COLIS POSTAUX           829610\n",
      "CONSTANTINE COLIS POSTAUX     281558\n",
      "ANNABA EL MARSA               172956\n",
      "                              ...   \n",
      "Agence EMS SILA                    1\n",
      "BOUDJELIKH                         1\n",
      "TAGHOUZI                           1\n",
      "RAS-EL-AIN                         1\n",
      "GARIDI 1B                          1\n",
      "Name: count, Length: 3539, dtype: int64\n"
     ]
    }
   ],
   "source": [
    "\n",
    "# Count the occurrences of each protocol\n",
    "proto_counts = df['établissement_postal'].value_counts()\n",
    "\n",
    "print(proto_counts)\n"
   ]
  },
  {
   "cell_type": "code",
   "execution_count": 18,
   "id": "8e84c609",
   "metadata": {},
   "outputs": [
    {
     "name": "stdout",
     "output_type": "stream",
     "text": [
      "next_établissement_postal\n",
      "ALGÉRIE                      733535\n",
      "ALGER GARE                   254897\n",
      "CONSTANTINE COLIS POSTAUX    108377\n",
      "ORAN COLIS POSTAUX           104986\n",
      "ANNABA EL MARSA               83783\n",
      "                              ...  \n",
      "EL-ATHMANIA                       1\n",
      "DJEMAA                            1\n",
      "ZEMOURA                           1\n",
      "NADOR-M NAOUER                    1\n",
      "OULED FAYET-02                    1\n",
      "Name: count, Length: 3378, dtype: int64\n"
     ]
    }
   ],
   "source": [
    "# Count the occurrences of each protocol\n",
    "proto_counts = df['next_établissement_postal'].value_counts()\n",
    "\n",
    "print(proto_counts)\n",
    "\n"
   ]
  },
  {
   "cell_type": "code",
   "execution_count": 19,
   "id": "a8ff1ba4",
   "metadata": {},
   "outputs": [
    {
     "name": "stdout",
     "output_type": "stream",
     "text": [
      "id\n",
      "SG    7537421\n",
      "TR     124549\n",
      "SE      95530\n",
      "US      92173\n",
      "TN      53692\n",
      "UA       6946\n",
      "RO       5240\n",
      "RU       4792\n",
      "FR       4729\n",
      "TH       3896\n",
      "NL       2008\n",
      "BG       1203\n",
      "BA        654\n",
      "PS        612\n",
      "PK        522\n",
      "DE        500\n",
      "AZ        500\n",
      "VN        350\n",
      "LY        344\n",
      "BY        322\n",
      "AL        253\n",
      "GB        251\n",
      "MY        230\n",
      "MK        193\n",
      "TG        133\n",
      "SN        117\n",
      "ES        107\n",
      "LU        104\n",
      "LT         99\n",
      "CN         86\n",
      "IQ         83\n",
      "CA         64\n",
      "MR         60\n",
      "LV         55\n",
      "CZ         49\n",
      "IT         40\n",
      "BH         35\n",
      "MA         27\n",
      "JE         24\n",
      "MN         22\n",
      "ML         20\n",
      "IN         20\n",
      "PT         18\n",
      "KZ         17\n",
      "CH         15\n",
      "CI         14\n",
      "IE         13\n",
      "BF         12\n",
      "MX         12\n",
      "SA         12\n",
      "JP         12\n",
      "KG         11\n",
      "HU         10\n",
      "HR         10\n",
      "DJ          9\n",
      "VA          9\n",
      "OM          9\n",
      "Name: count, dtype: int64\n"
     ]
    }
   ],
   "source": [
    "\n",
    "# Count the occurrences of each protocol\n",
    "proto_counts = df['id'].value_counts()\n",
    "\n",
    "print(proto_counts)\n",
    "\n",
    "s = proto_counts\n"
   ]
  },
  {
   "cell_type": "code",
   "execution_count": 20,
   "id": "bc7a80e2",
   "metadata": {},
   "outputs": [
    {
     "name": "stdout",
     "output_type": "stream",
     "text": [
      "id\n",
      "SINGAPOUR                                   7537421\n",
      "TURQUIE                                      124549\n",
      "SUÈDE                                         95530\n",
      "ÉTATS-UNIS                                    92173\n",
      "TUNISIE                                       53692\n",
      "UKRAINE                                        6946\n",
      "ROUMANIE                                       5240\n",
      "RUSSIE, FÉDÉRATION DE                          4792\n",
      "FRANCE                                         4729\n",
      "THAÏLANDE                                      3896\n",
      "PAYS-BAS                                       2008\n",
      "BULGARIE                                       1203\n",
      "BOSNIE-HERZÉGOVINE                              654\n",
      "PALESTINIEN OCCUPÉ, TERRITOIRE                  612\n",
      "PAKISTAN                                        522\n",
      "ALLEMAGNE                                       500\n",
      "AZERBAÏDJAN                                     500\n",
      "VIET NAM                                        350\n",
      "LIBYENNE, JAMAHIRIYA ARABE                      344\n",
      "BÉLARUS                                         322\n",
      "ALBANIE                                         253\n",
      "ROYAUME-UNI                                     251\n",
      "MALAISIE                                        230\n",
      "MACÉDOINE, L'EX-RÉPUBLIQUE YOUGOSLAVE DE        193\n",
      "TOGO                                            133\n",
      "SÉNÉGAL                                         117\n",
      "ESPAGNE                                         107\n",
      "LUXEMBOURG                                      104\n",
      "LITUANIE                                         99\n",
      "CHINE                                            86\n",
      "IRAQ                                             83\n",
      "CANADA                                           64\n",
      "MAURITANIE                                       60\n",
      "LETTONIE                                         55\n",
      "TCHÈQUE, RÉPUBLIQUE                              49\n",
      "ITALIE                                           40\n",
      "BAHREÏN                                          35\n",
      "MAROC                                            27\n",
      "JE                                               24\n",
      "MONGOLIE                                         22\n",
      "MALI                                             20\n",
      "INDE                                             20\n",
      "PORTUGAL                                         18\n",
      "KAZAKHSTAN                                       17\n",
      "SUISSE                                           15\n",
      "CÔTE D'IVOIRE                                    14\n",
      "IRLANDE                                          13\n",
      "BURKINA FASO                                     12\n",
      "MEXIQUE                                          12\n",
      "ARABIE SAOUDITE                                  12\n",
      "JAPON                                            12\n",
      "KIRGHIZISTAN                                     11\n",
      "HONGRIE                                          10\n",
      "CROATIE                                          10\n",
      "DJIBOUTI                                          9\n",
      "SAINT-SIÈGE (ÉTAT DE LA CITÉ DU VATICAN)          9\n",
      "OMAN                                              9\n",
      "Name: count, dtype: int64\n"
     ]
    }
   ],
   "source": [
    "# Map the Series index using the country_dict\n",
    "s.index = s.index.map(lambda code: country_dict.get(code, code))  # Keep unmapped codes as-is\n",
    "print(s)"
   ]
  },
  {
   "cell_type": "code",
   "execution_count": 21,
   "id": "ccd08de2",
   "metadata": {},
   "outputs": [
    {
     "name": "stdout",
     "output_type": "stream",
     "text": [
      "Min date: 2020-12-14 12:20:32.043\n",
      "Max date: 2025-05-21 15:54:58.333\n"
     ]
    }
   ],
   "source": [
    "print(\"Min date:\", df[\"date\"].min())\n",
    "print(\"Max date:\", df[\"date\"].max())"
   ]
  },
  {
   "cell_type": "code",
   "execution_count": 22,
   "id": "6acf2a8f",
   "metadata": {},
   "outputs": [
    {
     "name": "stderr",
     "output_type": "stream",
     "text": [
      "C:\\Users\\oussa\\AppData\\Local\\Temp\\ipykernel_22948\\579475394.py:2: UserWarning: The argument 'infer_datetime_format' is deprecated and will be removed in a future version. A strict version of it is now the default, see https://pandas.pydata.org/pdeps/0004-consistent-to-datetime-parsing.html. You can safely remove this argument.\n",
      "  df[\"date\"] = pd.to_datetime(df[\"date\"], infer_datetime_format=True)\n"
     ]
    }
   ],
   "source": [
    "df[\"date\"] = df[\"date\"].str.replace(r'\\.\\d+$', '', regex=True)\n",
    "df[\"date\"] = pd.to_datetime(df[\"date\"], infer_datetime_format=True)"
   ]
  },
  {
   "cell_type": "code",
   "execution_count": 23,
   "id": "9a6d3a40",
   "metadata": {},
   "outputs": [],
   "source": [
    "df = df.sort_values(by=[\"MAILITM_FID\", \"date\"])\n",
    "\n",
    "# Calculate time to next step\n",
    "df[\"duration_to_next_step\"] = df.groupby(\"MAILITM_FID\")[\"date\"].shift(-1) - df[\"date\"]\n",
    "\n",
    "# Calculate total duration per ID\n",
    "first_date = df.groupby(\"MAILITM_FID\")[\"date\"].transform(\"first\")\n",
    "last_date = df.groupby(\"MAILITM_FID\")[\"date\"].transform(\"last\")\n",
    "df[\"total_duration\"] = last_date - first_date\n",
    "\n",
    "\n"
   ]
  },
  {
   "cell_type": "code",
   "execution_count": 24,
   "id": "0d6f26da",
   "metadata": {},
   "outputs": [
    {
     "data": {
      "application/vnd.microsoft.datawrangler.viewer.v0+json": {
       "columns": [
        {
         "name": "index",
         "rawType": "int64",
         "type": "integer"
        },
        {
         "name": "MAILITM_FID",
         "rawType": "object",
         "type": "string"
        },
        {
         "name": "date",
         "rawType": "datetime64[ns]",
         "type": "datetime"
        },
        {
         "name": "EVENT_TYPE_NM",
         "rawType": "object",
         "type": "string"
        },
        {
         "name": "duration_to_next_step",
         "rawType": "timedelta64[ns]",
         "type": "unknown"
        },
        {
         "name": "total_duration",
         "rawType": "timedelta64[ns]",
         "type": "unknown"
        }
       ],
       "ref": "fd4bb57f-93ad-4183-b989-12d894f97815",
       "rows": [
        [
         "0",
         "CA000020800LY",
         "2022-02-03 10:19:00",
         "Insérer envoi dans sac (Srt)",
         "6 days 22:15:00",
         "24 days 23:11:23"
        ],
        [
         "1",
         "CA000020800LY",
         "2022-02-10 08:34:00",
         "Insérer envoi dans sac (Srt)",
         "2 days 05:41:00",
         "24 days 23:11:23"
        ],
        [
         "780852",
         "CA000020800LY",
         "2022-02-12 14:15:00",
         "Expédition d'envoi à l'étranger (EDI-reçu)",
         "9 days 19:35:25",
         "24 days 23:11:23"
        ],
        [
         "3499208",
         "CA000020800LY",
         "2022-02-22 09:50:25",
         "Recevoir envoi au bureau d'échange (Ent)",
         "0 days 00:01:38",
         "24 days 23:11:23"
        ],
        [
         "3499209",
         "CA000020800LY",
         "2022-02-22 09:52:03",
         "Expédier envoi à adresse nationale (Ent)",
         "0 days 00:42:49",
         "24 days 23:11:23"
        ],
        [
         "3499210",
         "CA000020800LY",
         "2022-02-22 10:34:52",
         "Expédier envoi à adresse nationale (Ent)",
         "1 days 23:56:45",
         "24 days 23:11:23"
        ],
        [
         "3499211",
         "CA000020800LY",
         "2022-02-24 10:31:37",
         "Expédier envoi à adresse nationale (Srt)",
         "1 days 23:49:42",
         "24 days 23:11:23"
        ],
        [
         "3499212",
         "CA000020800LY",
         "2022-02-26 10:21:19",
         "Recevoir envoi au bureau de livraison (Ent)",
         "0 days 00:02:44",
         "24 days 23:11:23"
        ],
        [
         "3499213",
         "CA000020800LY",
         "2022-02-26 10:24:03",
         "Expédier envoi à adresse nationale (Srt)",
         "0 days 23:16:12",
         "24 days 23:11:23"
        ],
        [
         "3499214",
         "CA000020800LY",
         "2022-02-27 09:40:15",
         "Recevoir envoi au bureau de livraison (Ent)",
         "0 days 00:00:35",
         "24 days 23:11:23"
        ]
       ],
       "shape": {
        "columns": 5,
        "rows": 10
       }
      },
      "text/html": [
       "<div>\n",
       "<style scoped>\n",
       "    .dataframe tbody tr th:only-of-type {\n",
       "        vertical-align: middle;\n",
       "    }\n",
       "\n",
       "    .dataframe tbody tr th {\n",
       "        vertical-align: top;\n",
       "    }\n",
       "\n",
       "    .dataframe thead th {\n",
       "        text-align: right;\n",
       "    }\n",
       "</style>\n",
       "<table border=\"1\" class=\"dataframe\">\n",
       "  <thead>\n",
       "    <tr style=\"text-align: right;\">\n",
       "      <th></th>\n",
       "      <th>MAILITM_FID</th>\n",
       "      <th>date</th>\n",
       "      <th>EVENT_TYPE_NM</th>\n",
       "      <th>duration_to_next_step</th>\n",
       "      <th>total_duration</th>\n",
       "    </tr>\n",
       "  </thead>\n",
       "  <tbody>\n",
       "    <tr>\n",
       "      <th>0</th>\n",
       "      <td>CA000020800LY</td>\n",
       "      <td>2022-02-03 10:19:00</td>\n",
       "      <td>Insérer envoi dans sac (Srt)</td>\n",
       "      <td>6 days 22:15:00</td>\n",
       "      <td>24 days 23:11:23</td>\n",
       "    </tr>\n",
       "    <tr>\n",
       "      <th>1</th>\n",
       "      <td>CA000020800LY</td>\n",
       "      <td>2022-02-10 08:34:00</td>\n",
       "      <td>Insérer envoi dans sac (Srt)</td>\n",
       "      <td>2 days 05:41:00</td>\n",
       "      <td>24 days 23:11:23</td>\n",
       "    </tr>\n",
       "    <tr>\n",
       "      <th>780852</th>\n",
       "      <td>CA000020800LY</td>\n",
       "      <td>2022-02-12 14:15:00</td>\n",
       "      <td>Expédition d'envoi à l'étranger (EDI-reçu)</td>\n",
       "      <td>9 days 19:35:25</td>\n",
       "      <td>24 days 23:11:23</td>\n",
       "    </tr>\n",
       "    <tr>\n",
       "      <th>3499208</th>\n",
       "      <td>CA000020800LY</td>\n",
       "      <td>2022-02-22 09:50:25</td>\n",
       "      <td>Recevoir envoi au bureau d'échange (Ent)</td>\n",
       "      <td>0 days 00:01:38</td>\n",
       "      <td>24 days 23:11:23</td>\n",
       "    </tr>\n",
       "    <tr>\n",
       "      <th>3499209</th>\n",
       "      <td>CA000020800LY</td>\n",
       "      <td>2022-02-22 09:52:03</td>\n",
       "      <td>Expédier envoi à adresse nationale (Ent)</td>\n",
       "      <td>0 days 00:42:49</td>\n",
       "      <td>24 days 23:11:23</td>\n",
       "    </tr>\n",
       "    <tr>\n",
       "      <th>3499210</th>\n",
       "      <td>CA000020800LY</td>\n",
       "      <td>2022-02-22 10:34:52</td>\n",
       "      <td>Expédier envoi à adresse nationale (Ent)</td>\n",
       "      <td>1 days 23:56:45</td>\n",
       "      <td>24 days 23:11:23</td>\n",
       "    </tr>\n",
       "    <tr>\n",
       "      <th>3499211</th>\n",
       "      <td>CA000020800LY</td>\n",
       "      <td>2022-02-24 10:31:37</td>\n",
       "      <td>Expédier envoi à adresse nationale (Srt)</td>\n",
       "      <td>1 days 23:49:42</td>\n",
       "      <td>24 days 23:11:23</td>\n",
       "    </tr>\n",
       "    <tr>\n",
       "      <th>3499212</th>\n",
       "      <td>CA000020800LY</td>\n",
       "      <td>2022-02-26 10:21:19</td>\n",
       "      <td>Recevoir envoi au bureau de livraison (Ent)</td>\n",
       "      <td>0 days 00:02:44</td>\n",
       "      <td>24 days 23:11:23</td>\n",
       "    </tr>\n",
       "    <tr>\n",
       "      <th>3499213</th>\n",
       "      <td>CA000020800LY</td>\n",
       "      <td>2022-02-26 10:24:03</td>\n",
       "      <td>Expédier envoi à adresse nationale (Srt)</td>\n",
       "      <td>0 days 23:16:12</td>\n",
       "      <td>24 days 23:11:23</td>\n",
       "    </tr>\n",
       "    <tr>\n",
       "      <th>3499214</th>\n",
       "      <td>CA000020800LY</td>\n",
       "      <td>2022-02-27 09:40:15</td>\n",
       "      <td>Recevoir envoi au bureau de livraison (Ent)</td>\n",
       "      <td>0 days 00:00:35</td>\n",
       "      <td>24 days 23:11:23</td>\n",
       "    </tr>\n",
       "  </tbody>\n",
       "</table>\n",
       "</div>"
      ],
      "text/plain": [
       "           MAILITM_FID                date  \\\n",
       "0        CA000020800LY 2022-02-03 10:19:00   \n",
       "1        CA000020800LY 2022-02-10 08:34:00   \n",
       "780852   CA000020800LY 2022-02-12 14:15:00   \n",
       "3499208  CA000020800LY 2022-02-22 09:50:25   \n",
       "3499209  CA000020800LY 2022-02-22 09:52:03   \n",
       "3499210  CA000020800LY 2022-02-22 10:34:52   \n",
       "3499211  CA000020800LY 2022-02-24 10:31:37   \n",
       "3499212  CA000020800LY 2022-02-26 10:21:19   \n",
       "3499213  CA000020800LY 2022-02-26 10:24:03   \n",
       "3499214  CA000020800LY 2022-02-27 09:40:15   \n",
       "\n",
       "                                       EVENT_TYPE_NM duration_to_next_step  \\\n",
       "0                       Insérer envoi dans sac (Srt)       6 days 22:15:00   \n",
       "1                       Insérer envoi dans sac (Srt)       2 days 05:41:00   \n",
       "780852    Expédition d'envoi à l'étranger (EDI-reçu)       9 days 19:35:25   \n",
       "3499208     Recevoir envoi au bureau d'échange (Ent)       0 days 00:01:38   \n",
       "3499209     Expédier envoi à adresse nationale (Ent)       0 days 00:42:49   \n",
       "3499210     Expédier envoi à adresse nationale (Ent)       1 days 23:56:45   \n",
       "3499211     Expédier envoi à adresse nationale (Srt)       1 days 23:49:42   \n",
       "3499212  Recevoir envoi au bureau de livraison (Ent)       0 days 00:02:44   \n",
       "3499213     Expédier envoi à adresse nationale (Srt)       0 days 23:16:12   \n",
       "3499214  Recevoir envoi au bureau de livraison (Ent)       0 days 00:00:35   \n",
       "\n",
       "          total_duration  \n",
       "0       24 days 23:11:23  \n",
       "1       24 days 23:11:23  \n",
       "780852  24 days 23:11:23  \n",
       "3499208 24 days 23:11:23  \n",
       "3499209 24 days 23:11:23  \n",
       "3499210 24 days 23:11:23  \n",
       "3499211 24 days 23:11:23  \n",
       "3499212 24 days 23:11:23  \n",
       "3499213 24 days 23:11:23  \n",
       "3499214 24 days 23:11:23  "
      ]
     },
     "execution_count": 24,
     "metadata": {},
     "output_type": "execute_result"
    }
   ],
   "source": [
    "# Preview the updated dataset\n",
    "df[[\"MAILITM_FID\", \"date\", \"EVENT_TYPE_NM\", \"duration_to_next_step\", \"total_duration\"]].head(10)"
   ]
  },
  {
   "cell_type": "code",
   "execution_count": 25,
   "id": "8c2892dc",
   "metadata": {},
   "outputs": [
    {
     "data": {
      "text/plain": [
       "(0, 9)"
      ]
     },
     "execution_count": 25,
     "metadata": {},
     "output_type": "execute_result"
    }
   ],
   "source": [
    "# Filter rows where total_duration is NOT zero\n",
    "zero_duration_df = df[df[\"total_duration\"] <= pd.Timedelta(days = 1)]\n",
    "\n",
    "# Display the first few rows as a check\n",
    "zero_duration_df.shape\n"
   ]
  },
  {
   "cell_type": "code",
   "execution_count": 38,
   "id": "df1b35b9",
   "metadata": {},
   "outputs": [
    {
     "name": "stdout",
     "output_type": "stream",
     "text": [
      "Series([], Name: count, dtype: int64)\n"
     ]
    }
   ],
   "source": [
    "\n",
    "# Count the occurrences of each protocol\n",
    "countries = zero_duration_df['id'].value_counts()\n",
    "\n",
    "print(countries)\n"
   ]
  },
  {
   "cell_type": "code",
   "execution_count": 39,
   "id": "e851fa13",
   "metadata": {},
   "outputs": [
    {
     "name": "stdout",
     "output_type": "stream",
     "text": [
      "Series([], Name: count, dtype: int64)\n"
     ]
    }
   ],
   "source": [
    "# Map the Series index using the country_dict\n",
    "countries.index = countries.index.map(lambda code: country_dict.get(code, code))  \n",
    "print(countries)"
   ]
  },
  {
   "cell_type": "code",
   "execution_count": 40,
   "id": "8a647bfb",
   "metadata": {},
   "outputs": [
    {
     "name": "stdout",
     "output_type": "stream",
     "text": [
      "Series([], Name: count, dtype: int64)\n"
     ]
    }
   ],
   "source": [
    "# Step 1: Count how many times each ID appears\n",
    "id_counts = zero_duration_df[\"MAILITM_FID\"].value_counts()\n",
    "\n",
    "# Step 2: Count how many IDs have a specific count\n",
    "count_of_counts = id_counts.value_counts().sort_index()\n",
    "\n",
    "print(count_of_counts)\n"
   ]
  },
  {
   "cell_type": "code",
   "execution_count": 41,
   "id": "b2afa544",
   "metadata": {},
   "outputs": [
    {
     "data": {
      "application/vnd.microsoft.datawrangler.viewer.v0+json": {
       "columns": [
        {
         "name": "index",
         "rawType": "int64",
         "type": "integer"
        },
        {
         "name": "MAILITM_FID",
         "rawType": "object",
         "type": "string"
        },
        {
         "name": "EVENT_TYPE_NM",
         "rawType": "object",
         "type": "string"
        },
        {
         "name": "date",
         "rawType": "datetime64[ns]",
         "type": "datetime"
        },
        {
         "name": "établissement_postal",
         "rawType": "object",
         "type": "string"
        },
        {
         "name": "EVENT_TYPE_CD",
         "rawType": "int64",
         "type": "integer"
        },
        {
         "name": "next_établissement_postal",
         "rawType": "object",
         "type": "string"
        },
        {
         "name": "id",
         "rawType": "object",
         "type": "string"
        },
        {
         "name": "duration_to_next_step",
         "rawType": "timedelta64[ns]",
         "type": "unknown"
        },
        {
         "name": "total_duration",
         "rawType": "timedelta64[ns]",
         "type": "unknown"
        }
       ],
       "ref": "0ed1c4ca-97d5-46fc-8df9-781c8e011d60",
       "rows": [],
       "shape": {
        "columns": 9,
        "rows": 0
       }
      },
      "text/html": [
       "<div>\n",
       "<style scoped>\n",
       "    .dataframe tbody tr th:only-of-type {\n",
       "        vertical-align: middle;\n",
       "    }\n",
       "\n",
       "    .dataframe tbody tr th {\n",
       "        vertical-align: top;\n",
       "    }\n",
       "\n",
       "    .dataframe thead th {\n",
       "        text-align: right;\n",
       "    }\n",
       "</style>\n",
       "<table border=\"1\" class=\"dataframe\">\n",
       "  <thead>\n",
       "    <tr style=\"text-align: right;\">\n",
       "      <th></th>\n",
       "      <th>MAILITM_FID</th>\n",
       "      <th>EVENT_TYPE_NM</th>\n",
       "      <th>date</th>\n",
       "      <th>établissement_postal</th>\n",
       "      <th>EVENT_TYPE_CD</th>\n",
       "      <th>next_établissement_postal</th>\n",
       "      <th>id</th>\n",
       "      <th>duration_to_next_step</th>\n",
       "      <th>total_duration</th>\n",
       "    </tr>\n",
       "  </thead>\n",
       "  <tbody>\n",
       "  </tbody>\n",
       "</table>\n",
       "</div>"
      ],
      "text/plain": [
       "Empty DataFrame\n",
       "Columns: [MAILITM_FID, EVENT_TYPE_NM, date, établissement_postal, EVENT_TYPE_CD, next_établissement_postal, id, duration_to_next_step, total_duration]\n",
       "Index: []"
      ]
     },
     "execution_count": 41,
     "metadata": {},
     "output_type": "execute_result"
    }
   ],
   "source": [
    "ids_with_0 = id_counts[id_counts == 2].index\n",
    "df_with_0 = df[df[\"MAILITM_FID\"].isin(ids_with_0)]\n",
    "df_with_0.head()"
   ]
  },
  {
   "cell_type": "code",
   "execution_count": 42,
   "id": "3de28be6",
   "metadata": {},
   "outputs": [
    {
     "name": "stdout",
     "output_type": "stream",
     "text": [
      "Series([], Name: count, dtype: int64)\n"
     ]
    }
   ],
   "source": [
    "\n",
    "# Count the occurrences of each protocol\n",
    "event_type = df_with_0['EVENT_TYPE_NM'].value_counts()\n",
    "\n",
    "print(event_type)\n",
    "\n"
   ]
  },
  {
   "cell_type": "code",
   "execution_count": 26,
   "id": "c0b7faf2",
   "metadata": {},
   "outputs": [
    {
     "name": "stdout",
     "output_type": "stream",
     "text": [
      "(7938238, 9)\n"
     ]
    }
   ],
   "source": [
    "# Drop rows where total_duration is zero\n",
    "df = df[df[\"total_duration\"] != pd.Timedelta(0)]\n",
    "\n",
    "# Check the shape after dropping\n",
    "print(df.shape)\n"
   ]
  },
  {
   "cell_type": "code",
   "execution_count": 27,
   "id": "e5215d31",
   "metadata": {},
   "outputs": [],
   "source": [
    "df.to_csv(file_name, index=False, encoding='utf-8-sig')"
   ]
  },
  {
   "cell_type": "code",
   "execution_count": null,
   "id": "93ae86aa",
   "metadata": {},
   "outputs": [],
   "source": []
  }
 ],
 "metadata": {
  "kernelspec": {
   "display_name": "base",
   "language": "python",
   "name": "python3"
  },
  "language_info": {
   "codemirror_mode": {
    "name": "ipython",
    "version": 3
   },
   "file_extension": ".py",
   "mimetype": "text/x-python",
   "name": "python",
   "nbconvert_exporter": "python",
   "pygments_lexer": "ipython3",
   "version": "3.10.9"
  }
 },
 "nbformat": 4,
 "nbformat_minor": 5
}
